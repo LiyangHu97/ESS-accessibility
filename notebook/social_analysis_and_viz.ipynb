{
 "cells": [
  {
   "cell_type": "code",
   "execution_count": 1,
   "id": "1dedcedc",
   "metadata": {},
   "outputs": [],
   "source": [
    "import pandas as pd\n",
    "import geopandas as gpd\n",
    "import matplotlib.pyplot as plt\n",
    "import transbigdata as tbd"
   ]
  },
  {
   "cell_type": "code",
   "execution_count": 2,
   "id": "540c40fc",
   "metadata": {},
   "outputs": [],
   "source": [
    "from matplotlib import rc\n",
    "\n",
    "\n",
    "rc('font', **{'family': 'serif', 'serif': ['Computer Modern']})\n",
    "rc('text', usetex=True)\n",
    "plt.rcParams.update({'font.size': 26})"
   ]
  },
  {
   "cell_type": "code",
   "execution_count": 3,
   "id": "5d7335dd",
   "metadata": {},
   "outputs": [
    {
     "name": "stdout",
     "output_type": "stream",
     "text": [
      "3363\n"
     ]
    },
    {
     "data": {
      "text/html": [
       "<div>\n",
       "<style scoped>\n",
       "    .dataframe tbody tr th:only-of-type {\n",
       "        vertical-align: middle;\n",
       "    }\n",
       "\n",
       "    .dataframe tbody tr th {\n",
       "        vertical-align: top;\n",
       "    }\n",
       "\n",
       "    .dataframe thead th {\n",
       "        text-align: right;\n",
       "    }\n",
       "</style>\n",
       "<table border=\"1\" class=\"dataframe\">\n",
       "  <thead>\n",
       "    <tr style=\"text-align: right;\">\n",
       "      <th></th>\n",
       "      <th>zone</th>\n",
       "      <th>grid_size</th>\n",
       "      <th>income_q1</th>\n",
       "      <th>income_q2</th>\n",
       "      <th>income_q3</th>\n",
       "      <th>income_q4</th>\n",
       "      <th>income_med</th>\n",
       "      <th>pop_income</th>\n",
       "      <th>birth_se</th>\n",
       "      <th>birth_nord</th>\n",
       "      <th>...</th>\n",
       "      <th>car_ownership</th>\n",
       "      <th>access</th>\n",
       "      <th>gain_ratio</th>\n",
       "      <th>nativity</th>\n",
       "      <th>q1_share</th>\n",
       "      <th>q4_share</th>\n",
       "      <th>q23_share</th>\n",
       "      <th>ICE_income</th>\n",
       "      <th>Income</th>\n",
       "      <th>geometry</th>\n",
       "    </tr>\n",
       "  </thead>\n",
       "  <tbody>\n",
       "    <tr>\n",
       "      <th>0</th>\n",
       "      <td>3230006403750</td>\n",
       "      <td>250</td>\n",
       "      <td>31.0</td>\n",
       "      <td>30.0</td>\n",
       "      <td>26.0</td>\n",
       "      <td>24.0</td>\n",
       "      <td>227829.0</td>\n",
       "      <td>111.0</td>\n",
       "      <td>133.0</td>\n",
       "      <td>7.0</td>\n",
       "      <td>...</td>\n",
       "      <td>0.281923</td>\n",
       "      <td>35333.313673</td>\n",
       "      <td>0.471895</td>\n",
       "      <td>foreign-born</td>\n",
       "      <td>0.279279</td>\n",
       "      <td>0.216216</td>\n",
       "      <td>0.504505</td>\n",
       "      <td>-0.084337</td>\n",
       "      <td>non-segregated</td>\n",
       "      <td>POLYGON ((12.02641 57.74090, 12.02623 57.74314...</td>\n",
       "    </tr>\n",
       "    <tr>\n",
       "      <th>1</th>\n",
       "      <td>3210006409000</td>\n",
       "      <td>250</td>\n",
       "      <td>3.0</td>\n",
       "      <td>6.0</td>\n",
       "      <td>8.0</td>\n",
       "      <td>6.0</td>\n",
       "      <td>264116.0</td>\n",
       "      <td>23.0</td>\n",
       "      <td>48.0</td>\n",
       "      <td>0.0</td>\n",
       "      <td>...</td>\n",
       "      <td>0.456395</td>\n",
       "      <td>33727.233443</td>\n",
       "      <td>3.437490</td>\n",
       "      <td>foreign-born</td>\n",
       "      <td>0.130435</td>\n",
       "      <td>0.260870</td>\n",
       "      <td>0.608696</td>\n",
       "      <td>0.187500</td>\n",
       "      <td>non-segregated</td>\n",
       "      <td>POLYGON ((11.98895 57.78720, 11.98876 57.78944...</td>\n",
       "    </tr>\n",
       "  </tbody>\n",
       "</table>\n",
       "<p>2 rows × 26 columns</p>\n",
       "</div>"
      ],
      "text/plain": [
       "            zone  grid_size  income_q1  income_q2  income_q3  income_q4  \\\n",
       "0  3230006403750        250       31.0       30.0       26.0       24.0   \n",
       "1  3210006409000        250        3.0        6.0        8.0        6.0   \n",
       "\n",
       "   income_med  pop_income  birth_se  birth_nord  ...  car_ownership  \\\n",
       "0    227829.0       111.0     133.0         7.0  ...       0.281923   \n",
       "1    264116.0        23.0      48.0         0.0  ...       0.456395   \n",
       "\n",
       "         access  gain_ratio      nativity  q1_share  q4_share  q23_share  \\\n",
       "0  35333.313673    0.471895  foreign-born  0.279279  0.216216   0.504505   \n",
       "1  33727.233443    3.437490  foreign-born  0.130435  0.260870   0.608696   \n",
       "\n",
       "   ICE_income          Income  \\\n",
       "0   -0.084337  non-segregated   \n",
       "1    0.187500  non-segregated   \n",
       "\n",
       "                                            geometry  \n",
       "0  POLYGON ((12.02641 57.74090, 12.02623 57.74314...  \n",
       "1  POLYGON ((11.98895 57.78720, 11.98876 57.78944...  \n",
       "\n",
       "[2 rows x 26 columns]"
      ]
     },
     "execution_count": 3,
     "metadata": {},
     "output_type": "execute_result"
    }
   ],
   "source": [
    "jobs = gpd.read_file('dbs/jobs.shp') # 4326\n",
    "jobs = jobs.to_crs(4326)\n",
    "jobs.rename(columns={'car_owners': 'car_ownership'}, inplace=True)\n",
    "print(len(jobs))\n",
    "jobs.head(2)"
   ]
  },
  {
   "cell_type": "code",
   "execution_count": 83,
   "id": "8727ee01",
   "metadata": {},
   "outputs": [
    {
     "name": "stdout",
     "output_type": "stream",
     "text": [
      "number of non-pop regions: 0\n",
      "segregated towards native-born: 1413\n",
      "segregated towards foreign-born: 865\n",
      "non-segregated: 1085\n"
     ]
    }
   ],
   "source": [
    "print('number of non-pop regions:', np.sum(jobs['pop']==0))\n",
    "print('segregated towards native-born:', np.sum(jobs['adj_ICE'] >= 0.2))\n",
    "print('segregated towards foreign-born:', np.sum(jobs['adj_ICE'] <= -0.2))\n",
    "print('non-segregated:', np.sum((jobs['adj_ICE'] > -0.2) & (jobs['adj_ICE'] < 0.2)))"
   ]
  },
  {
   "cell_type": "code",
   "execution_count": 84,
   "id": "bdcdc7ba",
   "metadata": {},
   "outputs": [
    {
     "data": {
      "text/html": [
       "<div>\n",
       "<style scoped>\n",
       "    .dataframe tbody tr th:only-of-type {\n",
       "        vertical-align: middle;\n",
       "    }\n",
       "\n",
       "    .dataframe tbody tr th {\n",
       "        vertical-align: top;\n",
       "    }\n",
       "\n",
       "    .dataframe thead th {\n",
       "        text-align: right;\n",
       "    }\n",
       "</style>\n",
       "<table border=\"1\" class=\"dataframe\">\n",
       "  <thead>\n",
       "    <tr style=\"text-align: right;\">\n",
       "      <th></th>\n",
       "      <th>zone</th>\n",
       "      <th>grid_size</th>\n",
       "      <th>income_q1</th>\n",
       "      <th>income_q2</th>\n",
       "      <th>income_q3</th>\n",
       "      <th>income_q4</th>\n",
       "      <th>income_med</th>\n",
       "      <th>pop_income</th>\n",
       "      <th>birth_se</th>\n",
       "      <th>birth_nord</th>\n",
       "      <th>...</th>\n",
       "      <th>car_ownership</th>\n",
       "      <th>access</th>\n",
       "      <th>gain_ratio</th>\n",
       "      <th>nativity</th>\n",
       "      <th>q1_share</th>\n",
       "      <th>q4_share</th>\n",
       "      <th>q23_share</th>\n",
       "      <th>ICE_income</th>\n",
       "      <th>Income</th>\n",
       "      <th>geometry</th>\n",
       "    </tr>\n",
       "  </thead>\n",
       "  <tbody>\n",
       "    <tr>\n",
       "      <th>0</th>\n",
       "      <td>3230006403750</td>\n",
       "      <td>250</td>\n",
       "      <td>31.0</td>\n",
       "      <td>30.0</td>\n",
       "      <td>26.0</td>\n",
       "      <td>24.0</td>\n",
       "      <td>227829.0</td>\n",
       "      <td>111.0</td>\n",
       "      <td>133.0</td>\n",
       "      <td>7.0</td>\n",
       "      <td>...</td>\n",
       "      <td>0.281923</td>\n",
       "      <td>35333.313673</td>\n",
       "      <td>0.471895</td>\n",
       "      <td>foreign-born</td>\n",
       "      <td>0.279279</td>\n",
       "      <td>0.216216</td>\n",
       "      <td>0.504505</td>\n",
       "      <td>-0.084337</td>\n",
       "      <td>non-segregated</td>\n",
       "      <td>POLYGON ((12.02641 57.74090, 12.02623 57.74314...</td>\n",
       "    </tr>\n",
       "    <tr>\n",
       "      <th>1</th>\n",
       "      <td>3210006409000</td>\n",
       "      <td>250</td>\n",
       "      <td>3.0</td>\n",
       "      <td>6.0</td>\n",
       "      <td>8.0</td>\n",
       "      <td>6.0</td>\n",
       "      <td>264116.0</td>\n",
       "      <td>23.0</td>\n",
       "      <td>48.0</td>\n",
       "      <td>0.0</td>\n",
       "      <td>...</td>\n",
       "      <td>0.456395</td>\n",
       "      <td>33727.233443</td>\n",
       "      <td>3.437490</td>\n",
       "      <td>foreign-born</td>\n",
       "      <td>0.130435</td>\n",
       "      <td>0.260870</td>\n",
       "      <td>0.608696</td>\n",
       "      <td>0.187500</td>\n",
       "      <td>non-segregated</td>\n",
       "      <td>POLYGON ((11.98895 57.78720, 11.98876 57.78944...</td>\n",
       "    </tr>\n",
       "  </tbody>\n",
       "</table>\n",
       "<p>2 rows × 26 columns</p>\n",
       "</div>"
      ],
      "text/plain": [
       "            zone  grid_size  income_q1  income_q2  income_q3  income_q4  \\\n",
       "0  3230006403750        250       31.0       30.0       26.0       24.0   \n",
       "1  3210006409000        250        3.0        6.0        8.0        6.0   \n",
       "\n",
       "   income_med  pop_income  birth_se  birth_nord  ...  car_ownership  \\\n",
       "0    227829.0       111.0     133.0         7.0  ...       0.281923   \n",
       "1    264116.0        23.0      48.0         0.0  ...       0.456395   \n",
       "\n",
       "         access  gain_ratio      nativity  q1_share  q4_share  q23_share  \\\n",
       "0  35333.313673    0.471895  foreign-born  0.279279  0.216216   0.504505   \n",
       "1  33727.233443    3.437490  foreign-born  0.130435  0.260870   0.608696   \n",
       "\n",
       "   ICE_income          Income  \\\n",
       "0   -0.084337  non-segregated   \n",
       "1    0.187500  non-segregated   \n",
       "\n",
       "                                            geometry  \n",
       "0  POLYGON ((12.02641 57.74090, 12.02623 57.74314...  \n",
       "1  POLYGON ((11.98895 57.78720, 11.98876 57.78944...  \n",
       "\n",
       "[2 rows x 26 columns]"
      ]
     },
     "execution_count": 84,
     "metadata": {},
     "output_type": "execute_result"
    }
   ],
   "source": [
    "jobs = jobs[jobs['pop'] != 0]\n",
    "\n",
    "jobs.loc[jobs['adj_ICE'] <= -0.2, 'nativity'] = 'foreign-born'\n",
    "jobs.loc[jobs['adj_ICE'] >= 0.2, 'nativity'] = 'native-born'\n",
    "jobs.loc[(jobs['adj_ICE'] > -0.2) & (jobs['adj_ICE'] < 0.2), 'nativity'] = 'non-segregated'\n",
    "\n",
    "jobs.head(2)"
   ]
  },
  {
   "cell_type": "code",
   "execution_count": 85,
   "id": "6c57a8b6",
   "metadata": {},
   "outputs": [],
   "source": [
    "jobs['Income'] = jobs['Income'].replace({\n",
    "    'less wealthy': 'low-income',\n",
    "    'wealthy': 'high-income',\n",
    "    'non-segregated': 'moderate'\n",
    "})\n"
   ]
  },
  {
   "cell_type": "markdown",
   "id": "7fc9efa9",
   "metadata": {},
   "source": [
    "# Initial visualization"
   ]
  },
  {
   "cell_type": "code",
   "execution_count": 86,
   "id": "05984fb1",
   "metadata": {},
   "outputs": [],
   "source": [
    "min_lon = 11.65\n",
    "min_lat = 57.53\n",
    "max_lon = 12.30\n",
    "max_lat = 57.88\n",
    "bounding_box = (min_lon, min_lat, max_lon, max_lat)\n"
   ]
  },
  {
   "cell_type": "code",
   "execution_count": null,
   "id": "27373b4b",
   "metadata": {
    "scrolled": true
   },
   "outputs": [],
   "source": [
    "jobs = jobs.to_crs(4326)\n",
    "\n",
    "fig = plt.figure(1, (18, 16), dpi=500)\n",
    "ax = plt.subplot(111)\n",
    "plt.sca(ax)\n",
    "tbd.plot_map(plt, bounds=bounding_box, zoom=13)\n",
    "\n",
    "jobs.plot(column='nativity', cmap='viridis_r', ax=ax, legend=True, alpha=0.7)\n",
    "\n",
    "plt.title('nativity', fontsize = 28)\n",
    "plt.xlabel('Longitude', fontsize = 24)\n",
    "plt.ylabel('Latitude', fontsize = 24)\n",
    "plt.xticks(fontsize=20)\n",
    "plt.yticks(fontsize=20)\n",
    "plt.show()"
   ]
  },
  {
   "cell_type": "code",
   "execution_count": null,
   "id": "e9fcf4fc",
   "metadata": {},
   "outputs": [],
   "source": [
    "jobs = jobs.to_crs(4326)\n",
    "\n",
    "fig = plt.figure(1, (18, 16), dpi=500)\n",
    "ax = plt.subplot(111)\n",
    "plt.sca(ax)\n",
    "tbd.plot_map(plt, bounds=bounding_box, zoom=13)\n",
    "\n",
    "jobs.plot(column='Income', cmap='viridis', ax=ax, legend=True, alpha=0.7)\n",
    "\n",
    "plt.title('Income', fontsize = 28)\n",
    "plt.xlabel('Longitude', fontsize = 24)\n",
    "plt.ylabel('Latitude', fontsize = 24)\n",
    "plt.xticks(fontsize=20)\n",
    "plt.yticks(fontsize=20)\n",
    "plt.show()"
   ]
  },
  {
   "cell_type": "code",
   "execution_count": null,
   "id": "2196768a",
   "metadata": {
    "scrolled": false
   },
   "outputs": [],
   "source": [
    "fig = plt.figure(1, (18, 16), dpi=500)\n",
    "ax = plt.subplot(111)\n",
    "plt.sca(ax)\n",
    "tbd.plot_map(plt, bounds=bounding_box, zoom=13)\n",
    "\n",
    "jobs.plot(column='car_ownership', cmap='viridis', ax=ax, legend=True, alpha=0.7)\n",
    "\n",
    "plt.title('car ownership', fontsize = 28)\n",
    "plt.xlabel('Longitude', fontsize = 24)\n",
    "plt.ylabel('Latitude', fontsize = 24)\n",
    "plt.xticks(fontsize=20)\n",
    "plt.yticks(fontsize=20)\n",
    "plt.show()"
   ]
  },
  {
   "cell_type": "code",
   "execution_count": 88,
   "id": "23cdd2e9",
   "metadata": {
    "scrolled": true
   },
   "outputs": [
    {
     "data": {
      "text/html": [
       "<div>\n",
       "<style scoped>\n",
       "    .dataframe tbody tr th:only-of-type {\n",
       "        vertical-align: middle;\n",
       "    }\n",
       "\n",
       "    .dataframe tbody tr th {\n",
       "        vertical-align: top;\n",
       "    }\n",
       "\n",
       "    .dataframe thead th {\n",
       "        text-align: right;\n",
       "    }\n",
       "</style>\n",
       "<table border=\"1\" class=\"dataframe\">\n",
       "  <thead>\n",
       "    <tr style=\"text-align: right;\">\n",
       "      <th></th>\n",
       "      <th>zone</th>\n",
       "      <th>q1_share</th>\n",
       "      <th>q4_share</th>\n",
       "      <th>ICE_income</th>\n",
       "    </tr>\n",
       "  </thead>\n",
       "  <tbody>\n",
       "    <tr>\n",
       "      <th>0</th>\n",
       "      <td>3230006403750</td>\n",
       "      <td>0.279279</td>\n",
       "      <td>0.216216</td>\n",
       "      <td>-0.084337</td>\n",
       "    </tr>\n",
       "    <tr>\n",
       "      <th>1</th>\n",
       "      <td>3210006409000</td>\n",
       "      <td>0.130435</td>\n",
       "      <td>0.260870</td>\n",
       "      <td>0.187500</td>\n",
       "    </tr>\n",
       "    <tr>\n",
       "      <th>2</th>\n",
       "      <td>3312506409500</td>\n",
       "      <td>0.000000</td>\n",
       "      <td>0.700000</td>\n",
       "      <td>0.823529</td>\n",
       "    </tr>\n",
       "    <tr>\n",
       "      <th>3</th>\n",
       "      <td>3230006389500</td>\n",
       "      <td>0.086207</td>\n",
       "      <td>0.310345</td>\n",
       "      <td>0.320988</td>\n",
       "    </tr>\n",
       "    <tr>\n",
       "      <th>4</th>\n",
       "      <td>3175006405250</td>\n",
       "      <td>0.068493</td>\n",
       "      <td>0.356164</td>\n",
       "      <td>0.403846</td>\n",
       "    </tr>\n",
       "  </tbody>\n",
       "</table>\n",
       "</div>"
      ],
      "text/plain": [
       "            zone  q1_share  q4_share  ICE_income\n",
       "0  3230006403750  0.279279  0.216216   -0.084337\n",
       "1  3210006409000  0.130435  0.260870    0.187500\n",
       "2  3312506409500  0.000000  0.700000    0.823529\n",
       "3  3230006389500  0.086207  0.310345    0.320988\n",
       "4  3175006405250  0.068493  0.356164    0.403846"
      ]
     },
     "execution_count": 88,
     "metadata": {},
     "output_type": "execute_result"
    }
   ],
   "source": [
    "temp = jobs[jobs['pop_income'] != 0]\n",
    "\n",
    "jobs = temp\n",
    "del temp\n",
    "\n",
    "jobs['q1_share'] = jobs['income_q1'] / jobs['pop_income']\n",
    "jobs['q4_share'] = jobs['income_q4'] / jobs['pop_income']\n",
    "jobs['q23_share'] = 1-jobs['q1_share']-jobs['q4_share']\n",
    "jobs['ai'] = jobs['q4_share'] / 0.25\n",
    "jobs['bi'] = jobs['q1_share'] / 0.25\n",
    "jobs['oi'] = jobs['q23_share'] / (1 - 0.25 - 0.25)\n",
    "jobs['ICE_income'] = (jobs['ai'] - jobs['bi']) / (jobs['ai'] + jobs['bi'] + jobs['oi'])\n",
    "jobs[['zone', 'q1_share', 'q4_share', 'ICE_income']].head()"
   ]
  },
  {
   "cell_type": "code",
   "execution_count": 89,
   "id": "b5689e70",
   "metadata": {
    "scrolled": true
   },
   "outputs": [
    {
     "data": {
      "text/html": [
       "<div>\n",
       "<style scoped>\n",
       "    .dataframe tbody tr th:only-of-type {\n",
       "        vertical-align: middle;\n",
       "    }\n",
       "\n",
       "    .dataframe tbody tr th {\n",
       "        vertical-align: top;\n",
       "    }\n",
       "\n",
       "    .dataframe thead th {\n",
       "        text-align: right;\n",
       "    }\n",
       "</style>\n",
       "<table border=\"1\" class=\"dataframe\">\n",
       "  <thead>\n",
       "    <tr style=\"text-align: right;\">\n",
       "      <th></th>\n",
       "      <th>zone</th>\n",
       "      <th>grid_size</th>\n",
       "      <th>income_q1</th>\n",
       "      <th>income_q2</th>\n",
       "      <th>income_q3</th>\n",
       "      <th>income_q4</th>\n",
       "      <th>income_med</th>\n",
       "      <th>pop_income</th>\n",
       "      <th>birth_se</th>\n",
       "      <th>birth_nord</th>\n",
       "      <th>...</th>\n",
       "      <th>car_ownership</th>\n",
       "      <th>access</th>\n",
       "      <th>gain_ratio</th>\n",
       "      <th>nativity</th>\n",
       "      <th>q1_share</th>\n",
       "      <th>q4_share</th>\n",
       "      <th>q23_share</th>\n",
       "      <th>ICE_income</th>\n",
       "      <th>Income</th>\n",
       "      <th>geometry</th>\n",
       "    </tr>\n",
       "  </thead>\n",
       "  <tbody>\n",
       "    <tr>\n",
       "      <th>0</th>\n",
       "      <td>3230006403750</td>\n",
       "      <td>250</td>\n",
       "      <td>31.0</td>\n",
       "      <td>30.0</td>\n",
       "      <td>26.0</td>\n",
       "      <td>24.0</td>\n",
       "      <td>227829.0</td>\n",
       "      <td>111.0</td>\n",
       "      <td>133.0</td>\n",
       "      <td>7.0</td>\n",
       "      <td>...</td>\n",
       "      <td>0.281923</td>\n",
       "      <td>35333.313673</td>\n",
       "      <td>0.471895</td>\n",
       "      <td>foreign-born</td>\n",
       "      <td>0.279279</td>\n",
       "      <td>0.216216</td>\n",
       "      <td>0.504505</td>\n",
       "      <td>-0.084337</td>\n",
       "      <td>non-segregated</td>\n",
       "      <td>POLYGON ((12.02641 57.74090, 12.02623 57.74314...</td>\n",
       "    </tr>\n",
       "    <tr>\n",
       "      <th>1</th>\n",
       "      <td>3210006409000</td>\n",
       "      <td>250</td>\n",
       "      <td>3.0</td>\n",
       "      <td>6.0</td>\n",
       "      <td>8.0</td>\n",
       "      <td>6.0</td>\n",
       "      <td>264116.0</td>\n",
       "      <td>23.0</td>\n",
       "      <td>48.0</td>\n",
       "      <td>0.0</td>\n",
       "      <td>...</td>\n",
       "      <td>0.456395</td>\n",
       "      <td>33727.233443</td>\n",
       "      <td>3.437490</td>\n",
       "      <td>foreign-born</td>\n",
       "      <td>0.130435</td>\n",
       "      <td>0.260870</td>\n",
       "      <td>0.608696</td>\n",
       "      <td>0.187500</td>\n",
       "      <td>non-segregated</td>\n",
       "      <td>POLYGON ((11.98895 57.78720, 11.98876 57.78944...</td>\n",
       "    </tr>\n",
       "    <tr>\n",
       "      <th>2</th>\n",
       "      <td>3312506409500</td>\n",
       "      <td>250</td>\n",
       "      <td>0.0</td>\n",
       "      <td>0.0</td>\n",
       "      <td>3.0</td>\n",
       "      <td>7.0</td>\n",
       "      <td>409891.0</td>\n",
       "      <td>10.0</td>\n",
       "      <td>26.0</td>\n",
       "      <td>0.0</td>\n",
       "      <td>...</td>\n",
       "      <td>0.539089</td>\n",
       "      <td>90.297014</td>\n",
       "      <td>0.261715</td>\n",
       "      <td>native-born</td>\n",
       "      <td>0.000000</td>\n",
       "      <td>0.700000</td>\n",
       "      <td>0.300000</td>\n",
       "      <td>0.823529</td>\n",
       "      <td>wealthy</td>\n",
       "      <td>POLYGON ((12.16077 57.79566, 12.16059 57.79791...</td>\n",
       "    </tr>\n",
       "    <tr>\n",
       "      <th>3</th>\n",
       "      <td>3230006389500</td>\n",
       "      <td>250</td>\n",
       "      <td>5.0</td>\n",
       "      <td>16.0</td>\n",
       "      <td>19.0</td>\n",
       "      <td>18.0</td>\n",
       "      <td>290400.0</td>\n",
       "      <td>58.0</td>\n",
       "      <td>141.0</td>\n",
       "      <td>0.0</td>\n",
       "      <td>...</td>\n",
       "      <td>0.490665</td>\n",
       "      <td>686.199069</td>\n",
       "      <td>0.823368</td>\n",
       "      <td>native-born</td>\n",
       "      <td>0.086207</td>\n",
       "      <td>0.310345</td>\n",
       "      <td>0.603448</td>\n",
       "      <td>0.320988</td>\n",
       "      <td>wealthy</td>\n",
       "      <td>POLYGON ((12.03687 57.61307, 12.03669 57.61532...</td>\n",
       "    </tr>\n",
       "    <tr>\n",
       "      <th>4</th>\n",
       "      <td>3175006405250</td>\n",
       "      <td>250</td>\n",
       "      <td>5.0</td>\n",
       "      <td>21.0</td>\n",
       "      <td>21.0</td>\n",
       "      <td>26.0</td>\n",
       "      <td>304134.0</td>\n",
       "      <td>73.0</td>\n",
       "      <td>164.0</td>\n",
       "      <td>6.0</td>\n",
       "      <td>...</td>\n",
       "      <td>0.456250</td>\n",
       "      <td>10043.198093</td>\n",
       "      <td>1.117651</td>\n",
       "      <td>non-segregated</td>\n",
       "      <td>0.068493</td>\n",
       "      <td>0.356164</td>\n",
       "      <td>0.575342</td>\n",
       "      <td>0.403846</td>\n",
       "      <td>wealthy</td>\n",
       "      <td>POLYGON ((11.93302 57.75216, 11.93283 57.75440...</td>\n",
       "    </tr>\n",
       "  </tbody>\n",
       "</table>\n",
       "<p>5 rows × 26 columns</p>\n",
       "</div>"
      ],
      "text/plain": [
       "            zone  grid_size  income_q1  income_q2  income_q3  income_q4  \\\n",
       "0  3230006403750        250       31.0       30.0       26.0       24.0   \n",
       "1  3210006409000        250        3.0        6.0        8.0        6.0   \n",
       "2  3312506409500        250        0.0        0.0        3.0        7.0   \n",
       "3  3230006389500        250        5.0       16.0       19.0       18.0   \n",
       "4  3175006405250        250        5.0       21.0       21.0       26.0   \n",
       "\n",
       "   income_med  pop_income  birth_se  birth_nord  ...  car_ownership  \\\n",
       "0    227829.0       111.0     133.0         7.0  ...       0.281923   \n",
       "1    264116.0        23.0      48.0         0.0  ...       0.456395   \n",
       "2    409891.0        10.0      26.0         0.0  ...       0.539089   \n",
       "3    290400.0        58.0     141.0         0.0  ...       0.490665   \n",
       "4    304134.0        73.0     164.0         6.0  ...       0.456250   \n",
       "\n",
       "         access  gain_ratio        nativity  q1_share  q4_share  q23_share  \\\n",
       "0  35333.313673    0.471895    foreign-born  0.279279  0.216216   0.504505   \n",
       "1  33727.233443    3.437490    foreign-born  0.130435  0.260870   0.608696   \n",
       "2     90.297014    0.261715     native-born  0.000000  0.700000   0.300000   \n",
       "3    686.199069    0.823368     native-born  0.086207  0.310345   0.603448   \n",
       "4  10043.198093    1.117651  non-segregated  0.068493  0.356164   0.575342   \n",
       "\n",
       "   ICE_income          Income  \\\n",
       "0   -0.084337  non-segregated   \n",
       "1    0.187500  non-segregated   \n",
       "2    0.823529         wealthy   \n",
       "3    0.320988         wealthy   \n",
       "4    0.403846         wealthy   \n",
       "\n",
       "                                            geometry  \n",
       "0  POLYGON ((12.02641 57.74090, 12.02623 57.74314...  \n",
       "1  POLYGON ((11.98895 57.78720, 11.98876 57.78944...  \n",
       "2  POLYGON ((12.16077 57.79566, 12.16059 57.79791...  \n",
       "3  POLYGON ((12.03687 57.61307, 12.03669 57.61532...  \n",
       "4  POLYGON ((11.93302 57.75216, 11.93283 57.75440...  \n",
       "\n",
       "[5 rows x 26 columns]"
      ]
     },
     "execution_count": 89,
     "metadata": {},
     "output_type": "execute_result"
    }
   ],
   "source": [
    "jobs = jobs.drop(columns=['ai', 'bi', 'oi'])\n",
    "\n",
    "jobs.loc[jobs['ICE_income'] <= -0.3, 'Income'] = 'less wealthy'\n",
    "jobs.loc[jobs['ICE_income'] >= 0.3, 'Income'] = 'wealthy'\n",
    "jobs.loc[(jobs['ICE_income'] > -0.3) & (jobs['ICE_income'] < 0.3), 'Income'] = 'non-segregated'\n",
    "jobs.head()"
   ]
  },
  {
   "cell_type": "code",
   "execution_count": 73,
   "id": "1d3ff11d",
   "metadata": {},
   "outputs": [
    {
     "name": "stderr",
     "output_type": "stream",
     "text": [
      "/var/folders/xj/chyyxpd17_q6b_qhc97rxl2r0000gn/T/ipykernel_78694/2763561039.py:1: UserWarning: Column names longer than 10 characters will be truncated when saved to ESRI Shapefile.\n",
      "  jobs.to_file('dbs/jobs.shp')\n"
     ]
    }
   ],
   "source": [
    "jobs.to_file('dbs/jobs.shp')"
   ]
  },
  {
   "cell_type": "markdown",
   "id": "4c4d22fb",
   "metadata": {},
   "source": [
    "# actual data"
   ]
  },
  {
   "cell_type": "code",
   "execution_count": 90,
   "id": "55d20229",
   "metadata": {},
   "outputs": [],
   "source": [
    "actual_data = pd.read_csv('gothenburg2022_new.csv')\n",
    "gdf_actual_data = gpd.GeoDataFrame(actual_data, \n",
    "                                   geometry=gpd.points_from_xy(actual_data['o_lng'], actual_data['o_lat']),\n",
    "                                   crs='EPSG:4326'\n",
    "                                  )\n"
   ]
  },
  {
   "cell_type": "code",
   "execution_count": 91,
   "id": "2e9dbd88",
   "metadata": {
    "scrolled": true
   },
   "outputs": [
    {
     "name": "stdout",
     "output_type": "stream",
     "text": [
      "533\n"
     ]
    },
    {
     "data": {
      "text/html": [
       "<div>\n",
       "<style scoped>\n",
       "    .dataframe tbody tr th:only-of-type {\n",
       "        vertical-align: middle;\n",
       "    }\n",
       "\n",
       "    .dataframe tbody tr th {\n",
       "        vertical-align: top;\n",
       "    }\n",
       "\n",
       "    .dataframe thead th {\n",
       "        text-align: right;\n",
       "    }\n",
       "</style>\n",
       "<table border=\"1\" class=\"dataframe\">\n",
       "  <thead>\n",
       "    <tr style=\"text-align: right;\">\n",
       "      <th></th>\n",
       "      <th>zone</th>\n",
       "      <th>grid_size</th>\n",
       "      <th>income_q1</th>\n",
       "      <th>income_q2</th>\n",
       "      <th>income_q3</th>\n",
       "      <th>income_q4</th>\n",
       "      <th>income_med</th>\n",
       "      <th>pop_income</th>\n",
       "      <th>birth_se</th>\n",
       "      <th>birth_nord</th>\n",
       "      <th>...</th>\n",
       "      <th>car_ownership</th>\n",
       "      <th>access</th>\n",
       "      <th>gain_ratio</th>\n",
       "      <th>nativity</th>\n",
       "      <th>q1_share</th>\n",
       "      <th>q4_share</th>\n",
       "      <th>q23_share</th>\n",
       "      <th>ICE_income</th>\n",
       "      <th>Income</th>\n",
       "      <th>geometry</th>\n",
       "    </tr>\n",
       "  </thead>\n",
       "  <tbody>\n",
       "    <tr>\n",
       "      <th>7</th>\n",
       "      <td>3192506398000</td>\n",
       "      <td>250</td>\n",
       "      <td>51.0</td>\n",
       "      <td>54.0</td>\n",
       "      <td>69.0</td>\n",
       "      <td>70.0</td>\n",
       "      <td>271748.0</td>\n",
       "      <td>244.0</td>\n",
       "      <td>347.0</td>\n",
       "      <td>4.0</td>\n",
       "      <td>...</td>\n",
       "      <td>0.238986</td>\n",
       "      <td>37733.368642</td>\n",
       "      <td>0.288757</td>\n",
       "      <td>non-segregated</td>\n",
       "      <td>0.209016</td>\n",
       "      <td>0.286885</td>\n",
       "      <td>0.504098</td>\n",
       "      <td>0.104110</td>\n",
       "      <td>non-segregated</td>\n",
       "      <td>POLYGON ((11.96783 57.68783, 11.96764 57.69007...</td>\n",
       "    </tr>\n",
       "    <tr>\n",
       "      <th>17</th>\n",
       "      <td>3227506401000</td>\n",
       "      <td>250</td>\n",
       "      <td>109.0</td>\n",
       "      <td>119.0</td>\n",
       "      <td>165.0</td>\n",
       "      <td>111.0</td>\n",
       "      <td>264943.0</td>\n",
       "      <td>504.0</td>\n",
       "      <td>654.0</td>\n",
       "      <td>23.0</td>\n",
       "      <td>...</td>\n",
       "      <td>0.281981</td>\n",
       "      <td>40206.074215</td>\n",
       "      <td>0.631524</td>\n",
       "      <td>non-segregated</td>\n",
       "      <td>0.216270</td>\n",
       "      <td>0.220238</td>\n",
       "      <td>0.563492</td>\n",
       "      <td>0.005525</td>\n",
       "      <td>non-segregated</td>\n",
       "      <td>POLYGON ((12.02425 57.71613, 12.02406 57.71838...</td>\n",
       "    </tr>\n",
       "    <tr>\n",
       "      <th>29</th>\n",
       "      <td>3200006398500</td>\n",
       "      <td>250</td>\n",
       "      <td>34.0</td>\n",
       "      <td>29.0</td>\n",
       "      <td>19.0</td>\n",
       "      <td>46.0</td>\n",
       "      <td>262426.0</td>\n",
       "      <td>128.0</td>\n",
       "      <td>194.0</td>\n",
       "      <td>6.0</td>\n",
       "      <td>...</td>\n",
       "      <td>0.352585</td>\n",
       "      <td>26912.278305</td>\n",
       "      <td>0.243133</td>\n",
       "      <td>native-born</td>\n",
       "      <td>0.265625</td>\n",
       "      <td>0.359375</td>\n",
       "      <td>0.375000</td>\n",
       "      <td>0.115385</td>\n",
       "      <td>non-segregated</td>\n",
       "      <td>POLYGON ((11.98002 57.69262, 11.97983 57.69486...</td>\n",
       "    </tr>\n",
       "    <tr>\n",
       "      <th>30</th>\n",
       "      <td>3170006400000</td>\n",
       "      <td>250</td>\n",
       "      <td>56.0</td>\n",
       "      <td>63.0</td>\n",
       "      <td>66.0</td>\n",
       "      <td>95.0</td>\n",
       "      <td>279762.0</td>\n",
       "      <td>280.0</td>\n",
       "      <td>454.0</td>\n",
       "      <td>16.0</td>\n",
       "      <td>...</td>\n",
       "      <td>0.331027</td>\n",
       "      <td>44325.130880</td>\n",
       "      <td>0.482640</td>\n",
       "      <td>non-segregated</td>\n",
       "      <td>0.200000</td>\n",
       "      <td>0.339286</td>\n",
       "      <td>0.460714</td>\n",
       "      <td>0.180974</td>\n",
       "      <td>non-segregated</td>\n",
       "      <td>POLYGON ((11.92863 57.70486, 11.92844 57.70710...</td>\n",
       "    </tr>\n",
       "    <tr>\n",
       "      <th>33</th>\n",
       "      <td>3175006397750</td>\n",
       "      <td>250</td>\n",
       "      <td>0.0</td>\n",
       "      <td>3.0</td>\n",
       "      <td>0.0</td>\n",
       "      <td>0.0</td>\n",
       "      <td>219438.0</td>\n",
       "      <td>3.0</td>\n",
       "      <td>3.0</td>\n",
       "      <td>0.0</td>\n",
       "      <td>...</td>\n",
       "      <td>0.264432</td>\n",
       "      <td>28784.635179</td>\n",
       "      <td>1.352324</td>\n",
       "      <td>native-born</td>\n",
       "      <td>0.000000</td>\n",
       "      <td>0.000000</td>\n",
       "      <td>1.000000</td>\n",
       "      <td>0.000000</td>\n",
       "      <td>non-segregated</td>\n",
       "      <td>POLYGON ((11.93871 57.68488, 11.93852 57.68713...</td>\n",
       "    </tr>\n",
       "  </tbody>\n",
       "</table>\n",
       "<p>5 rows × 26 columns</p>\n",
       "</div>"
      ],
      "text/plain": [
       "             zone  grid_size  income_q1  income_q2  income_q3  income_q4  \\\n",
       "7   3192506398000        250       51.0       54.0       69.0       70.0   \n",
       "17  3227506401000        250      109.0      119.0      165.0      111.0   \n",
       "29  3200006398500        250       34.0       29.0       19.0       46.0   \n",
       "30  3170006400000        250       56.0       63.0       66.0       95.0   \n",
       "33  3175006397750        250        0.0        3.0        0.0        0.0   \n",
       "\n",
       "    income_med  pop_income  birth_se  birth_nord  ...  car_ownership  \\\n",
       "7     271748.0       244.0     347.0         4.0  ...       0.238986   \n",
       "17    264943.0       504.0     654.0        23.0  ...       0.281981   \n",
       "29    262426.0       128.0     194.0         6.0  ...       0.352585   \n",
       "30    279762.0       280.0     454.0        16.0  ...       0.331027   \n",
       "33    219438.0         3.0       3.0         0.0  ...       0.264432   \n",
       "\n",
       "          access  gain_ratio        nativity  q1_share  q4_share  q23_share  \\\n",
       "7   37733.368642    0.288757  non-segregated  0.209016  0.286885   0.504098   \n",
       "17  40206.074215    0.631524  non-segregated  0.216270  0.220238   0.563492   \n",
       "29  26912.278305    0.243133     native-born  0.265625  0.359375   0.375000   \n",
       "30  44325.130880    0.482640  non-segregated  0.200000  0.339286   0.460714   \n",
       "33  28784.635179    1.352324     native-born  0.000000  0.000000   1.000000   \n",
       "\n",
       "    ICE_income          Income  \\\n",
       "7     0.104110  non-segregated   \n",
       "17    0.005525  non-segregated   \n",
       "29    0.115385  non-segregated   \n",
       "30    0.180974  non-segregated   \n",
       "33    0.000000  non-segregated   \n",
       "\n",
       "                                             geometry  \n",
       "7   POLYGON ((11.96783 57.68783, 11.96764 57.69007...  \n",
       "17  POLYGON ((12.02425 57.71613, 12.02406 57.71838...  \n",
       "29  POLYGON ((11.98002 57.69262, 11.97983 57.69486...  \n",
       "30  POLYGON ((11.92863 57.70486, 11.92844 57.70710...  \n",
       "33  POLYGON ((11.93871 57.68488, 11.93852 57.68713...  \n",
       "\n",
       "[5 rows x 26 columns]"
      ]
     },
     "execution_count": 91,
     "metadata": {},
     "output_type": "execute_result"
    }
   ],
   "source": [
    "joined_data = gpd.sjoin(jobs, gdf_actual_data, predicate='intersects')\n",
    "joined_data['count']=1\n",
    "\n",
    "counts = joined_data.groupby(['zone']).agg({'count': 'sum'})\n",
    "counts = counts[counts['count'] >=5] # select ESS-availability\n",
    "\n",
    "available_jobs = jobs[jobs['zone'].isin(counts.index)]\n",
    "print(len(available_jobs))\n",
    "available_jobs.head()\n"
   ]
  },
  {
   "cell_type": "code",
   "execution_count": null,
   "id": "6f61f2c2",
   "metadata": {
    "scrolled": false
   },
   "outputs": [],
   "source": [
    "min_lon = 11.85\n",
    "min_lat = 57.625\n",
    "max_lon = 12.12\n",
    "max_lat = 57.78\n",
    "new_bounding_box = (min_lon, min_lat, max_lon, max_lat)\n",
    "\n",
    "rc('font', **{'family': 'serif', 'serif': ['Computer Modern']})\n",
    "rc('text', usetex=True)\n",
    "plt.rcParams.update({'font.size': 14})\n",
    "\n",
    "fig, ax = plt.subplots(figsize=(9, 9), dpi=300)\n",
    "tbd.plot_map(plt, bounds=new_bounding_box, zoom=13)\n",
    "unavailable_jobs.plot(column='nativity', cmap='viridis_r', ax=ax, legend=True, alpha=0.7, \n",
    "                      legend_kwds={'loc':'upper left', 'shadow':True})\n",
    "\n",
    "plt.show()"
   ]
  },
  {
   "cell_type": "code",
   "execution_count": null,
   "id": "85cf09c0",
   "metadata": {},
   "outputs": [],
   "source": [
    "fig, ax = plt.subplots(figsize=(9, 9), dpi=300)\n",
    "tbd.plot_map(plt, bounds=new_bounding_box, zoom=13)\n",
    "unavailable_jobs.plot(column='Income', cmap='viridis_r', ax=ax, legend=True, alpha=0.7, \n",
    "                      legend_kwds={'loc':'upper left', 'shadow':True})\n",
    "plt.show()"
   ]
  },
  {
   "cell_type": "code",
   "execution_count": 81,
   "id": "a3312bf0",
   "metadata": {
    "scrolled": true
   },
   "outputs": [
    {
     "data": {
      "text/html": [
       "<div>\n",
       "<style scoped>\n",
       "    .dataframe tbody tr th:only-of-type {\n",
       "        vertical-align: middle;\n",
       "    }\n",
       "\n",
       "    .dataframe tbody tr th {\n",
       "        vertical-align: top;\n",
       "    }\n",
       "\n",
       "    .dataframe thead th {\n",
       "        text-align: right;\n",
       "    }\n",
       "</style>\n",
       "<table border=\"1\" class=\"dataframe\">\n",
       "  <thead>\n",
       "    <tr style=\"text-align: right;\">\n",
       "      <th></th>\n",
       "      <th>zone</th>\n",
       "      <th>grid_size</th>\n",
       "      <th>income_q1</th>\n",
       "      <th>income_q2</th>\n",
       "      <th>income_q3</th>\n",
       "      <th>income_q4</th>\n",
       "      <th>income_med</th>\n",
       "      <th>pop_income</th>\n",
       "      <th>birth_se</th>\n",
       "      <th>birth_nord</th>\n",
       "      <th>...</th>\n",
       "      <th>car_ownership</th>\n",
       "      <th>access</th>\n",
       "      <th>gain_ratio</th>\n",
       "      <th>nativity</th>\n",
       "      <th>q1_share</th>\n",
       "      <th>q4_share</th>\n",
       "      <th>q23_share</th>\n",
       "      <th>ICE_income</th>\n",
       "      <th>Income</th>\n",
       "      <th>geometry</th>\n",
       "    </tr>\n",
       "  </thead>\n",
       "  <tbody>\n",
       "    <tr>\n",
       "      <th>0</th>\n",
       "      <td>3167506396000</td>\n",
       "      <td>250</td>\n",
       "      <td>211.0</td>\n",
       "      <td>109.0</td>\n",
       "      <td>67.0</td>\n",
       "      <td>37.0</td>\n",
       "      <td>178627.0</td>\n",
       "      <td>424.0</td>\n",
       "      <td>514.0</td>\n",
       "      <td>18.0</td>\n",
       "      <td>...</td>\n",
       "      <td>0.235360</td>\n",
       "      <td>49864.428919</td>\n",
       "      <td>1.038089</td>\n",
       "      <td>foreign-born</td>\n",
       "      <td>0.497642</td>\n",
       "      <td>0.087264</td>\n",
       "      <td>0.415094</td>\n",
       "      <td>-0.517857</td>\n",
       "      <td>less wealthy</td>\n",
       "      <td>POLYGON ((11.93148 57.67123, 11.93167 57.66898...</td>\n",
       "    </tr>\n",
       "    <tr>\n",
       "      <th>1</th>\n",
       "      <td>3192506399500</td>\n",
       "      <td>250</td>\n",
       "      <td>7.0</td>\n",
       "      <td>7.0</td>\n",
       "      <td>6.0</td>\n",
       "      <td>16.0</td>\n",
       "      <td>318250.0</td>\n",
       "      <td>36.0</td>\n",
       "      <td>53.0</td>\n",
       "      <td>0.0</td>\n",
       "      <td>...</td>\n",
       "      <td>0.233268</td>\n",
       "      <td>24341.006672</td>\n",
       "      <td>0.145497</td>\n",
       "      <td>non-segregated</td>\n",
       "      <td>0.194444</td>\n",
       "      <td>0.444444</td>\n",
       "      <td>0.361111</td>\n",
       "      <td>0.305085</td>\n",
       "      <td>wealthy</td>\n",
       "      <td>POLYGON ((11.96671 57.70129, 11.96652 57.70353...</td>\n",
       "    </tr>\n",
       "    <tr>\n",
       "      <th>2</th>\n",
       "      <td>3172506400750</td>\n",
       "      <td>250</td>\n",
       "      <td>4.0</td>\n",
       "      <td>6.0</td>\n",
       "      <td>5.0</td>\n",
       "      <td>0.0</td>\n",
       "      <td>201814.0</td>\n",
       "      <td>15.0</td>\n",
       "      <td>12.0</td>\n",
       "      <td>0.0</td>\n",
       "      <td>...</td>\n",
       "      <td>0.244404</td>\n",
       "      <td>13938.669085</td>\n",
       "      <td>0.556381</td>\n",
       "      <td>foreign-born</td>\n",
       "      <td>0.266667</td>\n",
       "      <td>0.000000</td>\n",
       "      <td>0.733333</td>\n",
       "      <td>-0.421053</td>\n",
       "      <td>less wealthy</td>\n",
       "      <td>POLYGON ((11.93206 57.71393, 11.93625 57.71403...</td>\n",
       "    </tr>\n",
       "    <tr>\n",
       "      <th>3</th>\n",
       "      <td>3157506397750</td>\n",
       "      <td>250</td>\n",
       "      <td>24.0</td>\n",
       "      <td>15.0</td>\n",
       "      <td>12.0</td>\n",
       "      <td>13.0</td>\n",
       "      <td>223205.0</td>\n",
       "      <td>64.0</td>\n",
       "      <td>86.0</td>\n",
       "      <td>0.0</td>\n",
       "      <td>...</td>\n",
       "      <td>0.227493</td>\n",
       "      <td>40303.115190</td>\n",
       "      <td>1.200023</td>\n",
       "      <td>native-born</td>\n",
       "      <td>0.375000</td>\n",
       "      <td>0.203125</td>\n",
       "      <td>0.421875</td>\n",
       "      <td>-0.217822</td>\n",
       "      <td>non-segregated</td>\n",
       "      <td>POLYGON ((11.90941 57.68417, 11.90921 57.68641...</td>\n",
       "    </tr>\n",
       "    <tr>\n",
       "      <th>4</th>\n",
       "      <td>3197506397250</td>\n",
       "      <td>250</td>\n",
       "      <td>121.0</td>\n",
       "      <td>89.0</td>\n",
       "      <td>103.0</td>\n",
       "      <td>123.0</td>\n",
       "      <td>262879.0</td>\n",
       "      <td>436.0</td>\n",
       "      <td>472.0</td>\n",
       "      <td>7.0</td>\n",
       "      <td>...</td>\n",
       "      <td>0.238986</td>\n",
       "      <td>46492.837922</td>\n",
       "      <td>0.646609</td>\n",
       "      <td>foreign-born</td>\n",
       "      <td>0.277523</td>\n",
       "      <td>0.282110</td>\n",
       "      <td>0.440367</td>\n",
       "      <td>0.005882</td>\n",
       "      <td>non-segregated</td>\n",
       "      <td>POLYGON ((11.97658 57.68355, 11.98077 57.68365...</td>\n",
       "    </tr>\n",
       "    <tr>\n",
       "      <th>5</th>\n",
       "      <td>3207506399250</td>\n",
       "      <td>250</td>\n",
       "      <td>50.0</td>\n",
       "      <td>54.0</td>\n",
       "      <td>47.0</td>\n",
       "      <td>34.0</td>\n",
       "      <td>238546.0</td>\n",
       "      <td>185.0</td>\n",
       "      <td>183.0</td>\n",
       "      <td>12.0</td>\n",
       "      <td>...</td>\n",
       "      <td>0.202692</td>\n",
       "      <td>37364.970305</td>\n",
       "      <td>0.355725</td>\n",
       "      <td>foreign-born</td>\n",
       "      <td>0.270270</td>\n",
       "      <td>0.183784</td>\n",
       "      <td>0.545946</td>\n",
       "      <td>-0.118959</td>\n",
       "      <td>non-segregated</td>\n",
       "      <td>POLYGON ((11.99603 57.70199, 11.99621 57.69974...</td>\n",
       "    </tr>\n",
       "    <tr>\n",
       "      <th>6</th>\n",
       "      <td>3175006400250</td>\n",
       "      <td>250</td>\n",
       "      <td>155.0</td>\n",
       "      <td>147.0</td>\n",
       "      <td>81.0</td>\n",
       "      <td>58.0</td>\n",
       "      <td>202532.0</td>\n",
       "      <td>441.0</td>\n",
       "      <td>563.0</td>\n",
       "      <td>10.0</td>\n",
       "      <td>...</td>\n",
       "      <td>0.163525</td>\n",
       "      <td>45554.126314</td>\n",
       "      <td>0.402437</td>\n",
       "      <td>non-segregated</td>\n",
       "      <td>0.351474</td>\n",
       "      <td>0.131519</td>\n",
       "      <td>0.517007</td>\n",
       "      <td>-0.296636</td>\n",
       "      <td>non-segregated</td>\n",
       "      <td>POLYGON ((11.94101 57.70741, 11.93682 57.70731...</td>\n",
       "    </tr>\n",
       "    <tr>\n",
       "      <th>7</th>\n",
       "      <td>3180006402000</td>\n",
       "      <td>250</td>\n",
       "      <td>47.0</td>\n",
       "      <td>46.0</td>\n",
       "      <td>96.0</td>\n",
       "      <td>105.0</td>\n",
       "      <td>307750.0</td>\n",
       "      <td>294.0</td>\n",
       "      <td>439.0</td>\n",
       "      <td>12.0</td>\n",
       "      <td>...</td>\n",
       "      <td>0.195408</td>\n",
       "      <td>57231.581791</td>\n",
       "      <td>0.641480</td>\n",
       "      <td>foreign-born</td>\n",
       "      <td>0.159864</td>\n",
       "      <td>0.357143</td>\n",
       "      <td>0.482993</td>\n",
       "      <td>0.260090</td>\n",
       "      <td>non-segregated</td>\n",
       "      <td>POLYGON ((11.94806 57.72331, 11.94387 57.72321...</td>\n",
       "    </tr>\n",
       "    <tr>\n",
       "      <th>8</th>\n",
       "      <td>3185006399750</td>\n",
       "      <td>250</td>\n",
       "      <td>21.0</td>\n",
       "      <td>14.0</td>\n",
       "      <td>43.0</td>\n",
       "      <td>120.0</td>\n",
       "      <td>387289.0</td>\n",
       "      <td>198.0</td>\n",
       "      <td>272.0</td>\n",
       "      <td>0.0</td>\n",
       "      <td>...</td>\n",
       "      <td>0.233268</td>\n",
       "      <td>29800.774198</td>\n",
       "      <td>0.180205</td>\n",
       "      <td>non-segregated</td>\n",
       "      <td>0.106061</td>\n",
       "      <td>0.606061</td>\n",
       "      <td>0.287879</td>\n",
       "      <td>0.584071</td>\n",
       "      <td>wealthy</td>\n",
       "      <td>POLYGON ((11.95814 57.70333, 11.95395 57.70323...</td>\n",
       "    </tr>\n",
       "    <tr>\n",
       "      <th>9</th>\n",
       "      <td>3185006401250</td>\n",
       "      <td>250</td>\n",
       "      <td>5.0</td>\n",
       "      <td>3.0</td>\n",
       "      <td>5.0</td>\n",
       "      <td>3.0</td>\n",
       "      <td>239861.0</td>\n",
       "      <td>16.0</td>\n",
       "      <td>13.0</td>\n",
       "      <td>0.0</td>\n",
       "      <td>...</td>\n",
       "      <td>0.163525</td>\n",
       "      <td>41316.942314</td>\n",
       "      <td>0.417391</td>\n",
       "      <td>foreign-born</td>\n",
       "      <td>0.312500</td>\n",
       "      <td>0.187500</td>\n",
       "      <td>0.500000</td>\n",
       "      <td>-0.166667</td>\n",
       "      <td>non-segregated</td>\n",
       "      <td>POLYGON ((11.95282 57.71668, 11.95263 57.71892...</td>\n",
       "    </tr>\n",
       "    <tr>\n",
       "      <th>10</th>\n",
       "      <td>3180006402250</td>\n",
       "      <td>250</td>\n",
       "      <td>30.0</td>\n",
       "      <td>26.0</td>\n",
       "      <td>35.0</td>\n",
       "      <td>27.0</td>\n",
       "      <td>262402.0</td>\n",
       "      <td>118.0</td>\n",
       "      <td>109.0</td>\n",
       "      <td>9.0</td>\n",
       "      <td>...</td>\n",
       "      <td>0.195408</td>\n",
       "      <td>50463.169610</td>\n",
       "      <td>0.755237</td>\n",
       "      <td>foreign-born</td>\n",
       "      <td>0.254237</td>\n",
       "      <td>0.228814</td>\n",
       "      <td>0.516949</td>\n",
       "      <td>-0.034286</td>\n",
       "      <td>non-segregated</td>\n",
       "      <td>POLYGON ((11.94349 57.72769, 11.94769 57.72779...</td>\n",
       "    </tr>\n",
       "    <tr>\n",
       "      <th>11</th>\n",
       "      <td>3220006402500</td>\n",
       "      <td>250</td>\n",
       "      <td>213.0</td>\n",
       "      <td>178.0</td>\n",
       "      <td>129.0</td>\n",
       "      <td>53.0</td>\n",
       "      <td>207272.0</td>\n",
       "      <td>573.0</td>\n",
       "      <td>720.0</td>\n",
       "      <td>15.0</td>\n",
       "      <td>...</td>\n",
       "      <td>0.209342</td>\n",
       "      <td>35099.865300</td>\n",
       "      <td>0.369242</td>\n",
       "      <td>foreign-born</td>\n",
       "      <td>0.371728</td>\n",
       "      <td>0.092496</td>\n",
       "      <td>0.535777</td>\n",
       "      <td>-0.381406</td>\n",
       "      <td>less wealthy</td>\n",
       "      <td>POLYGON ((12.01457 57.73164, 12.01476 57.72939...</td>\n",
       "    </tr>\n",
       "    <tr>\n",
       "      <th>12</th>\n",
       "      <td>3230006402750</td>\n",
       "      <td>250</td>\n",
       "      <td>20.0</td>\n",
       "      <td>87.0</td>\n",
       "      <td>102.0</td>\n",
       "      <td>158.0</td>\n",
       "      <td>333419.0</td>\n",
       "      <td>367.0</td>\n",
       "      <td>581.0</td>\n",
       "      <td>20.0</td>\n",
       "      <td>...</td>\n",
       "      <td>0.230666</td>\n",
       "      <td>42640.682723</td>\n",
       "      <td>0.754478</td>\n",
       "      <td>foreign-born</td>\n",
       "      <td>0.054496</td>\n",
       "      <td>0.430518</td>\n",
       "      <td>0.514986</td>\n",
       "      <td>0.506422</td>\n",
       "      <td>wealthy</td>\n",
       "      <td>POLYGON ((12.03134 57.73203, 12.02715 57.73193...</td>\n",
       "    </tr>\n",
       "    <tr>\n",
       "      <th>13</th>\n",
       "      <td>3170006400500</td>\n",
       "      <td>250</td>\n",
       "      <td>0.0</td>\n",
       "      <td>3.0</td>\n",
       "      <td>10.0</td>\n",
       "      <td>19.0</td>\n",
       "      <td>397736.0</td>\n",
       "      <td>32.0</td>\n",
       "      <td>61.0</td>\n",
       "      <td>0.0</td>\n",
       "      <td>...</td>\n",
       "      <td>0.163525</td>\n",
       "      <td>36019.018284</td>\n",
       "      <td>0.526537</td>\n",
       "      <td>foreign-born</td>\n",
       "      <td>0.000000</td>\n",
       "      <td>0.593750</td>\n",
       "      <td>0.406250</td>\n",
       "      <td>0.745098</td>\n",
       "      <td>wealthy</td>\n",
       "      <td>POLYGON ((11.93225 57.71169, 11.93244 57.70945...</td>\n",
       "    </tr>\n",
       "    <tr>\n",
       "      <th>14</th>\n",
       "      <td>3195006399750</td>\n",
       "      <td>250</td>\n",
       "      <td>4.0</td>\n",
       "      <td>0.0</td>\n",
       "      <td>0.0</td>\n",
       "      <td>0.0</td>\n",
       "      <td>139741.0</td>\n",
       "      <td>4.0</td>\n",
       "      <td>8.0</td>\n",
       "      <td>0.0</td>\n",
       "      <td>...</td>\n",
       "      <td>0.233268</td>\n",
       "      <td>25098.687631</td>\n",
       "      <td>0.148878</td>\n",
       "      <td>native-born</td>\n",
       "      <td>1.000000</td>\n",
       "      <td>0.000000</td>\n",
       "      <td>0.000000</td>\n",
       "      <td>-1.000000</td>\n",
       "      <td>less wealthy</td>\n",
       "      <td>POLYGON ((11.97071 57.70363, 11.97052 57.70587...</td>\n",
       "    </tr>\n",
       "    <tr>\n",
       "      <th>15</th>\n",
       "      <td>3197506398000</td>\n",
       "      <td>250</td>\n",
       "      <td>22.0</td>\n",
       "      <td>4.0</td>\n",
       "      <td>0.0</td>\n",
       "      <td>0.0</td>\n",
       "      <td>134635.0</td>\n",
       "      <td>26.0</td>\n",
       "      <td>17.0</td>\n",
       "      <td>0.0</td>\n",
       "      <td>...</td>\n",
       "      <td>0.235620</td>\n",
       "      <td>28727.416953</td>\n",
       "      <td>0.274552</td>\n",
       "      <td>foreign-born</td>\n",
       "      <td>0.846154</td>\n",
       "      <td>0.000000</td>\n",
       "      <td>0.153846</td>\n",
       "      <td>-0.916667</td>\n",
       "      <td>less wealthy</td>\n",
       "      <td>POLYGON ((11.97621 57.68803, 11.97602 57.69027...</td>\n",
       "    </tr>\n",
       "    <tr>\n",
       "      <th>16</th>\n",
       "      <td>3160006398500</td>\n",
       "      <td>250</td>\n",
       "      <td>81.0</td>\n",
       "      <td>71.0</td>\n",
       "      <td>85.0</td>\n",
       "      <td>72.0</td>\n",
       "      <td>256598.0</td>\n",
       "      <td>309.0</td>\n",
       "      <td>372.0</td>\n",
       "      <td>11.0</td>\n",
       "      <td>...</td>\n",
       "      <td>0.216294</td>\n",
       "      <td>42311.823230</td>\n",
       "      <td>0.653493</td>\n",
       "      <td>foreign-born</td>\n",
       "      <td>0.262136</td>\n",
       "      <td>0.233010</td>\n",
       "      <td>0.504854</td>\n",
       "      <td>-0.038961</td>\n",
       "      <td>non-segregated</td>\n",
       "      <td>POLYGON ((11.91283 57.69324, 11.91702 57.69334...</td>\n",
       "    </tr>\n",
       "    <tr>\n",
       "      <th>17</th>\n",
       "      <td>3160006398000</td>\n",
       "      <td>250</td>\n",
       "      <td>164.0</td>\n",
       "      <td>149.0</td>\n",
       "      <td>156.0</td>\n",
       "      <td>88.0</td>\n",
       "      <td>235264.0</td>\n",
       "      <td>557.0</td>\n",
       "      <td>816.0</td>\n",
       "      <td>13.0</td>\n",
       "      <td>...</td>\n",
       "      <td>0.240741</td>\n",
       "      <td>37794.359881</td>\n",
       "      <td>0.569840</td>\n",
       "      <td>non-segregated</td>\n",
       "      <td>0.294434</td>\n",
       "      <td>0.157989</td>\n",
       "      <td>0.547576</td>\n",
       "      <td>-0.187886</td>\n",
       "      <td>non-segregated</td>\n",
       "      <td>POLYGON ((11.91321 57.68876, 11.91740 57.68886...</td>\n",
       "    </tr>\n",
       "    <tr>\n",
       "      <th>18</th>\n",
       "      <td>3187506399500</td>\n",
       "      <td>250</td>\n",
       "      <td>66.0</td>\n",
       "      <td>45.0</td>\n",
       "      <td>112.0</td>\n",
       "      <td>250.0</td>\n",
       "      <td>367534.0</td>\n",
       "      <td>473.0</td>\n",
       "      <td>760.0</td>\n",
       "      <td>19.0</td>\n",
       "      <td>...</td>\n",
       "      <td>0.233268</td>\n",
       "      <td>30331.978265</td>\n",
       "      <td>0.219157</td>\n",
       "      <td>non-segregated</td>\n",
       "      <td>0.139535</td>\n",
       "      <td>0.528541</td>\n",
       "      <td>0.331924</td>\n",
       "      <td>0.466413</td>\n",
       "      <td>wealthy</td>\n",
       "      <td>POLYGON ((11.95833 57.70109, 11.95814 57.70333...</td>\n",
       "    </tr>\n",
       "    <tr>\n",
       "      <th>19</th>\n",
       "      <td>3205006400250</td>\n",
       "      <td>250</td>\n",
       "      <td>56.0</td>\n",
       "      <td>68.0</td>\n",
       "      <td>116.0</td>\n",
       "      <td>175.0</td>\n",
       "      <td>323280.0</td>\n",
       "      <td>415.0</td>\n",
       "      <td>605.0</td>\n",
       "      <td>17.0</td>\n",
       "      <td>...</td>\n",
       "      <td>0.156281</td>\n",
       "      <td>34210.437101</td>\n",
       "      <td>0.272555</td>\n",
       "      <td>non-segregated</td>\n",
       "      <td>0.134940</td>\n",
       "      <td>0.421687</td>\n",
       "      <td>0.443373</td>\n",
       "      <td>0.368421</td>\n",
       "      <td>wealthy</td>\n",
       "      <td>POLYGON ((11.98690 57.71076, 11.99109 57.71086...</td>\n",
       "    </tr>\n",
       "  </tbody>\n",
       "</table>\n",
       "<p>20 rows × 26 columns</p>\n",
       "</div>"
      ],
      "text/plain": [
       "             zone  grid_size  income_q1  income_q2  income_q3  income_q4  \\\n",
       "0   3167506396000        250      211.0      109.0       67.0       37.0   \n",
       "1   3192506399500        250        7.0        7.0        6.0       16.0   \n",
       "2   3172506400750        250        4.0        6.0        5.0        0.0   \n",
       "3   3157506397750        250       24.0       15.0       12.0       13.0   \n",
       "4   3197506397250        250      121.0       89.0      103.0      123.0   \n",
       "5   3207506399250        250       50.0       54.0       47.0       34.0   \n",
       "6   3175006400250        250      155.0      147.0       81.0       58.0   \n",
       "7   3180006402000        250       47.0       46.0       96.0      105.0   \n",
       "8   3185006399750        250       21.0       14.0       43.0      120.0   \n",
       "9   3185006401250        250        5.0        3.0        5.0        3.0   \n",
       "10  3180006402250        250       30.0       26.0       35.0       27.0   \n",
       "11  3220006402500        250      213.0      178.0      129.0       53.0   \n",
       "12  3230006402750        250       20.0       87.0      102.0      158.0   \n",
       "13  3170006400500        250        0.0        3.0       10.0       19.0   \n",
       "14  3195006399750        250        4.0        0.0        0.0        0.0   \n",
       "15  3197506398000        250       22.0        4.0        0.0        0.0   \n",
       "16  3160006398500        250       81.0       71.0       85.0       72.0   \n",
       "17  3160006398000        250      164.0      149.0      156.0       88.0   \n",
       "18  3187506399500        250       66.0       45.0      112.0      250.0   \n",
       "19  3205006400250        250       56.0       68.0      116.0      175.0   \n",
       "\n",
       "    income_med  pop_income  birth_se  birth_nord  ...  car_ownership  \\\n",
       "0     178627.0       424.0     514.0        18.0  ...       0.235360   \n",
       "1     318250.0        36.0      53.0         0.0  ...       0.233268   \n",
       "2     201814.0        15.0      12.0         0.0  ...       0.244404   \n",
       "3     223205.0        64.0      86.0         0.0  ...       0.227493   \n",
       "4     262879.0       436.0     472.0         7.0  ...       0.238986   \n",
       "5     238546.0       185.0     183.0        12.0  ...       0.202692   \n",
       "6     202532.0       441.0     563.0        10.0  ...       0.163525   \n",
       "7     307750.0       294.0     439.0        12.0  ...       0.195408   \n",
       "8     387289.0       198.0     272.0         0.0  ...       0.233268   \n",
       "9     239861.0        16.0      13.0         0.0  ...       0.163525   \n",
       "10    262402.0       118.0     109.0         9.0  ...       0.195408   \n",
       "11    207272.0       573.0     720.0        15.0  ...       0.209342   \n",
       "12    333419.0       367.0     581.0        20.0  ...       0.230666   \n",
       "13    397736.0        32.0      61.0         0.0  ...       0.163525   \n",
       "14    139741.0         4.0       8.0         0.0  ...       0.233268   \n",
       "15    134635.0        26.0      17.0         0.0  ...       0.235620   \n",
       "16    256598.0       309.0     372.0        11.0  ...       0.216294   \n",
       "17    235264.0       557.0     816.0        13.0  ...       0.240741   \n",
       "18    367534.0       473.0     760.0        19.0  ...       0.233268   \n",
       "19    323280.0       415.0     605.0        17.0  ...       0.156281   \n",
       "\n",
       "          access  gain_ratio        nativity  q1_share  q4_share  q23_share  \\\n",
       "0   49864.428919    1.038089    foreign-born  0.497642  0.087264   0.415094   \n",
       "1   24341.006672    0.145497  non-segregated  0.194444  0.444444   0.361111   \n",
       "2   13938.669085    0.556381    foreign-born  0.266667  0.000000   0.733333   \n",
       "3   40303.115190    1.200023     native-born  0.375000  0.203125   0.421875   \n",
       "4   46492.837922    0.646609    foreign-born  0.277523  0.282110   0.440367   \n",
       "5   37364.970305    0.355725    foreign-born  0.270270  0.183784   0.545946   \n",
       "6   45554.126314    0.402437  non-segregated  0.351474  0.131519   0.517007   \n",
       "7   57231.581791    0.641480    foreign-born  0.159864  0.357143   0.482993   \n",
       "8   29800.774198    0.180205  non-segregated  0.106061  0.606061   0.287879   \n",
       "9   41316.942314    0.417391    foreign-born  0.312500  0.187500   0.500000   \n",
       "10  50463.169610    0.755237    foreign-born  0.254237  0.228814   0.516949   \n",
       "11  35099.865300    0.369242    foreign-born  0.371728  0.092496   0.535777   \n",
       "12  42640.682723    0.754478    foreign-born  0.054496  0.430518   0.514986   \n",
       "13  36019.018284    0.526537    foreign-born  0.000000  0.593750   0.406250   \n",
       "14  25098.687631    0.148878     native-born  1.000000  0.000000   0.000000   \n",
       "15  28727.416953    0.274552    foreign-born  0.846154  0.000000   0.153846   \n",
       "16  42311.823230    0.653493    foreign-born  0.262136  0.233010   0.504854   \n",
       "17  37794.359881    0.569840  non-segregated  0.294434  0.157989   0.547576   \n",
       "18  30331.978265    0.219157  non-segregated  0.139535  0.528541   0.331924   \n",
       "19  34210.437101    0.272555  non-segregated  0.134940  0.421687   0.443373   \n",
       "\n",
       "    ICE_income          Income  \\\n",
       "0    -0.517857    less wealthy   \n",
       "1     0.305085         wealthy   \n",
       "2    -0.421053    less wealthy   \n",
       "3    -0.217822  non-segregated   \n",
       "4     0.005882  non-segregated   \n",
       "5    -0.118959  non-segregated   \n",
       "6    -0.296636  non-segregated   \n",
       "7     0.260090  non-segregated   \n",
       "8     0.584071         wealthy   \n",
       "9    -0.166667  non-segregated   \n",
       "10   -0.034286  non-segregated   \n",
       "11   -0.381406    less wealthy   \n",
       "12    0.506422         wealthy   \n",
       "13    0.745098         wealthy   \n",
       "14   -1.000000    less wealthy   \n",
       "15   -0.916667    less wealthy   \n",
       "16   -0.038961  non-segregated   \n",
       "17   -0.187886  non-segregated   \n",
       "18    0.466413         wealthy   \n",
       "19    0.368421         wealthy   \n",
       "\n",
       "                                             geometry  \n",
       "0   POLYGON ((11.93148 57.67123, 11.93167 57.66898...  \n",
       "1   POLYGON ((11.96671 57.70129, 11.96652 57.70353...  \n",
       "2   POLYGON ((11.93206 57.71393, 11.93625 57.71403...  \n",
       "3   POLYGON ((11.90941 57.68417, 11.90921 57.68641...  \n",
       "4   POLYGON ((11.97658 57.68355, 11.98077 57.68365...  \n",
       "5   POLYGON ((11.99603 57.70199, 11.99621 57.69974...  \n",
       "6   POLYGON ((11.94101 57.70741, 11.93682 57.70731...  \n",
       "7   POLYGON ((11.94806 57.72331, 11.94387 57.72321...  \n",
       "8   POLYGON ((11.95814 57.70333, 11.95395 57.70323...  \n",
       "9   POLYGON ((11.95282 57.71668, 11.95263 57.71892...  \n",
       "10  POLYGON ((11.94349 57.72769, 11.94769 57.72779...  \n",
       "11  POLYGON ((12.01457 57.73164, 12.01476 57.72939...  \n",
       "12  POLYGON ((12.03134 57.73203, 12.02715 57.73193...  \n",
       "13  POLYGON ((11.93225 57.71169, 11.93244 57.70945...  \n",
       "14  POLYGON ((11.97071 57.70363, 11.97052 57.70587...  \n",
       "15  POLYGON ((11.97621 57.68803, 11.97602 57.69027...  \n",
       "16  POLYGON ((11.91283 57.69324, 11.91702 57.69334...  \n",
       "17  POLYGON ((11.91321 57.68876, 11.91740 57.68886...  \n",
       "18  POLYGON ((11.95833 57.70109, 11.95814 57.70333...  \n",
       "19  POLYGON ((11.98690 57.71076, 11.99109 57.71086...  \n",
       "\n",
       "[20 rows x 26 columns]"
      ]
     },
     "execution_count": 81,
     "metadata": {},
     "output_type": "execute_result"
    }
   ],
   "source": [
    "available_jobs.head(20)"
   ]
  },
  {
   "cell_type": "code",
   "execution_count": 80,
   "id": "0a609f9e",
   "metadata": {
    "scrolled": true
   },
   "outputs": [
    {
     "name": "stderr",
     "output_type": "stream",
     "text": [
      "/var/folders/xj/chyyxpd17_q6b_qhc97rxl2r0000gn/T/ipykernel_86321/1145171581.py:1: UserWarning:\n",
      "\n",
      "Column names longer than 10 characters will be truncated when saved to ESRI Shapefile.\n",
      "\n"
     ]
    }
   ],
   "source": [
    "unavailable_jobs.to_file('unavailable_jobs.shp')"
   ]
  },
  {
   "cell_type": "markdown",
   "id": "503fb616",
   "metadata": {},
   "source": [
    "# Boxplot "
   ]
  },
  {
   "cell_type": "code",
   "execution_count": 20,
   "id": "9ce3c8dc",
   "metadata": {},
   "outputs": [],
   "source": [
    "available_jobs = pd.read_csv('result_output/available_jobs.csv')\n",
    "unavailable_jobs = pd.read_csv('result_output/unavailable_jobs.csv')"
   ]
  },
  {
   "cell_type": "code",
   "execution_count": 21,
   "id": "79806815",
   "metadata": {},
   "outputs": [],
   "source": [
    "available_jobs['Income'] = available_jobs['Income'].replace({\n",
    "    'low-income': 'Low income',\n",
    "    'high-income': 'High income',\n",
    "    'moderate': 'Moderate'\n",
    "})\n",
    "\n",
    "unavailable_jobs['Income'] = unavailable_jobs['Income'].replace({\n",
    "    'low-income': 'Low income',\n",
    "    'high-income': 'High income',\n",
    "    'moderate': 'Moderate'\n",
    "})"
   ]
  },
  {
   "cell_type": "code",
   "execution_count": 22,
   "id": "d95696cb",
   "metadata": {},
   "outputs": [],
   "source": [
    "available_jobs['nativity'] = available_jobs['nativity'].replace({\n",
    "    'foreign-born': 'Foreign-born (outside EU) \\n segregated',\n",
    "    'native-born': 'Native-born \\n segregated',\n",
    "    'non-segregated': 'Mixed'\n",
    "})\n",
    "\n",
    "unavailable_jobs['nativity'] = unavailable_jobs['nativity'].replace({\n",
    "    'foreign-born': 'Foreign-born (outside EU) \\n segregated',\n",
    "    'native-born': 'Native-born \\n segregated',\n",
    "    'non-segregated': 'Mixed'\n",
    "})"
   ]
  },
  {
   "cell_type": "code",
   "execution_count": 23,
   "id": "433ce352",
   "metadata": {},
   "outputs": [],
   "source": [
    "# Swap the row for better visualization\n",
    "mod = available_jobs.iloc[1].copy()\n",
    "high = available_jobs.iloc[4].copy()\n",
    "\n",
    "available_jobs.iloc[1] = high\n",
    "available_jobs.iloc[4] = mod"
   ]
  },
  {
   "cell_type": "code",
   "execution_count": 9,
   "id": "23fbb482",
   "metadata": {
    "scrolled": true
   },
   "outputs": [
    {
     "data": {
      "text/html": [
       "<div>\n",
       "<style scoped>\n",
       "    .dataframe tbody tr th:only-of-type {\n",
       "        vertical-align: middle;\n",
       "    }\n",
       "\n",
       "    .dataframe tbody tr th {\n",
       "        vertical-align: top;\n",
       "    }\n",
       "\n",
       "    .dataframe thead th {\n",
       "        text-align: right;\n",
       "    }\n",
       "</style>\n",
       "<table border=\"1\" class=\"dataframe\">\n",
       "  <thead>\n",
       "    <tr style=\"text-align: right;\">\n",
       "      <th></th>\n",
       "      <th>zone</th>\n",
       "      <th>grid_size</th>\n",
       "      <th>income_q1</th>\n",
       "      <th>income_q2</th>\n",
       "      <th>income_q3</th>\n",
       "      <th>income_q4</th>\n",
       "      <th>income_med</th>\n",
       "      <th>pop_income</th>\n",
       "      <th>birth_se</th>\n",
       "      <th>birth_nord</th>\n",
       "      <th>...</th>\n",
       "      <th>car_ownership</th>\n",
       "      <th>access</th>\n",
       "      <th>gain_ratio</th>\n",
       "      <th>nativity</th>\n",
       "      <th>q1_share</th>\n",
       "      <th>q4_share</th>\n",
       "      <th>q23_share</th>\n",
       "      <th>ICE_income</th>\n",
       "      <th>Income</th>\n",
       "      <th>geometry</th>\n",
       "    </tr>\n",
       "  </thead>\n",
       "  <tbody>\n",
       "    <tr>\n",
       "      <th>0</th>\n",
       "      <td>3147506403000</td>\n",
       "      <td>250</td>\n",
       "      <td>139.0</td>\n",
       "      <td>69.0</td>\n",
       "      <td>45.0</td>\n",
       "      <td>18.0</td>\n",
       "      <td>175258.0</td>\n",
       "      <td>271.0</td>\n",
       "      <td>391.0</td>\n",
       "      <td>5.0</td>\n",
       "      <td>...</td>\n",
       "      <td>0.210898</td>\n",
       "      <td>17717.731672</td>\n",
       "      <td>1.153483</td>\n",
       "      <td>Foreign-born (outside EU) \\n segregated</td>\n",
       "      <td>0.512915</td>\n",
       "      <td>0.066421</td>\n",
       "      <td>0.420664</td>\n",
       "      <td>-0.565421</td>\n",
       "      <td>Low income</td>\n",
       "      <td>POLYGON ((11.888619836538812 57.73084851998652...</td>\n",
       "    </tr>\n",
       "    <tr>\n",
       "      <th>1</th>\n",
       "      <td>3175006397750</td>\n",
       "      <td>250</td>\n",
       "      <td>0.0</td>\n",
       "      <td>3.0</td>\n",
       "      <td>0.0</td>\n",
       "      <td>0.0</td>\n",
       "      <td>219438.0</td>\n",
       "      <td>3.0</td>\n",
       "      <td>3.0</td>\n",
       "      <td>0.0</td>\n",
       "      <td>...</td>\n",
       "      <td>0.264432</td>\n",
       "      <td>28784.635179</td>\n",
       "      <td>1.352324</td>\n",
       "      <td>Native-born \\n segregated</td>\n",
       "      <td>0.000000</td>\n",
       "      <td>0.000000</td>\n",
       "      <td>1.000000</td>\n",
       "      <td>0.000000</td>\n",
       "      <td>Moderate</td>\n",
       "      <td>POLYGON ((11.938711478109271 57.68488323180753...</td>\n",
       "    </tr>\n",
       "    <tr>\n",
       "      <th>2</th>\n",
       "      <td>3227506401000</td>\n",
       "      <td>250</td>\n",
       "      <td>109.0</td>\n",
       "      <td>119.0</td>\n",
       "      <td>165.0</td>\n",
       "      <td>111.0</td>\n",
       "      <td>264943.0</td>\n",
       "      <td>504.0</td>\n",
       "      <td>654.0</td>\n",
       "      <td>23.0</td>\n",
       "      <td>...</td>\n",
       "      <td>0.281981</td>\n",
       "      <td>40206.074215</td>\n",
       "      <td>0.631524</td>\n",
       "      <td>Mixed</td>\n",
       "      <td>0.216270</td>\n",
       "      <td>0.220238</td>\n",
       "      <td>0.563492</td>\n",
       "      <td>0.005525</td>\n",
       "      <td>Moderate</td>\n",
       "      <td>POLYGON ((12.024246613350446 57.71613489197887...</td>\n",
       "    </tr>\n",
       "    <tr>\n",
       "      <th>3</th>\n",
       "      <td>3170006400000</td>\n",
       "      <td>250</td>\n",
       "      <td>56.0</td>\n",
       "      <td>63.0</td>\n",
       "      <td>66.0</td>\n",
       "      <td>95.0</td>\n",
       "      <td>279762.0</td>\n",
       "      <td>280.0</td>\n",
       "      <td>454.0</td>\n",
       "      <td>16.0</td>\n",
       "      <td>...</td>\n",
       "      <td>0.331027</td>\n",
       "      <td>44325.130880</td>\n",
       "      <td>0.482640</td>\n",
       "      <td>Mixed</td>\n",
       "      <td>0.200000</td>\n",
       "      <td>0.339286</td>\n",
       "      <td>0.460714</td>\n",
       "      <td>0.180974</td>\n",
       "      <td>Moderate</td>\n",
       "      <td>POLYGON ((11.928629367546531 57.70486184314643...</td>\n",
       "    </tr>\n",
       "    <tr>\n",
       "      <th>4</th>\n",
       "      <td>3215006398250</td>\n",
       "      <td>250</td>\n",
       "      <td>3.0</td>\n",
       "      <td>8.0</td>\n",
       "      <td>5.0</td>\n",
       "      <td>40.0</td>\n",
       "      <td>425520.0</td>\n",
       "      <td>56.0</td>\n",
       "      <td>155.0</td>\n",
       "      <td>3.0</td>\n",
       "      <td>...</td>\n",
       "      <td>0.365361</td>\n",
       "      <td>42073.877008</td>\n",
       "      <td>0.671783</td>\n",
       "      <td>Mixed</td>\n",
       "      <td>0.053571</td>\n",
       "      <td>0.714286</td>\n",
       "      <td>0.232143</td>\n",
       "      <td>0.747475</td>\n",
       "      <td>High income</td>\n",
       "      <td>POLYGON ((12.005332078027052 57.69097233629889...</td>\n",
       "    </tr>\n",
       "    <tr>\n",
       "      <th>5</th>\n",
       "      <td>3200006398500</td>\n",
       "      <td>250</td>\n",
       "      <td>34.0</td>\n",
       "      <td>29.0</td>\n",
       "      <td>19.0</td>\n",
       "      <td>46.0</td>\n",
       "      <td>262426.0</td>\n",
       "      <td>128.0</td>\n",
       "      <td>194.0</td>\n",
       "      <td>6.0</td>\n",
       "      <td>...</td>\n",
       "      <td>0.352585</td>\n",
       "      <td>26912.278305</td>\n",
       "      <td>0.243133</td>\n",
       "      <td>Native-born \\n segregated</td>\n",
       "      <td>0.265625</td>\n",
       "      <td>0.359375</td>\n",
       "      <td>0.375000</td>\n",
       "      <td>0.115385</td>\n",
       "      <td>Moderate</td>\n",
       "      <td>POLYGON ((11.98001983988281 57.692617411050236...</td>\n",
       "    </tr>\n",
       "    <tr>\n",
       "      <th>6</th>\n",
       "      <td>3210006396000</td>\n",
       "      <td>250</td>\n",
       "      <td>3.0</td>\n",
       "      <td>0.0</td>\n",
       "      <td>3.0</td>\n",
       "      <td>13.0</td>\n",
       "      <td>400550.0</td>\n",
       "      <td>19.0</td>\n",
       "      <td>41.0</td>\n",
       "      <td>0.0</td>\n",
       "      <td>...</td>\n",
       "      <td>0.388274</td>\n",
       "      <td>21088.115385</td>\n",
       "      <td>0.985596</td>\n",
       "      <td>Mixed</td>\n",
       "      <td>0.157895</td>\n",
       "      <td>0.684211</td>\n",
       "      <td>0.157895</td>\n",
       "      <td>0.571429</td>\n",
       "      <td>High income</td>\n",
       "      <td>POLYGON ((11.998626838639325 57.67059083997619...</td>\n",
       "    </tr>\n",
       "    <tr>\n",
       "      <th>7</th>\n",
       "      <td>3197506396000</td>\n",
       "      <td>250</td>\n",
       "      <td>3.0</td>\n",
       "      <td>6.0</td>\n",
       "      <td>15.0</td>\n",
       "      <td>39.0</td>\n",
       "      <td>414507.0</td>\n",
       "      <td>63.0</td>\n",
       "      <td>167.0</td>\n",
       "      <td>3.0</td>\n",
       "      <td>...</td>\n",
       "      <td>0.398277</td>\n",
       "      <td>47594.692496</td>\n",
       "      <td>1.346770</td>\n",
       "      <td>Mixed</td>\n",
       "      <td>0.047619</td>\n",
       "      <td>0.619048</td>\n",
       "      <td>0.333333</td>\n",
       "      <td>0.685714</td>\n",
       "      <td>High income</td>\n",
       "      <td>POLYGON ((11.977700666917535 57.67009233679091...</td>\n",
       "    </tr>\n",
       "    <tr>\n",
       "      <th>8</th>\n",
       "      <td>3192506398000</td>\n",
       "      <td>250</td>\n",
       "      <td>51.0</td>\n",
       "      <td>54.0</td>\n",
       "      <td>69.0</td>\n",
       "      <td>70.0</td>\n",
       "      <td>271748.0</td>\n",
       "      <td>244.0</td>\n",
       "      <td>347.0</td>\n",
       "      <td>4.0</td>\n",
       "      <td>...</td>\n",
       "      <td>0.238986</td>\n",
       "      <td>37733.368642</td>\n",
       "      <td>0.288757</td>\n",
       "      <td>Mixed</td>\n",
       "      <td>0.209016</td>\n",
       "      <td>0.286885</td>\n",
       "      <td>0.504098</td>\n",
       "      <td>0.104110</td>\n",
       "      <td>Moderate</td>\n",
       "      <td>POLYGON ((11.967831644804956 57.68783177605171...</td>\n",
       "    </tr>\n",
       "    <tr>\n",
       "      <th>9</th>\n",
       "      <td>3170006399750</td>\n",
       "      <td>250</td>\n",
       "      <td>64.0</td>\n",
       "      <td>41.0</td>\n",
       "      <td>31.0</td>\n",
       "      <td>55.0</td>\n",
       "      <td>240555.0</td>\n",
       "      <td>191.0</td>\n",
       "      <td>196.0</td>\n",
       "      <td>7.0</td>\n",
       "      <td>...</td>\n",
       "      <td>0.331027</td>\n",
       "      <td>37692.547235</td>\n",
       "      <td>0.667590</td>\n",
       "      <td>Mixed</td>\n",
       "      <td>0.335079</td>\n",
       "      <td>0.287958</td>\n",
       "      <td>0.376963</td>\n",
       "      <td>-0.058065</td>\n",
       "      <td>Moderate</td>\n",
       "      <td>POLYGON ((11.928819350507935 57.70261945905000...</td>\n",
       "    </tr>\n",
       "    <tr>\n",
       "      <th>10</th>\n",
       "      <td>3205006397500</td>\n",
       "      <td>250</td>\n",
       "      <td>32.0</td>\n",
       "      <td>21.0</td>\n",
       "      <td>21.0</td>\n",
       "      <td>32.0</td>\n",
       "      <td>260688.0</td>\n",
       "      <td>106.0</td>\n",
       "      <td>180.0</td>\n",
       "      <td>6.0</td>\n",
       "      <td>...</td>\n",
       "      <td>0.235872</td>\n",
       "      <td>40933.715622</td>\n",
       "      <td>0.557712</td>\n",
       "      <td>Mixed</td>\n",
       "      <td>0.301887</td>\n",
       "      <td>0.301887</td>\n",
       "      <td>0.396226</td>\n",
       "      <td>0.000000</td>\n",
       "      <td>Moderate</td>\n",
       "      <td>POLYGON ((11.989140118159252 57.68384697554303...</td>\n",
       "    </tr>\n",
       "    <tr>\n",
       "      <th>11</th>\n",
       "      <td>3202506398250</td>\n",
       "      <td>250</td>\n",
       "      <td>145.0</td>\n",
       "      <td>105.0</td>\n",
       "      <td>122.0</td>\n",
       "      <td>138.0</td>\n",
       "      <td>257219.0</td>\n",
       "      <td>510.0</td>\n",
       "      <td>658.0</td>\n",
       "      <td>13.0</td>\n",
       "      <td>...</td>\n",
       "      <td>0.231187</td>\n",
       "      <td>29412.915055</td>\n",
       "      <td>0.268548</td>\n",
       "      <td>Mixed</td>\n",
       "      <td>0.284314</td>\n",
       "      <td>0.270588</td>\n",
       "      <td>0.445098</td>\n",
       "      <td>-0.017654</td>\n",
       "      <td>Moderate</td>\n",
       "      <td>POLYGON ((11.984394168384844 57.69047483388428...</td>\n",
       "    </tr>\n",
       "    <tr>\n",
       "      <th>12</th>\n",
       "      <td>3230006401250</td>\n",
       "      <td>250</td>\n",
       "      <td>95.0</td>\n",
       "      <td>69.0</td>\n",
       "      <td>92.0</td>\n",
       "      <td>65.0</td>\n",
       "      <td>252155.0</td>\n",
       "      <td>321.0</td>\n",
       "      <td>440.0</td>\n",
       "      <td>8.0</td>\n",
       "      <td>...</td>\n",
       "      <td>0.264290</td>\n",
       "      <td>42848.877448</td>\n",
       "      <td>0.799294</td>\n",
       "      <td>Mixed</td>\n",
       "      <td>0.295950</td>\n",
       "      <td>0.202492</td>\n",
       "      <td>0.501558</td>\n",
       "      <td>-0.124740</td>\n",
       "      <td>Moderate</td>\n",
       "      <td>POLYGON ((12.028253304421286 57.7184759629041,...</td>\n",
       "    </tr>\n",
       "    <tr>\n",
       "      <th>13</th>\n",
       "      <td>3207506397000</td>\n",
       "      <td>250</td>\n",
       "      <td>57.0</td>\n",
       "      <td>72.0</td>\n",
       "      <td>105.0</td>\n",
       "      <td>102.0</td>\n",
       "      <td>283896.0</td>\n",
       "      <td>336.0</td>\n",
       "      <td>485.0</td>\n",
       "      <td>11.0</td>\n",
       "      <td>...</td>\n",
       "      <td>0.266325</td>\n",
       "      <td>43771.344652</td>\n",
       "      <td>0.793699</td>\n",
       "      <td>Mixed</td>\n",
       "      <td>0.169643</td>\n",
       "      <td>0.303571</td>\n",
       "      <td>0.526786</td>\n",
       "      <td>0.181818</td>\n",
       "      <td>Moderate</td>\n",
       "      <td>POLYGON ((11.993698513098641 57.67946153474759...</td>\n",
       "    </tr>\n",
       "    <tr>\n",
       "      <th>14</th>\n",
       "      <td>3205006399500</td>\n",
       "      <td>250</td>\n",
       "      <td>3.0</td>\n",
       "      <td>0.0</td>\n",
       "      <td>6.0</td>\n",
       "      <td>27.0</td>\n",
       "      <td>440603.0</td>\n",
       "      <td>36.0</td>\n",
       "      <td>71.0</td>\n",
       "      <td>0.0</td>\n",
       "      <td>...</td>\n",
       "      <td>0.202692</td>\n",
       "      <td>28562.244344</td>\n",
       "      <td>0.263936</td>\n",
       "      <td>Native-born \\n segregated</td>\n",
       "      <td>0.083333</td>\n",
       "      <td>0.750000</td>\n",
       "      <td>0.166667</td>\n",
       "      <td>0.727273</td>\n",
       "      <td>High income</td>\n",
       "      <td>POLYGON ((11.987650376636715 57.70178716240053...</td>\n",
       "    </tr>\n",
       "    <tr>\n",
       "      <th>15</th>\n",
       "      <td>3207506399500</td>\n",
       "      <td>250</td>\n",
       "      <td>22.0</td>\n",
       "      <td>14.0</td>\n",
       "      <td>20.0</td>\n",
       "      <td>42.0</td>\n",
       "      <td>312994.0</td>\n",
       "      <td>98.0</td>\n",
       "      <td>138.0</td>\n",
       "      <td>3.0</td>\n",
       "      <td>...</td>\n",
       "      <td>0.202692</td>\n",
       "      <td>32887.321211</td>\n",
       "      <td>0.391807</td>\n",
       "      <td>Native-born \\n segregated</td>\n",
       "      <td>0.224490</td>\n",
       "      <td>0.428571</td>\n",
       "      <td>0.346939</td>\n",
       "      <td>0.246914</td>\n",
       "      <td>Moderate</td>\n",
       "      <td>POLYGON ((11.991839193647028 57.70188684358558...</td>\n",
       "    </tr>\n",
       "    <tr>\n",
       "      <th>16</th>\n",
       "      <td>3167506399000</td>\n",
       "      <td>250</td>\n",
       "      <td>132.0</td>\n",
       "      <td>132.0</td>\n",
       "      <td>147.0</td>\n",
       "      <td>138.0</td>\n",
       "      <td>258892.0</td>\n",
       "      <td>549.0</td>\n",
       "      <td>909.0</td>\n",
       "      <td>20.0</td>\n",
       "      <td>...</td>\n",
       "      <td>0.242473</td>\n",
       "      <td>32234.028712</td>\n",
       "      <td>0.442918</td>\n",
       "      <td>Mixed</td>\n",
       "      <td>0.240437</td>\n",
       "      <td>0.251366</td>\n",
       "      <td>0.508197</td>\n",
       "      <td>0.014652</td>\n",
       "      <td>Moderate</td>\n",
       "      <td>POLYGON ((11.92520110982695 57.69579055567218,...</td>\n",
       "    </tr>\n",
       "    <tr>\n",
       "      <th>17</th>\n",
       "      <td>3170006400750</td>\n",
       "      <td>250</td>\n",
       "      <td>3.0</td>\n",
       "      <td>4.0</td>\n",
       "      <td>3.0</td>\n",
       "      <td>3.0</td>\n",
       "      <td>239037.0</td>\n",
       "      <td>13.0</td>\n",
       "      <td>18.0</td>\n",
       "      <td>0.0</td>\n",
       "      <td>...</td>\n",
       "      <td>0.244404</td>\n",
       "      <td>20046.440008</td>\n",
       "      <td>0.717486</td>\n",
       "      <td>Native-born \\n segregated</td>\n",
       "      <td>0.230769</td>\n",
       "      <td>0.230769</td>\n",
       "      <td>0.538462</td>\n",
       "      <td>0.000000</td>\n",
       "      <td>Moderate</td>\n",
       "      <td>POLYGON ((11.928059249534883 57.71158898824408...</td>\n",
       "    </tr>\n",
       "    <tr>\n",
       "      <th>18</th>\n",
       "      <td>3182506397500</td>\n",
       "      <td>250</td>\n",
       "      <td>3.0</td>\n",
       "      <td>3.0</td>\n",
       "      <td>5.0</td>\n",
       "      <td>23.0</td>\n",
       "      <td>460121.0</td>\n",
       "      <td>34.0</td>\n",
       "      <td>86.0</td>\n",
       "      <td>3.0</td>\n",
       "      <td>...</td>\n",
       "      <td>0.264432</td>\n",
       "      <td>46958.933562</td>\n",
       "      <td>0.603421</td>\n",
       "      <td>Mixed</td>\n",
       "      <td>0.088235</td>\n",
       "      <td>0.676471</td>\n",
       "      <td>0.235294</td>\n",
       "      <td>0.666667</td>\n",
       "      <td>High income</td>\n",
       "      <td>POLYGON ((11.951460172512876 57.68294422640873...</td>\n",
       "    </tr>\n",
       "    <tr>\n",
       "      <th>19</th>\n",
       "      <td>3195006399000</td>\n",
       "      <td>250</td>\n",
       "      <td>55.0</td>\n",
       "      <td>45.0</td>\n",
       "      <td>74.0</td>\n",
       "      <td>172.0</td>\n",
       "      <td>351300.0</td>\n",
       "      <td>346.0</td>\n",
       "      <td>572.0</td>\n",
       "      <td>10.0</td>\n",
       "      <td>...</td>\n",
       "      <td>0.240711</td>\n",
       "      <td>32275.041585</td>\n",
       "      <td>0.240779</td>\n",
       "      <td>Mixed</td>\n",
       "      <td>0.158960</td>\n",
       "      <td>0.497110</td>\n",
       "      <td>0.343931</td>\n",
       "      <td>0.408377</td>\n",
       "      <td>High income</td>\n",
       "      <td>POLYGON ((11.971269911189898 57.69690210141800...</td>\n",
       "    </tr>\n",
       "  </tbody>\n",
       "</table>\n",
       "<p>20 rows × 26 columns</p>\n",
       "</div>"
      ],
      "text/plain": [
       "             zone  grid_size  income_q1  income_q2  income_q3  income_q4  \\\n",
       "0   3147506403000        250      139.0       69.0       45.0       18.0   \n",
       "1   3175006397750        250        0.0        3.0        0.0        0.0   \n",
       "2   3227506401000        250      109.0      119.0      165.0      111.0   \n",
       "3   3170006400000        250       56.0       63.0       66.0       95.0   \n",
       "4   3215006398250        250        3.0        8.0        5.0       40.0   \n",
       "5   3200006398500        250       34.0       29.0       19.0       46.0   \n",
       "6   3210006396000        250        3.0        0.0        3.0       13.0   \n",
       "7   3197506396000        250        3.0        6.0       15.0       39.0   \n",
       "8   3192506398000        250       51.0       54.0       69.0       70.0   \n",
       "9   3170006399750        250       64.0       41.0       31.0       55.0   \n",
       "10  3205006397500        250       32.0       21.0       21.0       32.0   \n",
       "11  3202506398250        250      145.0      105.0      122.0      138.0   \n",
       "12  3230006401250        250       95.0       69.0       92.0       65.0   \n",
       "13  3207506397000        250       57.0       72.0      105.0      102.0   \n",
       "14  3205006399500        250        3.0        0.0        6.0       27.0   \n",
       "15  3207506399500        250       22.0       14.0       20.0       42.0   \n",
       "16  3167506399000        250      132.0      132.0      147.0      138.0   \n",
       "17  3170006400750        250        3.0        4.0        3.0        3.0   \n",
       "18  3182506397500        250        3.0        3.0        5.0       23.0   \n",
       "19  3195006399000        250       55.0       45.0       74.0      172.0   \n",
       "\n",
       "    income_med  pop_income  birth_se  birth_nord  ...  car_ownership  \\\n",
       "0     175258.0       271.0     391.0         5.0  ...       0.210898   \n",
       "1     219438.0         3.0       3.0         0.0  ...       0.264432   \n",
       "2     264943.0       504.0     654.0        23.0  ...       0.281981   \n",
       "3     279762.0       280.0     454.0        16.0  ...       0.331027   \n",
       "4     425520.0        56.0     155.0         3.0  ...       0.365361   \n",
       "5     262426.0       128.0     194.0         6.0  ...       0.352585   \n",
       "6     400550.0        19.0      41.0         0.0  ...       0.388274   \n",
       "7     414507.0        63.0     167.0         3.0  ...       0.398277   \n",
       "8     271748.0       244.0     347.0         4.0  ...       0.238986   \n",
       "9     240555.0       191.0     196.0         7.0  ...       0.331027   \n",
       "10    260688.0       106.0     180.0         6.0  ...       0.235872   \n",
       "11    257219.0       510.0     658.0        13.0  ...       0.231187   \n",
       "12    252155.0       321.0     440.0         8.0  ...       0.264290   \n",
       "13    283896.0       336.0     485.0        11.0  ...       0.266325   \n",
       "14    440603.0        36.0      71.0         0.0  ...       0.202692   \n",
       "15    312994.0        98.0     138.0         3.0  ...       0.202692   \n",
       "16    258892.0       549.0     909.0        20.0  ...       0.242473   \n",
       "17    239037.0        13.0      18.0         0.0  ...       0.244404   \n",
       "18    460121.0        34.0      86.0         3.0  ...       0.264432   \n",
       "19    351300.0       346.0     572.0        10.0  ...       0.240711   \n",
       "\n",
       "          access  gain_ratio                                 nativity  \\\n",
       "0   17717.731672    1.153483  Foreign-born (outside EU) \\n segregated   \n",
       "1   28784.635179    1.352324                Native-born \\n segregated   \n",
       "2   40206.074215    0.631524                                    Mixed   \n",
       "3   44325.130880    0.482640                                    Mixed   \n",
       "4   42073.877008    0.671783                                    Mixed   \n",
       "5   26912.278305    0.243133                Native-born \\n segregated   \n",
       "6   21088.115385    0.985596                                    Mixed   \n",
       "7   47594.692496    1.346770                                    Mixed   \n",
       "8   37733.368642    0.288757                                    Mixed   \n",
       "9   37692.547235    0.667590                                    Mixed   \n",
       "10  40933.715622    0.557712                                    Mixed   \n",
       "11  29412.915055    0.268548                                    Mixed   \n",
       "12  42848.877448    0.799294                                    Mixed   \n",
       "13  43771.344652    0.793699                                    Mixed   \n",
       "14  28562.244344    0.263936                Native-born \\n segregated   \n",
       "15  32887.321211    0.391807                Native-born \\n segregated   \n",
       "16  32234.028712    0.442918                                    Mixed   \n",
       "17  20046.440008    0.717486                Native-born \\n segregated   \n",
       "18  46958.933562    0.603421                                    Mixed   \n",
       "19  32275.041585    0.240779                                    Mixed   \n",
       "\n",
       "    q1_share  q4_share  q23_share  ICE_income       Income  \\\n",
       "0   0.512915  0.066421   0.420664   -0.565421   Low income   \n",
       "1   0.000000  0.000000   1.000000    0.000000     Moderate   \n",
       "2   0.216270  0.220238   0.563492    0.005525     Moderate   \n",
       "3   0.200000  0.339286   0.460714    0.180974     Moderate   \n",
       "4   0.053571  0.714286   0.232143    0.747475  High income   \n",
       "5   0.265625  0.359375   0.375000    0.115385     Moderate   \n",
       "6   0.157895  0.684211   0.157895    0.571429  High income   \n",
       "7   0.047619  0.619048   0.333333    0.685714  High income   \n",
       "8   0.209016  0.286885   0.504098    0.104110     Moderate   \n",
       "9   0.335079  0.287958   0.376963   -0.058065     Moderate   \n",
       "10  0.301887  0.301887   0.396226    0.000000     Moderate   \n",
       "11  0.284314  0.270588   0.445098   -0.017654     Moderate   \n",
       "12  0.295950  0.202492   0.501558   -0.124740     Moderate   \n",
       "13  0.169643  0.303571   0.526786    0.181818     Moderate   \n",
       "14  0.083333  0.750000   0.166667    0.727273  High income   \n",
       "15  0.224490  0.428571   0.346939    0.246914     Moderate   \n",
       "16  0.240437  0.251366   0.508197    0.014652     Moderate   \n",
       "17  0.230769  0.230769   0.538462    0.000000     Moderate   \n",
       "18  0.088235  0.676471   0.235294    0.666667  High income   \n",
       "19  0.158960  0.497110   0.343931    0.408377  High income   \n",
       "\n",
       "                                             geometry  \n",
       "0   POLYGON ((11.888619836538812 57.73084851998652...  \n",
       "1   POLYGON ((11.938711478109271 57.68488323180753...  \n",
       "2   POLYGON ((12.024246613350446 57.71613489197887...  \n",
       "3   POLYGON ((11.928629367546531 57.70486184314643...  \n",
       "4   POLYGON ((12.005332078027052 57.69097233629889...  \n",
       "5   POLYGON ((11.98001983988281 57.692617411050236...  \n",
       "6   POLYGON ((11.998626838639325 57.67059083997619...  \n",
       "7   POLYGON ((11.977700666917535 57.67009233679091...  \n",
       "8   POLYGON ((11.967831644804956 57.68783177605171...  \n",
       "9   POLYGON ((11.928819350507935 57.70261945905000...  \n",
       "10  POLYGON ((11.989140118159252 57.68384697554303...  \n",
       "11  POLYGON ((11.984394168384844 57.69047483388428...  \n",
       "12  POLYGON ((12.028253304421286 57.7184759629041,...  \n",
       "13  POLYGON ((11.993698513098641 57.67946153474759...  \n",
       "14  POLYGON ((11.987650376636715 57.70178716240053...  \n",
       "15  POLYGON ((11.991839193647028 57.70188684358558...  \n",
       "16  POLYGON ((11.92520110982695 57.69579055567218,...  \n",
       "17  POLYGON ((11.928059249534883 57.71158898824408...  \n",
       "18  POLYGON ((11.951460172512876 57.68294422640873...  \n",
       "19  POLYGON ((11.971269911189898 57.69690210141800...  \n",
       "\n",
       "[20 rows x 26 columns]"
      ]
     },
     "execution_count": 9,
     "metadata": {},
     "output_type": "execute_result"
    }
   ],
   "source": [
    "available_jobs.head(20)"
   ]
  },
  {
   "cell_type": "code",
   "execution_count": 10,
   "id": "1148c2ca",
   "metadata": {
    "scrolled": true
   },
   "outputs": [
    {
     "data": {
      "text/html": [
       "<div>\n",
       "<style scoped>\n",
       "    .dataframe tbody tr th:only-of-type {\n",
       "        vertical-align: middle;\n",
       "    }\n",
       "\n",
       "    .dataframe tbody tr th {\n",
       "        vertical-align: top;\n",
       "    }\n",
       "\n",
       "    .dataframe thead th {\n",
       "        text-align: right;\n",
       "    }\n",
       "</style>\n",
       "<table border=\"1\" class=\"dataframe\">\n",
       "  <thead>\n",
       "    <tr style=\"text-align: right;\">\n",
       "      <th></th>\n",
       "      <th>zone</th>\n",
       "      <th>grid_size</th>\n",
       "      <th>income_q1</th>\n",
       "      <th>income_q2</th>\n",
       "      <th>income_q3</th>\n",
       "      <th>income_q4</th>\n",
       "      <th>income_med</th>\n",
       "      <th>pop_income</th>\n",
       "      <th>birth_se</th>\n",
       "      <th>birth_nord</th>\n",
       "      <th>...</th>\n",
       "      <th>car_ownership</th>\n",
       "      <th>access</th>\n",
       "      <th>gain_ratio</th>\n",
       "      <th>nativity</th>\n",
       "      <th>q1_share</th>\n",
       "      <th>q4_share</th>\n",
       "      <th>q23_share</th>\n",
       "      <th>ICE_income</th>\n",
       "      <th>Income</th>\n",
       "      <th>geometry</th>\n",
       "    </tr>\n",
       "  </thead>\n",
       "  <tbody>\n",
       "    <tr>\n",
       "      <th>0</th>\n",
       "      <td>3235006407750</td>\n",
       "      <td>250</td>\n",
       "      <td>278.0</td>\n",
       "      <td>119.0</td>\n",
       "      <td>48.0</td>\n",
       "      <td>12.0</td>\n",
       "      <td>155114.0</td>\n",
       "      <td>457.0</td>\n",
       "      <td>544.0</td>\n",
       "      <td>21.0</td>\n",
       "      <td>...</td>\n",
       "      <td>0.190909</td>\n",
       "      <td>39086.554935</td>\n",
       "      <td>1.643083</td>\n",
       "      <td>Foreign-born (outside EU) \\n segregated</td>\n",
       "      <td>0.608315</td>\n",
       "      <td>0.026258</td>\n",
       "      <td>0.365427</td>\n",
       "      <td>-0.712182</td>\n",
       "      <td>Low income</td>\n",
       "      <td>POLYGON ((12.0318571294909 57.77697996182319, ...</td>\n",
       "    </tr>\n",
       "    <tr>\n",
       "      <th>1</th>\n",
       "      <td>3237506400750</td>\n",
       "      <td>250</td>\n",
       "      <td>9.0</td>\n",
       "      <td>4.0</td>\n",
       "      <td>12.0</td>\n",
       "      <td>25.0</td>\n",
       "      <td>352331.0</td>\n",
       "      <td>50.0</td>\n",
       "      <td>99.0</td>\n",
       "      <td>0.0</td>\n",
       "      <td>...</td>\n",
       "      <td>0.166775</td>\n",
       "      <td>39163.901228</td>\n",
       "      <td>1.068677</td>\n",
       "      <td>Native-born \\n segregated</td>\n",
       "      <td>0.180000</td>\n",
       "      <td>0.500000</td>\n",
       "      <td>0.320000</td>\n",
       "      <td>0.380952</td>\n",
       "      <td>High income</td>\n",
       "      <td>POLYGON ((12.04119249841365 57.71428530547311,...</td>\n",
       "    </tr>\n",
       "    <tr>\n",
       "      <th>2</th>\n",
       "      <td>3160006396250</td>\n",
       "      <td>250</td>\n",
       "      <td>156.0</td>\n",
       "      <td>118.0</td>\n",
       "      <td>89.0</td>\n",
       "      <td>47.0</td>\n",
       "      <td>209891.0</td>\n",
       "      <td>410.0</td>\n",
       "      <td>586.0</td>\n",
       "      <td>17.0</td>\n",
       "      <td>...</td>\n",
       "      <td>0.232627</td>\n",
       "      <td>27902.493703</td>\n",
       "      <td>1.621105</td>\n",
       "      <td>Foreign-born (outside EU) \\n segregated</td>\n",
       "      <td>0.380488</td>\n",
       "      <td>0.114634</td>\n",
       "      <td>0.504878</td>\n",
       "      <td>-0.355628</td>\n",
       "      <td>Low income</td>\n",
       "      <td>POLYGON ((11.914736006846878 57.67081845643037...</td>\n",
       "    </tr>\n",
       "    <tr>\n",
       "      <th>3</th>\n",
       "      <td>3192506401750</td>\n",
       "      <td>250</td>\n",
       "      <td>4.0</td>\n",
       "      <td>0.0</td>\n",
       "      <td>0.0</td>\n",
       "      <td>3.0</td>\n",
       "      <td>117049.0</td>\n",
       "      <td>7.0</td>\n",
       "      <td>0.0</td>\n",
       "      <td>0.0</td>\n",
       "      <td>...</td>\n",
       "      <td>0.195408</td>\n",
       "      <td>32438.611782</td>\n",
       "      <td>0.483487</td>\n",
       "      <td>Foreign-born (outside EU) \\n segregated</td>\n",
       "      <td>0.571429</td>\n",
       "      <td>0.428571</td>\n",
       "      <td>0.000000</td>\n",
       "      <td>-0.142857</td>\n",
       "      <td>Moderate</td>\n",
       "      <td>POLYGON ((11.965016734171629 57.72146889286957...</td>\n",
       "    </tr>\n",
       "    <tr>\n",
       "      <th>4</th>\n",
       "      <td>3235006408500</td>\n",
       "      <td>250</td>\n",
       "      <td>7.0</td>\n",
       "      <td>5.0</td>\n",
       "      <td>4.0</td>\n",
       "      <td>6.0</td>\n",
       "      <td>244778.0</td>\n",
       "      <td>22.0</td>\n",
       "      <td>66.0</td>\n",
       "      <td>0.0</td>\n",
       "      <td>...</td>\n",
       "      <td>0.208927</td>\n",
       "      <td>9135.600088</td>\n",
       "      <td>1.799539</td>\n",
       "      <td>Foreign-born (outside EU) \\n segregated</td>\n",
       "      <td>0.318182</td>\n",
       "      <td>0.272727</td>\n",
       "      <td>0.409091</td>\n",
       "      <td>-0.057143</td>\n",
       "      <td>Moderate</td>\n",
       "      <td>POLYGON ((12.03130461878788 57.783707669704256...</td>\n",
       "    </tr>\n",
       "    <tr>\n",
       "      <th>5</th>\n",
       "      <td>3150006403000</td>\n",
       "      <td>250</td>\n",
       "      <td>43.0</td>\n",
       "      <td>19.0</td>\n",
       "      <td>11.0</td>\n",
       "      <td>4.0</td>\n",
       "      <td>156656.0</td>\n",
       "      <td>77.0</td>\n",
       "      <td>133.0</td>\n",
       "      <td>4.0</td>\n",
       "      <td>...</td>\n",
       "      <td>0.210898</td>\n",
       "      <td>12735.756881</td>\n",
       "      <td>0.833625</td>\n",
       "      <td>Foreign-born (outside EU) \\n segregated</td>\n",
       "      <td>0.558442</td>\n",
       "      <td>0.051948</td>\n",
       "      <td>0.389610</td>\n",
       "      <td>-0.629032</td>\n",
       "      <td>Low income</td>\n",
       "      <td>POLYGON ((11.89281162410819 57.730951509766356...</td>\n",
       "    </tr>\n",
       "    <tr>\n",
       "      <th>6</th>\n",
       "      <td>3147506402500</td>\n",
       "      <td>250</td>\n",
       "      <td>193.0</td>\n",
       "      <td>105.0</td>\n",
       "      <td>45.0</td>\n",
       "      <td>17.0</td>\n",
       "      <td>169910.0</td>\n",
       "      <td>360.0</td>\n",
       "      <td>359.0</td>\n",
       "      <td>6.0</td>\n",
       "      <td>...</td>\n",
       "      <td>0.211211</td>\n",
       "      <td>13233.504475</td>\n",
       "      <td>0.970567</td>\n",
       "      <td>Foreign-born (outside EU) \\n segregated</td>\n",
       "      <td>0.536111</td>\n",
       "      <td>0.047222</td>\n",
       "      <td>0.416667</td>\n",
       "      <td>-0.617544</td>\n",
       "      <td>Low income</td>\n",
       "      <td>POLYGON ((11.889005104985474 57.72636393832097...</td>\n",
       "    </tr>\n",
       "    <tr>\n",
       "      <th>7</th>\n",
       "      <td>3222506406750</td>\n",
       "      <td>250</td>\n",
       "      <td>181.0</td>\n",
       "      <td>81.0</td>\n",
       "      <td>40.0</td>\n",
       "      <td>13.0</td>\n",
       "      <td>164766.0</td>\n",
       "      <td>315.0</td>\n",
       "      <td>387.0</td>\n",
       "      <td>5.0</td>\n",
       "      <td>...</td>\n",
       "      <td>0.202899</td>\n",
       "      <td>21258.372201</td>\n",
       "      <td>1.781757</td>\n",
       "      <td>Foreign-born (outside EU) \\n segregated</td>\n",
       "      <td>0.574603</td>\n",
       "      <td>0.041270</td>\n",
       "      <td>0.384127</td>\n",
       "      <td>-0.660118</td>\n",
       "      <td>Low income</td>\n",
       "      <td>POLYGON ((12.011610311804468 57.76751625517173...</td>\n",
       "    </tr>\n",
       "    <tr>\n",
       "      <th>8</th>\n",
       "      <td>3245006405750</td>\n",
       "      <td>250</td>\n",
       "      <td>120.0</td>\n",
       "      <td>63.0</td>\n",
       "      <td>44.0</td>\n",
       "      <td>8.0</td>\n",
       "      <td>172695.0</td>\n",
       "      <td>235.0</td>\n",
       "      <td>191.0</td>\n",
       "      <td>4.0</td>\n",
       "      <td>...</td>\n",
       "      <td>0.234180</td>\n",
       "      <td>26038.910899</td>\n",
       "      <td>1.304670</td>\n",
       "      <td>Foreign-born (outside EU) \\n segregated</td>\n",
       "      <td>0.510638</td>\n",
       "      <td>0.034043</td>\n",
       "      <td>0.455319</td>\n",
       "      <td>-0.617080</td>\n",
       "      <td>Low income</td>\n",
       "      <td>POLYGON ((12.050112048674052 57.75943136021546...</td>\n",
       "    </tr>\n",
       "    <tr>\n",
       "      <th>9</th>\n",
       "      <td>3155006394500</td>\n",
       "      <td>250</td>\n",
       "      <td>6.0</td>\n",
       "      <td>18.0</td>\n",
       "      <td>24.0</td>\n",
       "      <td>44.0</td>\n",
       "      <td>341070.0</td>\n",
       "      <td>92.0</td>\n",
       "      <td>111.0</td>\n",
       "      <td>5.0</td>\n",
       "      <td>...</td>\n",
       "      <td>0.213924</td>\n",
       "      <td>21432.421914</td>\n",
       "      <td>1.168366</td>\n",
       "      <td>Mixed</td>\n",
       "      <td>0.065217</td>\n",
       "      <td>0.478261</td>\n",
       "      <td>0.456522</td>\n",
       "      <td>0.535211</td>\n",
       "      <td>High income</td>\n",
       "      <td>POLYGON ((11.90770318460566 57.654917359628385...</td>\n",
       "    </tr>\n",
       "    <tr>\n",
       "      <th>10</th>\n",
       "      <td>3225006406250</td>\n",
       "      <td>250</td>\n",
       "      <td>0.0</td>\n",
       "      <td>0.0</td>\n",
       "      <td>0.0</td>\n",
       "      <td>3.0</td>\n",
       "      <td>211590.0</td>\n",
       "      <td>3.0</td>\n",
       "      <td>12.0</td>\n",
       "      <td>0.0</td>\n",
       "      <td>...</td>\n",
       "      <td>0.225287</td>\n",
       "      <td>10653.786392</td>\n",
       "      <td>1.509307</td>\n",
       "      <td>Foreign-born (outside EU) \\n segregated</td>\n",
       "      <td>0.000000</td>\n",
       "      <td>1.000000</td>\n",
       "      <td>0.000000</td>\n",
       "      <td>1.000000</td>\n",
       "      <td>High income</td>\n",
       "      <td>POLYGON ((12.016176891019704 57.76313003870025...</td>\n",
       "    </tr>\n",
       "    <tr>\n",
       "      <th>11</th>\n",
       "      <td>3160006396750</td>\n",
       "      <td>250</td>\n",
       "      <td>10.0</td>\n",
       "      <td>6.0</td>\n",
       "      <td>10.0</td>\n",
       "      <td>3.0</td>\n",
       "      <td>246036.0</td>\n",
       "      <td>29.0</td>\n",
       "      <td>35.0</td>\n",
       "      <td>3.0</td>\n",
       "      <td>...</td>\n",
       "      <td>0.227493</td>\n",
       "      <td>31241.614037</td>\n",
       "      <td>1.486910</td>\n",
       "      <td>Foreign-born (outside EU) \\n segregated</td>\n",
       "      <td>0.344828</td>\n",
       "      <td>0.103448</td>\n",
       "      <td>0.551724</td>\n",
       "      <td>-0.333333</td>\n",
       "      <td>Low income</td>\n",
       "      <td>POLYGON ((11.914354740006884 57.67530318678385...</td>\n",
       "    </tr>\n",
       "    <tr>\n",
       "      <th>12</th>\n",
       "      <td>3160006396500</td>\n",
       "      <td>250</td>\n",
       "      <td>112.0</td>\n",
       "      <td>127.0</td>\n",
       "      <td>98.0</td>\n",
       "      <td>39.0</td>\n",
       "      <td>219291.0</td>\n",
       "      <td>376.0</td>\n",
       "      <td>603.0</td>\n",
       "      <td>19.0</td>\n",
       "      <td>...</td>\n",
       "      <td>0.235764</td>\n",
       "      <td>38166.167394</td>\n",
       "      <td>1.599027</td>\n",
       "      <td>Foreign-born (outside EU) \\n segregated</td>\n",
       "      <td>0.297872</td>\n",
       "      <td>0.103723</td>\n",
       "      <td>0.598404</td>\n",
       "      <td>-0.277040</td>\n",
       "      <td>Moderate</td>\n",
       "      <td>POLYGON ((11.914545387554375 57.67306082220822...</td>\n",
       "    </tr>\n",
       "    <tr>\n",
       "      <th>13</th>\n",
       "      <td>3237506407500</td>\n",
       "      <td>250</td>\n",
       "      <td>44.0</td>\n",
       "      <td>28.0</td>\n",
       "      <td>29.0</td>\n",
       "      <td>15.0</td>\n",
       "      <td>217130.0</td>\n",
       "      <td>116.0</td>\n",
       "      <td>194.0</td>\n",
       "      <td>16.0</td>\n",
       "      <td>...</td>\n",
       "      <td>0.249103</td>\n",
       "      <td>9935.506242</td>\n",
       "      <td>2.480163</td>\n",
       "      <td>Foreign-born (outside EU) \\n segregated</td>\n",
       "      <td>0.379310</td>\n",
       "      <td>0.129310</td>\n",
       "      <td>0.491379</td>\n",
       "      <td>-0.331429</td>\n",
       "      <td>Low income</td>\n",
       "      <td>POLYGON ((12.036238673038703 57.77483568041906...</td>\n",
       "    </tr>\n",
       "    <tr>\n",
       "      <th>14</th>\n",
       "      <td>3157506396500</td>\n",
       "      <td>250</td>\n",
       "      <td>77.0</td>\n",
       "      <td>82.0</td>\n",
       "      <td>89.0</td>\n",
       "      <td>37.0</td>\n",
       "      <td>240234.0</td>\n",
       "      <td>285.0</td>\n",
       "      <td>533.0</td>\n",
       "      <td>4.0</td>\n",
       "      <td>...</td>\n",
       "      <td>0.235764</td>\n",
       "      <td>34702.055515</td>\n",
       "      <td>1.464208</td>\n",
       "      <td>Foreign-born (outside EU) \\n segregated</td>\n",
       "      <td>0.270175</td>\n",
       "      <td>0.129825</td>\n",
       "      <td>0.600000</td>\n",
       "      <td>-0.200501</td>\n",
       "      <td>Moderate</td>\n",
       "      <td>POLYGON ((11.910360057834355 57.67295861271604...</td>\n",
       "    </tr>\n",
       "    <tr>\n",
       "      <th>15</th>\n",
       "      <td>3245006406000</td>\n",
       "      <td>250</td>\n",
       "      <td>65.0</td>\n",
       "      <td>19.0</td>\n",
       "      <td>3.0</td>\n",
       "      <td>5.0</td>\n",
       "      <td>152874.0</td>\n",
       "      <td>92.0</td>\n",
       "      <td>68.0</td>\n",
       "      <td>7.0</td>\n",
       "      <td>...</td>\n",
       "      <td>0.234180</td>\n",
       "      <td>12773.102520</td>\n",
       "      <td>1.000008</td>\n",
       "      <td>Foreign-born (outside EU) \\n segregated</td>\n",
       "      <td>0.706522</td>\n",
       "      <td>0.054348</td>\n",
       "      <td>0.239130</td>\n",
       "      <td>-0.740741</td>\n",
       "      <td>Low income</td>\n",
       "      <td>POLYGON ((12.049929161378943 57.76167397388767...</td>\n",
       "    </tr>\n",
       "    <tr>\n",
       "      <th>16</th>\n",
       "      <td>3145006402250</td>\n",
       "      <td>250</td>\n",
       "      <td>134.0</td>\n",
       "      <td>67.0</td>\n",
       "      <td>30.0</td>\n",
       "      <td>10.0</td>\n",
       "      <td>162991.0</td>\n",
       "      <td>241.0</td>\n",
       "      <td>246.0</td>\n",
       "      <td>0.0</td>\n",
       "      <td>...</td>\n",
       "      <td>0.247944</td>\n",
       "      <td>5407.355394</td>\n",
       "      <td>0.521684</td>\n",
       "      <td>Foreign-born (outside EU) \\n segregated</td>\n",
       "      <td>0.556017</td>\n",
       "      <td>0.041494</td>\n",
       "      <td>0.402490</td>\n",
       "      <td>-0.644156</td>\n",
       "      <td>Low income</td>\n",
       "      <td>POLYGON ((11.885006712798967 57.72401854397011...</td>\n",
       "    </tr>\n",
       "    <tr>\n",
       "      <th>17</th>\n",
       "      <td>3147506402750</td>\n",
       "      <td>250</td>\n",
       "      <td>59.0</td>\n",
       "      <td>32.0</td>\n",
       "      <td>10.0</td>\n",
       "      <td>3.0</td>\n",
       "      <td>164068.0</td>\n",
       "      <td>104.0</td>\n",
       "      <td>175.0</td>\n",
       "      <td>3.0</td>\n",
       "      <td>...</td>\n",
       "      <td>0.210898</td>\n",
       "      <td>6401.532958</td>\n",
       "      <td>0.530615</td>\n",
       "      <td>Foreign-born (outside EU) \\n segregated</td>\n",
       "      <td>0.567308</td>\n",
       "      <td>0.028846</td>\n",
       "      <td>0.403846</td>\n",
       "      <td>-0.674699</td>\n",
       "      <td>Low income</td>\n",
       "      <td>POLYGON ((11.88881248505794 57.72860622975826,...</td>\n",
       "    </tr>\n",
       "    <tr>\n",
       "      <th>18</th>\n",
       "      <td>3242506405250</td>\n",
       "      <td>250</td>\n",
       "      <td>0.0</td>\n",
       "      <td>3.0</td>\n",
       "      <td>0.0</td>\n",
       "      <td>0.0</td>\n",
       "      <td>259844.0</td>\n",
       "      <td>3.0</td>\n",
       "      <td>8.0</td>\n",
       "      <td>0.0</td>\n",
       "      <td>...</td>\n",
       "      <td>0.234180</td>\n",
       "      <td>5959.874569</td>\n",
       "      <td>0.807586</td>\n",
       "      <td>Foreign-born (outside EU) \\n segregated</td>\n",
       "      <td>0.000000</td>\n",
       "      <td>0.000000</td>\n",
       "      <td>1.000000</td>\n",
       "      <td>0.000000</td>\n",
       "      <td>Moderate</td>\n",
       "      <td>POLYGON ((12.04628242701031 57.75484832851569,...</td>\n",
       "    </tr>\n",
       "    <tr>\n",
       "      <th>19</th>\n",
       "      <td>3157506394000</td>\n",
       "      <td>250</td>\n",
       "      <td>186.0</td>\n",
       "      <td>77.0</td>\n",
       "      <td>40.0</td>\n",
       "      <td>25.0</td>\n",
       "      <td>167047.0</td>\n",
       "      <td>328.0</td>\n",
       "      <td>318.0</td>\n",
       "      <td>5.0</td>\n",
       "      <td>...</td>\n",
       "      <td>0.195134</td>\n",
       "      <td>31364.631619</td>\n",
       "      <td>0.986473</td>\n",
       "      <td>Foreign-born (outside EU) \\n segregated</td>\n",
       "      <td>0.567073</td>\n",
       "      <td>0.076220</td>\n",
       "      <td>0.356707</td>\n",
       "      <td>-0.597403</td>\n",
       "      <td>Low income</td>\n",
       "      <td>POLYGON ((11.912267561827173 57.65053489915562...</td>\n",
       "    </tr>\n",
       "  </tbody>\n",
       "</table>\n",
       "<p>20 rows × 26 columns</p>\n",
       "</div>"
      ],
      "text/plain": [
       "             zone  grid_size  income_q1  income_q2  income_q3  income_q4  \\\n",
       "0   3235006407750        250      278.0      119.0       48.0       12.0   \n",
       "1   3237506400750        250        9.0        4.0       12.0       25.0   \n",
       "2   3160006396250        250      156.0      118.0       89.0       47.0   \n",
       "3   3192506401750        250        4.0        0.0        0.0        3.0   \n",
       "4   3235006408500        250        7.0        5.0        4.0        6.0   \n",
       "5   3150006403000        250       43.0       19.0       11.0        4.0   \n",
       "6   3147506402500        250      193.0      105.0       45.0       17.0   \n",
       "7   3222506406750        250      181.0       81.0       40.0       13.0   \n",
       "8   3245006405750        250      120.0       63.0       44.0        8.0   \n",
       "9   3155006394500        250        6.0       18.0       24.0       44.0   \n",
       "10  3225006406250        250        0.0        0.0        0.0        3.0   \n",
       "11  3160006396750        250       10.0        6.0       10.0        3.0   \n",
       "12  3160006396500        250      112.0      127.0       98.0       39.0   \n",
       "13  3237506407500        250       44.0       28.0       29.0       15.0   \n",
       "14  3157506396500        250       77.0       82.0       89.0       37.0   \n",
       "15  3245006406000        250       65.0       19.0        3.0        5.0   \n",
       "16  3145006402250        250      134.0       67.0       30.0       10.0   \n",
       "17  3147506402750        250       59.0       32.0       10.0        3.0   \n",
       "18  3242506405250        250        0.0        3.0        0.0        0.0   \n",
       "19  3157506394000        250      186.0       77.0       40.0       25.0   \n",
       "\n",
       "    income_med  pop_income  birth_se  birth_nord  ...  car_ownership  \\\n",
       "0     155114.0       457.0     544.0        21.0  ...       0.190909   \n",
       "1     352331.0        50.0      99.0         0.0  ...       0.166775   \n",
       "2     209891.0       410.0     586.0        17.0  ...       0.232627   \n",
       "3     117049.0         7.0       0.0         0.0  ...       0.195408   \n",
       "4     244778.0        22.0      66.0         0.0  ...       0.208927   \n",
       "5     156656.0        77.0     133.0         4.0  ...       0.210898   \n",
       "6     169910.0       360.0     359.0         6.0  ...       0.211211   \n",
       "7     164766.0       315.0     387.0         5.0  ...       0.202899   \n",
       "8     172695.0       235.0     191.0         4.0  ...       0.234180   \n",
       "9     341070.0        92.0     111.0         5.0  ...       0.213924   \n",
       "10    211590.0         3.0      12.0         0.0  ...       0.225287   \n",
       "11    246036.0        29.0      35.0         3.0  ...       0.227493   \n",
       "12    219291.0       376.0     603.0        19.0  ...       0.235764   \n",
       "13    217130.0       116.0     194.0        16.0  ...       0.249103   \n",
       "14    240234.0       285.0     533.0         4.0  ...       0.235764   \n",
       "15    152874.0        92.0      68.0         7.0  ...       0.234180   \n",
       "16    162991.0       241.0     246.0         0.0  ...       0.247944   \n",
       "17    164068.0       104.0     175.0         3.0  ...       0.210898   \n",
       "18    259844.0         3.0       8.0         0.0  ...       0.234180   \n",
       "19    167047.0       328.0     318.0         5.0  ...       0.195134   \n",
       "\n",
       "          access  gain_ratio                                 nativity  \\\n",
       "0   39086.554935    1.643083  Foreign-born (outside EU) \\n segregated   \n",
       "1   39163.901228    1.068677                Native-born \\n segregated   \n",
       "2   27902.493703    1.621105  Foreign-born (outside EU) \\n segregated   \n",
       "3   32438.611782    0.483487  Foreign-born (outside EU) \\n segregated   \n",
       "4    9135.600088    1.799539  Foreign-born (outside EU) \\n segregated   \n",
       "5   12735.756881    0.833625  Foreign-born (outside EU) \\n segregated   \n",
       "6   13233.504475    0.970567  Foreign-born (outside EU) \\n segregated   \n",
       "7   21258.372201    1.781757  Foreign-born (outside EU) \\n segregated   \n",
       "8   26038.910899    1.304670  Foreign-born (outside EU) \\n segregated   \n",
       "9   21432.421914    1.168366                                    Mixed   \n",
       "10  10653.786392    1.509307  Foreign-born (outside EU) \\n segregated   \n",
       "11  31241.614037    1.486910  Foreign-born (outside EU) \\n segregated   \n",
       "12  38166.167394    1.599027  Foreign-born (outside EU) \\n segregated   \n",
       "13   9935.506242    2.480163  Foreign-born (outside EU) \\n segregated   \n",
       "14  34702.055515    1.464208  Foreign-born (outside EU) \\n segregated   \n",
       "15  12773.102520    1.000008  Foreign-born (outside EU) \\n segregated   \n",
       "16   5407.355394    0.521684  Foreign-born (outside EU) \\n segregated   \n",
       "17   6401.532958    0.530615  Foreign-born (outside EU) \\n segregated   \n",
       "18   5959.874569    0.807586  Foreign-born (outside EU) \\n segregated   \n",
       "19  31364.631619    0.986473  Foreign-born (outside EU) \\n segregated   \n",
       "\n",
       "    q1_share  q4_share  q23_share  ICE_income       Income  \\\n",
       "0   0.608315  0.026258   0.365427   -0.712182   Low income   \n",
       "1   0.180000  0.500000   0.320000    0.380952  High income   \n",
       "2   0.380488  0.114634   0.504878   -0.355628   Low income   \n",
       "3   0.571429  0.428571   0.000000   -0.142857     Moderate   \n",
       "4   0.318182  0.272727   0.409091   -0.057143     Moderate   \n",
       "5   0.558442  0.051948   0.389610   -0.629032   Low income   \n",
       "6   0.536111  0.047222   0.416667   -0.617544   Low income   \n",
       "7   0.574603  0.041270   0.384127   -0.660118   Low income   \n",
       "8   0.510638  0.034043   0.455319   -0.617080   Low income   \n",
       "9   0.065217  0.478261   0.456522    0.535211  High income   \n",
       "10  0.000000  1.000000   0.000000    1.000000  High income   \n",
       "11  0.344828  0.103448   0.551724   -0.333333   Low income   \n",
       "12  0.297872  0.103723   0.598404   -0.277040     Moderate   \n",
       "13  0.379310  0.129310   0.491379   -0.331429   Low income   \n",
       "14  0.270175  0.129825   0.600000   -0.200501     Moderate   \n",
       "15  0.706522  0.054348   0.239130   -0.740741   Low income   \n",
       "16  0.556017  0.041494   0.402490   -0.644156   Low income   \n",
       "17  0.567308  0.028846   0.403846   -0.674699   Low income   \n",
       "18  0.000000  0.000000   1.000000    0.000000     Moderate   \n",
       "19  0.567073  0.076220   0.356707   -0.597403   Low income   \n",
       "\n",
       "                                             geometry  \n",
       "0   POLYGON ((12.0318571294909 57.77697996182319, ...  \n",
       "1   POLYGON ((12.04119249841365 57.71428530547311,...  \n",
       "2   POLYGON ((11.914736006846878 57.67081845643037...  \n",
       "3   POLYGON ((11.965016734171629 57.72146889286957...  \n",
       "4   POLYGON ((12.03130461878788 57.783707669704256...  \n",
       "5   POLYGON ((11.89281162410819 57.730951509766356...  \n",
       "6   POLYGON ((11.889005104985474 57.72636393832097...  \n",
       "7   POLYGON ((12.011610311804468 57.76751625517173...  \n",
       "8   POLYGON ((12.050112048674052 57.75943136021546...  \n",
       "9   POLYGON ((11.90770318460566 57.654917359628385...  \n",
       "10  POLYGON ((12.016176891019704 57.76313003870025...  \n",
       "11  POLYGON ((11.914354740006884 57.67530318678385...  \n",
       "12  POLYGON ((11.914545387554375 57.67306082220822...  \n",
       "13  POLYGON ((12.036238673038703 57.77483568041906...  \n",
       "14  POLYGON ((11.910360057834355 57.67295861271604...  \n",
       "15  POLYGON ((12.049929161378943 57.76167397388767...  \n",
       "16  POLYGON ((11.885006712798967 57.72401854397011...  \n",
       "17  POLYGON ((11.88881248505794 57.72860622975826,...  \n",
       "18  POLYGON ((12.04628242701031 57.75484832851569,...  \n",
       "19  POLYGON ((11.912267561827173 57.65053489915562...  \n",
       "\n",
       "[20 rows x 26 columns]"
      ]
     },
     "execution_count": 10,
     "metadata": {},
     "output_type": "execute_result"
    }
   ],
   "source": [
    "unavailable_jobs.head(20)"
   ]
  },
  {
   "cell_type": "code",
   "execution_count": 24,
   "id": "44843dca",
   "metadata": {},
   "outputs": [],
   "source": [
    "available_jobs['gain_ratio'] = available_jobs['gain_ratio']*100\n",
    "unavailable_jobs['gain_ratio'] = unavailable_jobs['gain_ratio']*100"
   ]
  },
  {
   "cell_type": "code",
   "execution_count": 25,
   "id": "81e116ef",
   "metadata": {},
   "outputs": [
    {
     "data": {
      "image/png": "[encoded data removed]",
      "text/plain": [
       "<Figure size 4200x2100 with 2 Axes>"
      ]
     },
     "metadata": {
      "needs_background": "light"
     },
     "output_type": "display_data"
    }
   ],
   "source": [
    "import ptitprince as pt \n",
    "import seaborn as sns\n",
    "import matplotlib.pyplot as plt\n",
    "from matplotlib import rc\n",
    "import seaborn as sns\n",
    "\n",
    "\n",
    "# rc('font', **{'family': 'serif', 'serif': ['Computer Modern']})\n",
    "# rc('text', usetex=True)\n",
    "# plt.rcParams.update({'font.size': 26})\n",
    "\n",
    "plt.rcParams.update({\n",
    "    'text.usetex': True,\n",
    "    'text.latex.preamble': r'\\usepackage{eulervm}',\n",
    "    'font.family': 'serif',\n",
    "    'font.serif': 'Computer Modern',\n",
    "    'font.size': 15,\n",
    "})\n",
    "\n",
    "COLORS1 = [\"pink\", \"lightblue\", \"lightgreen\"]\n",
    "\n",
    "\n",
    "\n",
    "fig, axes = plt.subplots(1, 2, figsize=(14, 7), dpi=300, sharey=True, sharex=False)\n",
    "\n",
    "# Create Raincloud plot for available_region\n",
    "ort = \"v\"\n",
    "ax1 = pt.RainCloud(x=\"nativity\", y=\"gain_ratio\", data=available_jobs, ax=axes[0], \n",
    "                   orient=ort, alpha=0.6, palette=COLORS1, width_viol = .6)\n",
    "ax1.set(ylabel='', xlabel='')\n",
    "ax1.set_title('ESS-available Regions')\n",
    "ax1.set_ylabel(r'Percentage increase in accessibility $(\\%)$') \n",
    "# ax1.annotate('(a)', xy=(0.5, 0.95), xycoords='axes fraction', fontsize=12,\n",
    "#              ha='center', va='center')\n",
    "\n",
    "# Create Raincloud plot for unavailable_region\n",
    "ax2 = pt.RainCloud(x=\"nativity\", y=\"gain_ratio\", data=unavailable_jobs, ax=axes[1], \n",
    "                    orient=ort, alpha=0.6, palette=COLORS1, width_viol = .6)\n",
    "ax2.set(ylabel='', xlabel='')\n",
    "ax2.set_title('ESS-unavailable Regions')\n",
    "ax2.set()\n",
    "ax2.tick_params(axis='y', length=0)\n",
    "\n",
    "plt.subplots_adjust(wspace=0)\n",
    "plt.savefig('result_output/new_nativity.pdf', bbox_inches='tight', dpi=300)\n",
    "plt.show()"
   ]
  },
  {
   "cell_type": "code",
   "execution_count": 10,
   "id": "ba01a825",
   "metadata": {},
   "outputs": [
    {
     "data": {
      "image/png": "[encoded data removed]",
      "text/plain": [
       "<Figure size 3600x1800 with 2 Axes>"
      ]
     },
     "metadata": {
      "needs_background": "light"
     },
     "output_type": "display_data"
    }
   ],
   "source": [
    "import ptitprince as pt \n",
    "import seaborn as sns\n",
    "\n",
    "rc('font', **{'family': 'serif', 'serif': ['Computer Modern']})\n",
    "rc('text', usetex=True)\n",
    "plt.rcParams.update({'font.size': 14})\n",
    "\n",
    "COLORS1 = [\"pink\", \"lightblue\", \"lightgreen\"]\n",
    "\n",
    "\n",
    "fig, axes = plt.subplots(1, 2, figsize=(12, 6), dpi=300, sharey=True, sharex=False)\n",
    "\n",
    "# Create Raincloud plot for available_region\n",
    "ort = \"v\"\n",
    "ax1 = pt.RainCloud(x=\"Income\", y=\"gain_ratio\", data=available_jobs, ax=axes[0], \n",
    "                   orient=ort, alpha=0.6, palette=COLORS1, width_viol = .6)\n",
    "ax1.set(ylabel='', xlabel='')\n",
    "ax1.set_title('E-scooter available Region')\n",
    "ax1.set_ylabel(r'Accessibility Gain Ratio $(\\times 100\\%)$') \n",
    "# ax1.annotate('(a)', xy=(0.5, 0.95), xycoords='axes fraction', fontsize=12,\n",
    "#              ha='center', va='center')\n",
    "\n",
    "# Create Raincloud plot for unavailable_region\n",
    "ax2 = pt.RainCloud(x=\"Income\", y=\"gain_ratio\", data=unavailable_jobs, ax=axes[1], \n",
    "                    orient=ort, alpha=0.6, palette=COLORS1, width_viol = .6)\n",
    "ax2.set(ylabel='', xlabel='')\n",
    "ax2.set_title('E-scooter unavailable Region')\n",
    "ax2.set()\n",
    "ax2.tick_params(axis='y', length=0)\n",
    "# ax2.set_facecolor((1, 1, 0.8, 0.2))\n",
    "\n",
    "plt.subplots_adjust(wspace=0)\n",
    "plt.savefig('result_output/Income.png', bbox_inches='tight', dpi=300)\n",
    "plt.show()"
   ]
  },
  {
   "cell_type": "markdown",
   "id": "085b8c78",
   "metadata": {},
   "source": [
    "# Sankey"
   ]
  },
  {
   "cell_type": "code",
   "execution_count": 23,
   "id": "570337da",
   "metadata": {},
   "outputs": [
    {
     "data": {
      "application/vnd.plotly.v1+json": {
       "config": {
        "plotlyServerURL": "https://plot.ly"
       },
       "data": [
        {
         "link": {
          "color": [
           "lightskyblue",
           "lightskyblue",
           "lightskyblue",
           "lightgreen",
           "lightgreen",
           "lightgreen",
           "bisque",
           "bisque",
           "bisque"
          ],
          "source": [
           0,
           0,
           0,
           1,
           1,
           1,
           2,
           2,
           2
          ],
          "target": [
           3,
           4,
           5,
           3,
           4,
           5,
           3,
           4,
           5
          ],
          "value": [
           50,
           2,
           12,
           0,
           4,
           1,
           3,
           1,
           2
          ]
         },
         "node": {
          "color": [
           "dodgerblue",
           "seagreen",
           "orange",
           "lightseagreen",
           "greenyellow",
           "mediumspringgreen"
          ],
          "label": [
           "Foreign-born (outside EU)<br>              segregated",
           "Native-born segregated",
           "Mixed",
           "Low income",
           "High income",
           "Moderate"
          ]
         },
         "type": "sankey"
        }
       ],
       "layout": {
        "font": {
         "family": "Palatino",
         "size": 16
        },
        "height": 500,
        "margin": {
         "b": 30,
         "l": 30,
         "pad": 9,
         "r": 30,
         "t": 30
        },
        "template": {
         "data": {
          "bar": [
           {
            "error_x": {
             "color": "#2a3f5f"
            },
            "error_y": {
             "color": "#2a3f5f"
            },
            "marker": {
             "line": {
              "color": "#E5ECF6",
              "width": 0.5
             },
             "pattern": {
              "fillmode": "overlay",
              "size": 10,
              "solidity": 0.2
             }
            },
            "type": "bar"
           }
          ],
          "barpolar": [
           {
            "marker": {
             "line": {
              "color": "#E5ECF6",
              "width": 0.5
             },
             "pattern": {
              "fillmode": "overlay",
              "size": 10,
              "solidity": 0.2
             }
            },
            "type": "barpolar"
           }
          ],
          "carpet": [
           {
            "aaxis": {
             "endlinecolor": "#2a3f5f",
             "gridcolor": "white",
             "linecolor": "white",
             "minorgridcolor": "white",
             "startlinecolor": "#2a3f5f"
            },
            "baxis": {
             "endlinecolor": "#2a3f5f",
             "gridcolor": "white",
             "linecolor": "white",
             "minorgridcolor": "white",
             "startlinecolor": "#2a3f5f"
            },
            "type": "carpet"
           }
          ],
          "choropleth": [
           {
            "colorbar": {
             "outlinewidth": 0,
             "ticks": ""
            },
            "type": "choropleth"
           }
          ],
          "contour": [
           {
            "colorbar": {
             "outlinewidth": 0,
             "ticks": ""
            },
            "colorscale": [
             [
              0,
              "#0d0887"
             ],
             [
              0.1111111111111111,
              "#46039f"
             ],
             [
              0.2222222222222222,
              "#7201a8"
             ],
             [
              0.3333333333333333,
              "#9c179e"
             ],
             [
              0.4444444444444444,
              "#bd3786"
             ],
             [
              0.5555555555555556,
              "#d8576b"
             ],
             [
              0.6666666666666666,
              "#ed7953"
             ],
             [
              0.7777777777777778,
              "#fb9f3a"
             ],
             [
              0.8888888888888888,
              "#fdca26"
             ],
             [
              1,
              "#f0f921"
             ]
            ],
            "type": "contour"
           }
          ],
          "contourcarpet": [
           {
            "colorbar": {
             "outlinewidth": 0,
             "ticks": ""
            },
            "type": "contourcarpet"
           }
          ],
          "heatmap": [
           {
            "colorbar": {
             "outlinewidth": 0,
             "ticks": ""
            },
            "colorscale": [
             [
              0,
              "#0d0887"
             ],
             [
              0.1111111111111111,
              "#46039f"
             ],
             [
              0.2222222222222222,
              "#7201a8"
             ],
             [
              0.3333333333333333,
              "#9c179e"
             ],
             [
              0.4444444444444444,
              "#bd3786"
             ],
             [
              0.5555555555555556,
              "#d8576b"
             ],
             [
              0.6666666666666666,
              "#ed7953"
             ],
             [
              0.7777777777777778,
              "#fb9f3a"
             ],
             [
              0.8888888888888888,
              "#fdca26"
             ],
             [
              1,
              "#f0f921"
             ]
            ],
            "type": "heatmap"
           }
          ],
          "heatmapgl": [
           {
            "colorbar": {
             "outlinewidth": 0,
             "ticks": ""
            },
            "colorscale": [
             [
              0,
              "#0d0887"
             ],
             [
              0.1111111111111111,
              "#46039f"
             ],
             [
              0.2222222222222222,
              "#7201a8"
             ],
             [
              0.3333333333333333,
              "#9c179e"
             ],
             [
              0.4444444444444444,
              "#bd3786"
             ],
             [
              0.5555555555555556,
              "#d8576b"
             ],
             [
              0.6666666666666666,
              "#ed7953"
             ],
             [
              0.7777777777777778,
              "#fb9f3a"
             ],
             [
              0.8888888888888888,
              "#fdca26"
             ],
             [
              1,
              "#f0f921"
             ]
            ],
            "type": "heatmapgl"
           }
          ],
          "histogram": [
           {
            "marker": {
             "pattern": {
              "fillmode": "overlay",
              "size": 10,
              "solidity": 0.2
             }
            },
            "type": "histogram"
           }
          ],
          "histogram2d": [
           {
            "colorbar": {
             "outlinewidth": 0,
             "ticks": ""
            },
            "colorscale": [
             [
              0,
              "#0d0887"
             ],
             [
              0.1111111111111111,
              "#46039f"
             ],
             [
              0.2222222222222222,
              "#7201a8"
             ],
             [
              0.3333333333333333,
              "#9c179e"
             ],
             [
              0.4444444444444444,
              "#bd3786"
             ],
             [
              0.5555555555555556,
              "#d8576b"
             ],
             [
              0.6666666666666666,
              "#ed7953"
             ],
             [
              0.7777777777777778,
              "#fb9f3a"
             ],
             [
              0.8888888888888888,
              "#fdca26"
             ],
             [
              1,
              "#f0f921"
             ]
            ],
            "type": "histogram2d"
           }
          ],
          "histogram2dcontour": [
           {
            "colorbar": {
             "outlinewidth": 0,
             "ticks": ""
            },
            "colorscale": [
             [
              0,
              "#0d0887"
             ],
             [
              0.1111111111111111,
              "#46039f"
             ],
             [
              0.2222222222222222,
              "#7201a8"
             ],
             [
              0.3333333333333333,
              "#9c179e"
             ],
             [
              0.4444444444444444,
              "#bd3786"
             ],
             [
              0.5555555555555556,
              "#d8576b"
             ],
             [
              0.6666666666666666,
              "#ed7953"
             ],
             [
              0.7777777777777778,
              "#fb9f3a"
             ],
             [
              0.8888888888888888,
              "#fdca26"
             ],
             [
              1,
              "#f0f921"
             ]
            ],
            "type": "histogram2dcontour"
           }
          ],
          "mesh3d": [
           {
            "colorbar": {
             "outlinewidth": 0,
             "ticks": ""
            },
            "type": "mesh3d"
           }
          ],
          "parcoords": [
           {
            "line": {
             "colorbar": {
              "outlinewidth": 0,
              "ticks": ""
             }
            },
            "type": "parcoords"
           }
          ],
          "pie": [
           {
            "automargin": true,
            "type": "pie"
           }
          ],
          "scatter": [
           {
            "fillpattern": {
             "fillmode": "overlay",
             "size": 10,
             "solidity": 0.2
            },
            "type": "scatter"
           }
          ],
          "scatter3d": [
           {
            "line": {
             "colorbar": {
              "outlinewidth": 0,
              "ticks": ""
             }
            },
            "marker": {
             "colorbar": {
              "outlinewidth": 0,
              "ticks": ""
             }
            },
            "type": "scatter3d"
           }
          ],
          "scattercarpet": [
           {
            "marker": {
             "colorbar": {
              "outlinewidth": 0,
              "ticks": ""
             }
            },
            "type": "scattercarpet"
           }
          ],
          "scattergeo": [
           {
            "marker": {
             "colorbar": {
              "outlinewidth": 0,
              "ticks": ""
             }
            },
            "type": "scattergeo"
           }
          ],
          "scattergl": [
           {
            "marker": {
             "colorbar": {
              "outlinewidth": 0,
              "ticks": ""
             }
            },
            "type": "scattergl"
           }
          ],
          "scattermapbox": [
           {
            "marker": {
             "colorbar": {
              "outlinewidth": 0,
              "ticks": ""
             }
            },
            "type": "scattermapbox"
           }
          ],
          "scatterpolar": [
           {
            "marker": {
             "colorbar": {
              "outlinewidth": 0,
              "ticks": ""
             }
            },
            "type": "scatterpolar"
           }
          ],
          "scatterpolargl": [
           {
            "marker": {
             "colorbar": {
              "outlinewidth": 0,
              "ticks": ""
             }
            },
            "type": "scatterpolargl"
           }
          ],
          "scatterternary": [
           {
            "marker": {
             "colorbar": {
              "outlinewidth": 0,
              "ticks": ""
             }
            },
            "type": "scatterternary"
           }
          ],
          "surface": [
           {
            "colorbar": {
             "outlinewidth": 0,
             "ticks": ""
            },
            "colorscale": [
             [
              0,
              "#0d0887"
             ],
             [
              0.1111111111111111,
              "#46039f"
             ],
             [
              0.2222222222222222,
              "#7201a8"
             ],
             [
              0.3333333333333333,
              "#9c179e"
             ],
             [
              0.4444444444444444,
              "#bd3786"
             ],
             [
              0.5555555555555556,
              "#d8576b"
             ],
             [
              0.6666666666666666,
              "#ed7953"
             ],
             [
              0.7777777777777778,
              "#fb9f3a"
             ],
             [
              0.8888888888888888,
              "#fdca26"
             ],
             [
              1,
              "#f0f921"
             ]
            ],
            "type": "surface"
           }
          ],
          "table": [
           {
            "cells": {
             "fill": {
              "color": "#EBF0F8"
             },
             "line": {
              "color": "white"
             }
            },
            "header": {
             "fill": {
              "color": "#C8D4E3"
             },
             "line": {
              "color": "white"
             }
            },
            "type": "table"
           }
          ]
         },
         "layout": {
          "annotationdefaults": {
           "arrowcolor": "#2a3f5f",
           "arrowhead": 0,
           "arrowwidth": 1
          },
          "autotypenumbers": "strict",
          "coloraxis": {
           "colorbar": {
            "outlinewidth": 0,
            "ticks": ""
           }
          },
          "colorscale": {
           "diverging": [
            [
             0,
             "#8e0152"
            ],
            [
             0.1,
             "#c51b7d"
            ],
            [
             0.2,
             "#de77ae"
            ],
            [
             0.3,
             "#f1b6da"
            ],
            [
             0.4,
             "#fde0ef"
            ],
            [
             0.5,
             "#f7f7f7"
            ],
            [
             0.6,
             "#e6f5d0"
            ],
            [
             0.7,
             "#b8e186"
            ],
            [
             0.8,
             "#7fbc41"
            ],
            [
             0.9,
             "#4d9221"
            ],
            [
             1,
             "#276419"
            ]
           ],
           "sequential": [
            [
             0,
             "#0d0887"
            ],
            [
             0.1111111111111111,
             "#46039f"
            ],
            [
             0.2222222222222222,
             "#7201a8"
            ],
            [
             0.3333333333333333,
             "#9c179e"
            ],
            [
             0.4444444444444444,
             "#bd3786"
            ],
            [
             0.5555555555555556,
             "#d8576b"
            ],
            [
             0.6666666666666666,
             "#ed7953"
            ],
            [
             0.7777777777777778,
             "#fb9f3a"
            ],
            [
             0.8888888888888888,
             "#fdca26"
            ],
            [
             1,
             "#f0f921"
            ]
           ],
           "sequentialminus": [
            [
             0,
             "#0d0887"
            ],
            [
             0.1111111111111111,
             "#46039f"
            ],
            [
             0.2222222222222222,
             "#7201a8"
            ],
            [
             0.3333333333333333,
             "#9c179e"
            ],
            [
             0.4444444444444444,
             "#bd3786"
            ],
            [
             0.5555555555555556,
             "#d8576b"
            ],
            [
             0.6666666666666666,
             "#ed7953"
            ],
            [
             0.7777777777777778,
             "#fb9f3a"
            ],
            [
             0.8888888888888888,
             "#fdca26"
            ],
            [
             1,
             "#f0f921"
            ]
           ]
          },
          "colorway": [
           "#636efa",
           "#EF553B",
           "#00cc96",
           "#ab63fa",
           "#FFA15A",
           "#19d3f3",
           "#FF6692",
           "#B6E880",
           "#FF97FF",
           "#FECB52"
          ],
          "font": {
           "color": "#2a3f5f"
          },
          "geo": {
           "bgcolor": "white",
           "lakecolor": "white",
           "landcolor": "#E5ECF6",
           "showlakes": true,
           "showland": true,
           "subunitcolor": "white"
          },
          "hoverlabel": {
           "align": "left"
          },
          "hovermode": "closest",
          "mapbox": {
           "style": "light"
          },
          "paper_bgcolor": "white",
          "plot_bgcolor": "#E5ECF6",
          "polar": {
           "angularaxis": {
            "gridcolor": "white",
            "linecolor": "white",
            "ticks": ""
           },
           "bgcolor": "#E5ECF6",
           "radialaxis": {
            "gridcolor": "white",
            "linecolor": "white",
            "ticks": ""
           }
          },
          "scene": {
           "xaxis": {
            "backgroundcolor": "#E5ECF6",
            "gridcolor": "white",
            "gridwidth": 2,
            "linecolor": "white",
            "showbackground": true,
            "ticks": "",
            "zerolinecolor": "white"
           },
           "yaxis": {
            "backgroundcolor": "#E5ECF6",
            "gridcolor": "white",
            "gridwidth": 2,
            "linecolor": "white",
            "showbackground": true,
            "ticks": "",
            "zerolinecolor": "white"
           },
           "zaxis": {
            "backgroundcolor": "#E5ECF6",
            "gridcolor": "white",
            "gridwidth": 2,
            "linecolor": "white",
            "showbackground": true,
            "ticks": "",
            "zerolinecolor": "white"
           }
          },
          "shapedefaults": {
           "line": {
            "color": "#2a3f5f"
           }
          },
          "ternary": {
           "aaxis": {
            "gridcolor": "white",
            "linecolor": "white",
            "ticks": ""
           },
           "baxis": {
            "gridcolor": "white",
            "linecolor": "white",
            "ticks": ""
           },
           "bgcolor": "#E5ECF6",
           "caxis": {
            "gridcolor": "white",
            "linecolor": "white",
            "ticks": ""
           }
          },
          "title": {
           "x": 0.05
          },
          "xaxis": {
           "automargin": true,
           "gridcolor": "white",
           "linecolor": "white",
           "ticks": "",
           "title": {
            "standoff": 15
           },
           "zerolinecolor": "white",
           "zerolinewidth": 2
          },
          "yaxis": {
           "automargin": true,
           "gridcolor": "white",
           "linecolor": "white",
           "ticks": "",
           "title": {
            "standoff": 15
           },
           "zerolinecolor": "white",
           "zerolinewidth": 2
          }
         }
        },
        "width": 500
       }
      },
      "text/html": [
       "<div>                            <div id=\"3537ec9a-2e0e-4ed8-abae-2c026fa21e95\" class=\"plotly-graph-div\" style=\"height:500px; width:500px;\"></div>            <script type=\"text/javascript\">                require([\"plotly\"], function(Plotly) {                    window.PLOTLYENV=window.PLOTLYENV || {};                                    if (document.getElementById(\"3537ec9a-2e0e-4ed8-abae-2c026fa21e95\")) {                    Plotly.newPlot(                        \"3537ec9a-2e0e-4ed8-abae-2c026fa21e95\",                        [{\"link\":{\"color\":[\"lightskyblue\",\"lightskyblue\",\"lightskyblue\",\"lightgreen\",\"lightgreen\",\"lightgreen\",\"bisque\",\"bisque\",\"bisque\"],\"source\":[0,0,0,1,1,1,2,2,2],\"target\":[3,4,5,3,4,5,3,4,5],\"value\":[50,2,12,0,4,1,3,1,2]},\"node\":{\"color\":[\"dodgerblue\",\"seagreen\",\"orange\",\"lightseagreen\",\"greenyellow\",\"mediumspringgreen\"],\"label\":[\"Foreign-born (outside EU)\\u003cbr\\u003e              segregated\",\"Native-born segregated\",\"Mixed\",\"Low income\",\"High income\",\"Moderate\"]},\"type\":\"sankey\"}],                        {\"template\":{\"data\":{\"histogram2dcontour\":[{\"type\":\"histogram2dcontour\",\"colorbar\":{\"outlinewidth\":0,\"ticks\":\"\"},\"colorscale\":[[0.0,\"#0d0887\"],[0.1111111111111111,\"#46039f\"],[0.2222222222222222,\"#7201a8\"],[0.3333333333333333,\"#9c179e\"],[0.4444444444444444,\"#bd3786\"],[0.5555555555555556,\"#d8576b\"],[0.6666666666666666,\"#ed7953\"],[0.7777777777777778,\"#fb9f3a\"],[0.8888888888888888,\"#fdca26\"],[1.0,\"#f0f921\"]]}],\"choropleth\":[{\"type\":\"choropleth\",\"colorbar\":{\"outlinewidth\":0,\"ticks\":\"\"}}],\"histogram2d\":[{\"type\":\"histogram2d\",\"colorbar\":{\"outlinewidth\":0,\"ticks\":\"\"},\"colorscale\":[[0.0,\"#0d0887\"],[0.1111111111111111,\"#46039f\"],[0.2222222222222222,\"#7201a8\"],[0.3333333333333333,\"#9c179e\"],[0.4444444444444444,\"#bd3786\"],[0.5555555555555556,\"#d8576b\"],[0.6666666666666666,\"#ed7953\"],[0.7777777777777778,\"#fb9f3a\"],[0.8888888888888888,\"#fdca26\"],[1.0,\"#f0f921\"]]}],\"heatmap\":[{\"type\":\"heatmap\",\"colorbar\":{\"outlinewidth\":0,\"ticks\":\"\"},\"colorscale\":[[0.0,\"#0d0887\"],[0.1111111111111111,\"#46039f\"],[0.2222222222222222,\"#7201a8\"],[0.3333333333333333,\"#9c179e\"],[0.4444444444444444,\"#bd3786\"],[0.5555555555555556,\"#d8576b\"],[0.6666666666666666,\"#ed7953\"],[0.7777777777777778,\"#fb9f3a\"],[0.8888888888888888,\"#fdca26\"],[1.0,\"#f0f921\"]]}],\"heatmapgl\":[{\"type\":\"heatmapgl\",\"colorbar\":{\"outlinewidth\":0,\"ticks\":\"\"},\"colorscale\":[[0.0,\"#0d0887\"],[0.1111111111111111,\"#46039f\"],[0.2222222222222222,\"#7201a8\"],[0.3333333333333333,\"#9c179e\"],[0.4444444444444444,\"#bd3786\"],[0.5555555555555556,\"#d8576b\"],[0.6666666666666666,\"#ed7953\"],[0.7777777777777778,\"#fb9f3a\"],[0.8888888888888888,\"#fdca26\"],[1.0,\"#f0f921\"]]}],\"contourcarpet\":[{\"type\":\"contourcarpet\",\"colorbar\":{\"outlinewidth\":0,\"ticks\":\"\"}}],\"contour\":[{\"type\":\"contour\",\"colorbar\":{\"outlinewidth\":0,\"ticks\":\"\"},\"colorscale\":[[0.0,\"#0d0887\"],[0.1111111111111111,\"#46039f\"],[0.2222222222222222,\"#7201a8\"],[0.3333333333333333,\"#9c179e\"],[0.4444444444444444,\"#bd3786\"],[0.5555555555555556,\"#d8576b\"],[0.6666666666666666,\"#ed7953\"],[0.7777777777777778,\"#fb9f3a\"],[0.8888888888888888,\"#fdca26\"],[1.0,\"#f0f921\"]]}],\"surface\":[{\"type\":\"surface\",\"colorbar\":{\"outlinewidth\":0,\"ticks\":\"\"},\"colorscale\":[[0.0,\"#0d0887\"],[0.1111111111111111,\"#46039f\"],[0.2222222222222222,\"#7201a8\"],[0.3333333333333333,\"#9c179e\"],[0.4444444444444444,\"#bd3786\"],[0.5555555555555556,\"#d8576b\"],[0.6666666666666666,\"#ed7953\"],[0.7777777777777778,\"#fb9f3a\"],[0.8888888888888888,\"#fdca26\"],[1.0,\"#f0f921\"]]}],\"mesh3d\":[{\"type\":\"mesh3d\",\"colorbar\":{\"outlinewidth\":0,\"ticks\":\"\"}}],\"scatter\":[{\"fillpattern\":{\"fillmode\":\"overlay\",\"size\":10,\"solidity\":0.2},\"type\":\"scatter\"}],\"parcoords\":[{\"type\":\"parcoords\",\"line\":{\"colorbar\":{\"outlinewidth\":0,\"ticks\":\"\"}}}],\"scatterpolargl\":[{\"type\":\"scatterpolargl\",\"marker\":{\"colorbar\":{\"outlinewidth\":0,\"ticks\":\"\"}}}],\"bar\":[{\"error_x\":{\"color\":\"#2a3f5f\"},\"error_y\":{\"color\":\"#2a3f5f\"},\"marker\":{\"line\":{\"color\":\"#E5ECF6\",\"width\":0.5},\"pattern\":{\"fillmode\":\"overlay\",\"size\":10,\"solidity\":0.2}},\"type\":\"bar\"}],\"scattergeo\":[{\"type\":\"scattergeo\",\"marker\":{\"colorbar\":{\"outlinewidth\":0,\"ticks\":\"\"}}}],\"scatterpolar\":[{\"type\":\"scatterpolar\",\"marker\":{\"colorbar\":{\"outlinewidth\":0,\"ticks\":\"\"}}}],\"histogram\":[{\"marker\":{\"pattern\":{\"fillmode\":\"overlay\",\"size\":10,\"solidity\":0.2}},\"type\":\"histogram\"}],\"scattergl\":[{\"type\":\"scattergl\",\"marker\":{\"colorbar\":{\"outlinewidth\":0,\"ticks\":\"\"}}}],\"scatter3d\":[{\"type\":\"scatter3d\",\"line\":{\"colorbar\":{\"outlinewidth\":0,\"ticks\":\"\"}},\"marker\":{\"colorbar\":{\"outlinewidth\":0,\"ticks\":\"\"}}}],\"scattermapbox\":[{\"type\":\"scattermapbox\",\"marker\":{\"colorbar\":{\"outlinewidth\":0,\"ticks\":\"\"}}}],\"scatterternary\":[{\"type\":\"scatterternary\",\"marker\":{\"colorbar\":{\"outlinewidth\":0,\"ticks\":\"\"}}}],\"scattercarpet\":[{\"type\":\"scattercarpet\",\"marker\":{\"colorbar\":{\"outlinewidth\":0,\"ticks\":\"\"}}}],\"carpet\":[{\"aaxis\":{\"endlinecolor\":\"#2a3f5f\",\"gridcolor\":\"white\",\"linecolor\":\"white\",\"minorgridcolor\":\"white\",\"startlinecolor\":\"#2a3f5f\"},\"baxis\":{\"endlinecolor\":\"#2a3f5f\",\"gridcolor\":\"white\",\"linecolor\":\"white\",\"minorgridcolor\":\"white\",\"startlinecolor\":\"#2a3f5f\"},\"type\":\"carpet\"}],\"table\":[{\"cells\":{\"fill\":{\"color\":\"#EBF0F8\"},\"line\":{\"color\":\"white\"}},\"header\":{\"fill\":{\"color\":\"#C8D4E3\"},\"line\":{\"color\":\"white\"}},\"type\":\"table\"}],\"barpolar\":[{\"marker\":{\"line\":{\"color\":\"#E5ECF6\",\"width\":0.5},\"pattern\":{\"fillmode\":\"overlay\",\"size\":10,\"solidity\":0.2}},\"type\":\"barpolar\"}],\"pie\":[{\"automargin\":true,\"type\":\"pie\"}]},\"layout\":{\"autotypenumbers\":\"strict\",\"colorway\":[\"#636efa\",\"#EF553B\",\"#00cc96\",\"#ab63fa\",\"#FFA15A\",\"#19d3f3\",\"#FF6692\",\"#B6E880\",\"#FF97FF\",\"#FECB52\"],\"font\":{\"color\":\"#2a3f5f\"},\"hovermode\":\"closest\",\"hoverlabel\":{\"align\":\"left\"},\"paper_bgcolor\":\"white\",\"plot_bgcolor\":\"#E5ECF6\",\"polar\":{\"bgcolor\":\"#E5ECF6\",\"angularaxis\":{\"gridcolor\":\"white\",\"linecolor\":\"white\",\"ticks\":\"\"},\"radialaxis\":{\"gridcolor\":\"white\",\"linecolor\":\"white\",\"ticks\":\"\"}},\"ternary\":{\"bgcolor\":\"#E5ECF6\",\"aaxis\":{\"gridcolor\":\"white\",\"linecolor\":\"white\",\"ticks\":\"\"},\"baxis\":{\"gridcolor\":\"white\",\"linecolor\":\"white\",\"ticks\":\"\"},\"caxis\":{\"gridcolor\":\"white\",\"linecolor\":\"white\",\"ticks\":\"\"}},\"coloraxis\":{\"colorbar\":{\"outlinewidth\":0,\"ticks\":\"\"}},\"colorscale\":{\"sequential\":[[0.0,\"#0d0887\"],[0.1111111111111111,\"#46039f\"],[0.2222222222222222,\"#7201a8\"],[0.3333333333333333,\"#9c179e\"],[0.4444444444444444,\"#bd3786\"],[0.5555555555555556,\"#d8576b\"],[0.6666666666666666,\"#ed7953\"],[0.7777777777777778,\"#fb9f3a\"],[0.8888888888888888,\"#fdca26\"],[1.0,\"#f0f921\"]],\"sequentialminus\":[[0.0,\"#0d0887\"],[0.1111111111111111,\"#46039f\"],[0.2222222222222222,\"#7201a8\"],[0.3333333333333333,\"#9c179e\"],[0.4444444444444444,\"#bd3786\"],[0.5555555555555556,\"#d8576b\"],[0.6666666666666666,\"#ed7953\"],[0.7777777777777778,\"#fb9f3a\"],[0.8888888888888888,\"#fdca26\"],[1.0,\"#f0f921\"]],\"diverging\":[[0,\"#8e0152\"],[0.1,\"#c51b7d\"],[0.2,\"#de77ae\"],[0.3,\"#f1b6da\"],[0.4,\"#fde0ef\"],[0.5,\"#f7f7f7\"],[0.6,\"#e6f5d0\"],[0.7,\"#b8e186\"],[0.8,\"#7fbc41\"],[0.9,\"#4d9221\"],[1,\"#276419\"]]},\"xaxis\":{\"gridcolor\":\"white\",\"linecolor\":\"white\",\"ticks\":\"\",\"title\":{\"standoff\":15},\"zerolinecolor\":\"white\",\"automargin\":true,\"zerolinewidth\":2},\"yaxis\":{\"gridcolor\":\"white\",\"linecolor\":\"white\",\"ticks\":\"\",\"title\":{\"standoff\":15},\"zerolinecolor\":\"white\",\"automargin\":true,\"zerolinewidth\":2},\"scene\":{\"xaxis\":{\"backgroundcolor\":\"#E5ECF6\",\"gridcolor\":\"white\",\"linecolor\":\"white\",\"showbackground\":true,\"ticks\":\"\",\"zerolinecolor\":\"white\",\"gridwidth\":2},\"yaxis\":{\"backgroundcolor\":\"#E5ECF6\",\"gridcolor\":\"white\",\"linecolor\":\"white\",\"showbackground\":true,\"ticks\":\"\",\"zerolinecolor\":\"white\",\"gridwidth\":2},\"zaxis\":{\"backgroundcolor\":\"#E5ECF6\",\"gridcolor\":\"white\",\"linecolor\":\"white\",\"showbackground\":true,\"ticks\":\"\",\"zerolinecolor\":\"white\",\"gridwidth\":2}},\"shapedefaults\":{\"line\":{\"color\":\"#2a3f5f\"}},\"annotationdefaults\":{\"arrowcolor\":\"#2a3f5f\",\"arrowhead\":0,\"arrowwidth\":1},\"geo\":{\"bgcolor\":\"white\",\"landcolor\":\"#E5ECF6\",\"subunitcolor\":\"white\",\"showland\":true,\"showlakes\":true,\"lakecolor\":\"white\"},\"title\":{\"x\":0.05},\"mapbox\":{\"style\":\"light\"}}},\"margin\":{\"l\":30,\"r\":30,\"b\":30,\"t\":30,\"pad\":9},\"font\":{\"family\":\"Palatino\",\"size\":16},\"width\":500,\"height\":500},                        {\"responsive\": true}                    ).then(function(){\n",
       "                            \n",
       "var gd = document.getElementById('3537ec9a-2e0e-4ed8-abae-2c026fa21e95');\n",
       "var x = new MutationObserver(function (mutations, observer) {{\n",
       "        var display = window.getComputedStyle(gd).display;\n",
       "        if (!display || display === 'none') {{\n",
       "            console.log([gd, 'removed!']);\n",
       "            Plotly.purge(gd);\n",
       "            observer.disconnect();\n",
       "        }}\n",
       "}});\n",
       "\n",
       "// Listen for the removal of the full notebook cells\n",
       "var notebookContainer = gd.closest('#notebook-container');\n",
       "if (notebookContainer) {{\n",
       "    x.observe(notebookContainer, {childList: true});\n",
       "}}\n",
       "\n",
       "// Listen for the clearing of the current output cell\n",
       "var outputEl = gd.closest('.output');\n",
       "if (outputEl) {{\n",
       "    x.observe(outputEl, {childList: true});\n",
       "}}\n",
       "\n",
       "                        })                };                });            </script>        </div>"
      ]
     },
     "metadata": {},
     "output_type": "display_data"
    }
   ],
   "source": [
    "import plotly.graph_objects as go\n",
    "\n",
    "NODES = dict(           \n",
    "    label = [\"Foreign-born (outside EU)<br>              segregated\",\n",
    "             \"Native-born segregated\", \n",
    "             \"Mixed\", \n",
    "             \"Low income\", \n",
    "             \"High income\", \n",
    "             \"Moderate\"],\n",
    "    color = [\"dodgerblue\",  \n",
    "             \"seagreen\",  \n",
    "             \"orange\", \n",
    "             \"lightseagreen\", \n",
    "             \"greenyellow\", \n",
    "             \"mediumspringgreen\"],\n",
    ")\n",
    "\n",
    "LINKS = dict(   \n",
    "    source = [0, 0, 0, 1, 1, 1, 2, 2, 2],\n",
    "    target = [3, 4, 5, 3, 4, 5, 3, 4, 5],  \n",
    "    value =  [50, 2, 12, 0, 4, 1, 3, 1, 2], \n",
    "    color = [\"lightskyblue\", \"lightskyblue\", \"lightskyblue\",      \n",
    "             \"lightgreen\", \"lightgreen\", \"lightgreen\",  \n",
    "             \"bisque\", \"bisque\", \"bisque\"],\n",
    ")\n",
    "\n",
    "data = go.Sankey(node=NODES, link=LINKS)\n",
    "fig = go.Figure(data)\n",
    "\n",
    "fig.update_layout(\n",
    "    width=500, height=500,\n",
    "    margin=dict(\n",
    "        l=30,\n",
    "        r=30,\n",
    "        b=30,\n",
    "        t=30,\n",
    "        pad=9\n",
    "    ),\n",
    "    font=dict(family='Palatino', size=16),\n",
    ")\n",
    "\n",
    "fig.write_image('result_output/sankey_unavail.pdf', scale=10)\n",
    "fig.show()\n"
   ]
  },
  {
   "cell_type": "code",
   "execution_count": 24,
   "id": "06064c5b",
   "metadata": {},
   "outputs": [
    {
     "data": {
      "application/vnd.plotly.v1+json": {
       "config": {
        "plotlyServerURL": "https://plot.ly"
       },
       "data": [
        {
         "link": {
          "color": [
           "lightskyblue",
           "lightskyblue",
           "lightskyblue",
           "lightgreen",
           "lightgreen",
           "lightgreen",
           "bisque",
           "bisque",
           "bisque"
          ],
          "source": [
           0,
           0,
           0,
           1,
           1,
           1,
           2,
           2,
           2
          ],
          "target": [
           3,
           4,
           5,
           3,
           4,
           5,
           3,
           4,
           5
          ],
          "value": [
           40,
           25,
           87,
           7,
           45,
           32,
           18,
           100,
           178
          ]
         },
         "node": {
          "color": [
           "dodgerblue",
           "seagreen",
           "orange",
           "lightseagreen",
           "greenyellow",
           "mediumspringgreen"
          ],
          "label": [
           "Foreign-born (outside EU)<br>              segregated",
           "Native-born segregated",
           "Mixed",
           "Low income",
           "High income",
           "Moderate"
          ]
         },
         "type": "sankey"
        }
       ],
       "layout": {
        "font": {
         "family": "Palatino",
         "size": 16
        },
        "height": 500,
        "margin": {
         "b": 30,
         "l": 30,
         "pad": 9,
         "r": 30,
         "t": 30
        },
        "template": {
         "data": {
          "bar": [
           {
            "error_x": {
             "color": "#2a3f5f"
            },
            "error_y": {
             "color": "#2a3f5f"
            },
            "marker": {
             "line": {
              "color": "#E5ECF6",
              "width": 0.5
             },
             "pattern": {
              "fillmode": "overlay",
              "size": 10,
              "solidity": 0.2
             }
            },
            "type": "bar"
           }
          ],
          "barpolar": [
           {
            "marker": {
             "line": {
              "color": "#E5ECF6",
              "width": 0.5
             },
             "pattern": {
              "fillmode": "overlay",
              "size": 10,
              "solidity": 0.2
             }
            },
            "type": "barpolar"
           }
          ],
          "carpet": [
           {
            "aaxis": {
             "endlinecolor": "#2a3f5f",
             "gridcolor": "white",
             "linecolor": "white",
             "minorgridcolor": "white",
             "startlinecolor": "#2a3f5f"
            },
            "baxis": {
             "endlinecolor": "#2a3f5f",
             "gridcolor": "white",
             "linecolor": "white",
             "minorgridcolor": "white",
             "startlinecolor": "#2a3f5f"
            },
            "type": "carpet"
           }
          ],
          "choropleth": [
           {
            "colorbar": {
             "outlinewidth": 0,
             "ticks": ""
            },
            "type": "choropleth"
           }
          ],
          "contour": [
           {
            "colorbar": {
             "outlinewidth": 0,
             "ticks": ""
            },
            "colorscale": [
             [
              0,
              "#0d0887"
             ],
             [
              0.1111111111111111,
              "#46039f"
             ],
             [
              0.2222222222222222,
              "#7201a8"
             ],
             [
              0.3333333333333333,
              "#9c179e"
             ],
             [
              0.4444444444444444,
              "#bd3786"
             ],
             [
              0.5555555555555556,
              "#d8576b"
             ],
             [
              0.6666666666666666,
              "#ed7953"
             ],
             [
              0.7777777777777778,
              "#fb9f3a"
             ],
             [
              0.8888888888888888,
              "#fdca26"
             ],
             [
              1,
              "#f0f921"
             ]
            ],
            "type": "contour"
           }
          ],
          "contourcarpet": [
           {
            "colorbar": {
             "outlinewidth": 0,
             "ticks": ""
            },
            "type": "contourcarpet"
           }
          ],
          "heatmap": [
           {
            "colorbar": {
             "outlinewidth": 0,
             "ticks": ""
            },
            "colorscale": [
             [
              0,
              "#0d0887"
             ],
             [
              0.1111111111111111,
              "#46039f"
             ],
             [
              0.2222222222222222,
              "#7201a8"
             ],
             [
              0.3333333333333333,
              "#9c179e"
             ],
             [
              0.4444444444444444,
              "#bd3786"
             ],
             [
              0.5555555555555556,
              "#d8576b"
             ],
             [
              0.6666666666666666,
              "#ed7953"
             ],
             [
              0.7777777777777778,
              "#fb9f3a"
             ],
             [
              0.8888888888888888,
              "#fdca26"
             ],
             [
              1,
              "#f0f921"
             ]
            ],
            "type": "heatmap"
           }
          ],
          "heatmapgl": [
           {
            "colorbar": {
             "outlinewidth": 0,
             "ticks": ""
            },
            "colorscale": [
             [
              0,
              "#0d0887"
             ],
             [
              0.1111111111111111,
              "#46039f"
             ],
             [
              0.2222222222222222,
              "#7201a8"
             ],
             [
              0.3333333333333333,
              "#9c179e"
             ],
             [
              0.4444444444444444,
              "#bd3786"
             ],
             [
              0.5555555555555556,
              "#d8576b"
             ],
             [
              0.6666666666666666,
              "#ed7953"
             ],
             [
              0.7777777777777778,
              "#fb9f3a"
             ],
             [
              0.8888888888888888,
              "#fdca26"
             ],
             [
              1,
              "#f0f921"
             ]
            ],
            "type": "heatmapgl"
           }
          ],
          "histogram": [
           {
            "marker": {
             "pattern": {
              "fillmode": "overlay",
              "size": 10,
              "solidity": 0.2
             }
            },
            "type": "histogram"
           }
          ],
          "histogram2d": [
           {
            "colorbar": {
             "outlinewidth": 0,
             "ticks": ""
            },
            "colorscale": [
             [
              0,
              "#0d0887"
             ],
             [
              0.1111111111111111,
              "#46039f"
             ],
             [
              0.2222222222222222,
              "#7201a8"
             ],
             [
              0.3333333333333333,
              "#9c179e"
             ],
             [
              0.4444444444444444,
              "#bd3786"
             ],
             [
              0.5555555555555556,
              "#d8576b"
             ],
             [
              0.6666666666666666,
              "#ed7953"
             ],
             [
              0.7777777777777778,
              "#fb9f3a"
             ],
             [
              0.8888888888888888,
              "#fdca26"
             ],
             [
              1,
              "#f0f921"
             ]
            ],
            "type": "histogram2d"
           }
          ],
          "histogram2dcontour": [
           {
            "colorbar": {
             "outlinewidth": 0,
             "ticks": ""
            },
            "colorscale": [
             [
              0,
              "#0d0887"
             ],
             [
              0.1111111111111111,
              "#46039f"
             ],
             [
              0.2222222222222222,
              "#7201a8"
             ],
             [
              0.3333333333333333,
              "#9c179e"
             ],
             [
              0.4444444444444444,
              "#bd3786"
             ],
             [
              0.5555555555555556,
              "#d8576b"
             ],
             [
              0.6666666666666666,
              "#ed7953"
             ],
             [
              0.7777777777777778,
              "#fb9f3a"
             ],
             [
              0.8888888888888888,
              "#fdca26"
             ],
             [
              1,
              "#f0f921"
             ]
            ],
            "type": "histogram2dcontour"
           }
          ],
          "mesh3d": [
           {
            "colorbar": {
             "outlinewidth": 0,
             "ticks": ""
            },
            "type": "mesh3d"
           }
          ],
          "parcoords": [
           {
            "line": {
             "colorbar": {
              "outlinewidth": 0,
              "ticks": ""
             }
            },
            "type": "parcoords"
           }
          ],
          "pie": [
           {
            "automargin": true,
            "type": "pie"
           }
          ],
          "scatter": [
           {
            "fillpattern": {
             "fillmode": "overlay",
             "size": 10,
             "solidity": 0.2
            },
            "type": "scatter"
           }
          ],
          "scatter3d": [
           {
            "line": {
             "colorbar": {
              "outlinewidth": 0,
              "ticks": ""
             }
            },
            "marker": {
             "colorbar": {
              "outlinewidth": 0,
              "ticks": ""
             }
            },
            "type": "scatter3d"
           }
          ],
          "scattercarpet": [
           {
            "marker": {
             "colorbar": {
              "outlinewidth": 0,
              "ticks": ""
             }
            },
            "type": "scattercarpet"
           }
          ],
          "scattergeo": [
           {
            "marker": {
             "colorbar": {
              "outlinewidth": 0,
              "ticks": ""
             }
            },
            "type": "scattergeo"
           }
          ],
          "scattergl": [
           {
            "marker": {
             "colorbar": {
              "outlinewidth": 0,
              "ticks": ""
             }
            },
            "type": "scattergl"
           }
          ],
          "scattermapbox": [
           {
            "marker": {
             "colorbar": {
              "outlinewidth": 0,
              "ticks": ""
             }
            },
            "type": "scattermapbox"
           }
          ],
          "scatterpolar": [
           {
            "marker": {
             "colorbar": {
              "outlinewidth": 0,
              "ticks": ""
             }
            },
            "type": "scatterpolar"
           }
          ],
          "scatterpolargl": [
           {
            "marker": {
             "colorbar": {
              "outlinewidth": 0,
              "ticks": ""
             }
            },
            "type": "scatterpolargl"
           }
          ],
          "scatterternary": [
           {
            "marker": {
             "colorbar": {
              "outlinewidth": 0,
              "ticks": ""
             }
            },
            "type": "scatterternary"
           }
          ],
          "surface": [
           {
            "colorbar": {
             "outlinewidth": 0,
             "ticks": ""
            },
            "colorscale": [
             [
              0,
              "#0d0887"
             ],
             [
              0.1111111111111111,
              "#46039f"
             ],
             [
              0.2222222222222222,
              "#7201a8"
             ],
             [
              0.3333333333333333,
              "#9c179e"
             ],
             [
              0.4444444444444444,
              "#bd3786"
             ],
             [
              0.5555555555555556,
              "#d8576b"
             ],
             [
              0.6666666666666666,
              "#ed7953"
             ],
             [
              0.7777777777777778,
              "#fb9f3a"
             ],
             [
              0.8888888888888888,
              "#fdca26"
             ],
             [
              1,
              "#f0f921"
             ]
            ],
            "type": "surface"
           }
          ],
          "table": [
           {
            "cells": {
             "fill": {
              "color": "#EBF0F8"
             },
             "line": {
              "color": "white"
             }
            },
            "header": {
             "fill": {
              "color": "#C8D4E3"
             },
             "line": {
              "color": "white"
             }
            },
            "type": "table"
           }
          ]
         },
         "layout": {
          "annotationdefaults": {
           "arrowcolor": "#2a3f5f",
           "arrowhead": 0,
           "arrowwidth": 1
          },
          "autotypenumbers": "strict",
          "coloraxis": {
           "colorbar": {
            "outlinewidth": 0,
            "ticks": ""
           }
          },
          "colorscale": {
           "diverging": [
            [
             0,
             "#8e0152"
            ],
            [
             0.1,
             "#c51b7d"
            ],
            [
             0.2,
             "#de77ae"
            ],
            [
             0.3,
             "#f1b6da"
            ],
            [
             0.4,
             "#fde0ef"
            ],
            [
             0.5,
             "#f7f7f7"
            ],
            [
             0.6,
             "#e6f5d0"
            ],
            [
             0.7,
             "#b8e186"
            ],
            [
             0.8,
             "#7fbc41"
            ],
            [
             0.9,
             "#4d9221"
            ],
            [
             1,
             "#276419"
            ]
           ],
           "sequential": [
            [
             0,
             "#0d0887"
            ],
            [
             0.1111111111111111,
             "#46039f"
            ],
            [
             0.2222222222222222,
             "#7201a8"
            ],
            [
             0.3333333333333333,
             "#9c179e"
            ],
            [
             0.4444444444444444,
             "#bd3786"
            ],
            [
             0.5555555555555556,
             "#d8576b"
            ],
            [
             0.6666666666666666,
             "#ed7953"
            ],
            [
             0.7777777777777778,
             "#fb9f3a"
            ],
            [
             0.8888888888888888,
             "#fdca26"
            ],
            [
             1,
             "#f0f921"
            ]
           ],
           "sequentialminus": [
            [
             0,
             "#0d0887"
            ],
            [
             0.1111111111111111,
             "#46039f"
            ],
            [
             0.2222222222222222,
             "#7201a8"
            ],
            [
             0.3333333333333333,
             "#9c179e"
            ],
            [
             0.4444444444444444,
             "#bd3786"
            ],
            [
             0.5555555555555556,
             "#d8576b"
            ],
            [
             0.6666666666666666,
             "#ed7953"
            ],
            [
             0.7777777777777778,
             "#fb9f3a"
            ],
            [
             0.8888888888888888,
             "#fdca26"
            ],
            [
             1,
             "#f0f921"
            ]
           ]
          },
          "colorway": [
           "#636efa",
           "#EF553B",
           "#00cc96",
           "#ab63fa",
           "#FFA15A",
           "#19d3f3",
           "#FF6692",
           "#B6E880",
           "#FF97FF",
           "#FECB52"
          ],
          "font": {
           "color": "#2a3f5f"
          },
          "geo": {
           "bgcolor": "white",
           "lakecolor": "white",
           "landcolor": "#E5ECF6",
           "showlakes": true,
           "showland": true,
           "subunitcolor": "white"
          },
          "hoverlabel": {
           "align": "left"
          },
          "hovermode": "closest",
          "mapbox": {
           "style": "light"
          },
          "paper_bgcolor": "white",
          "plot_bgcolor": "#E5ECF6",
          "polar": {
           "angularaxis": {
            "gridcolor": "white",
            "linecolor": "white",
            "ticks": ""
           },
           "bgcolor": "#E5ECF6",
           "radialaxis": {
            "gridcolor": "white",
            "linecolor": "white",
            "ticks": ""
           }
          },
          "scene": {
           "xaxis": {
            "backgroundcolor": "#E5ECF6",
            "gridcolor": "white",
            "gridwidth": 2,
            "linecolor": "white",
            "showbackground": true,
            "ticks": "",
            "zerolinecolor": "white"
           },
           "yaxis": {
            "backgroundcolor": "#E5ECF6",
            "gridcolor": "white",
            "gridwidth": 2,
            "linecolor": "white",
            "showbackground": true,
            "ticks": "",
            "zerolinecolor": "white"
           },
           "zaxis": {
            "backgroundcolor": "#E5ECF6",
            "gridcolor": "white",
            "gridwidth": 2,
            "linecolor": "white",
            "showbackground": true,
            "ticks": "",
            "zerolinecolor": "white"
           }
          },
          "shapedefaults": {
           "line": {
            "color": "#2a3f5f"
           }
          },
          "ternary": {
           "aaxis": {
            "gridcolor": "white",
            "linecolor": "white",
            "ticks": ""
           },
           "baxis": {
            "gridcolor": "white",
            "linecolor": "white",
            "ticks": ""
           },
           "bgcolor": "#E5ECF6",
           "caxis": {
            "gridcolor": "white",
            "linecolor": "white",
            "ticks": ""
           }
          },
          "title": {
           "x": 0.05
          },
          "xaxis": {
           "automargin": true,
           "gridcolor": "white",
           "linecolor": "white",
           "ticks": "",
           "title": {
            "standoff": 15
           },
           "zerolinecolor": "white",
           "zerolinewidth": 2
          },
          "yaxis": {
           "automargin": true,
           "gridcolor": "white",
           "linecolor": "white",
           "ticks": "",
           "title": {
            "standoff": 15
           },
           "zerolinecolor": "white",
           "zerolinewidth": 2
          }
         }
        },
        "width": 500
       }
      },
      "text/html": [
       "<div>                            <div id=\"ced85f5d-4fac-4ae3-a6cc-1c4ea9135908\" class=\"plotly-graph-div\" style=\"height:500px; width:500px;\"></div>            <script type=\"text/javascript\">                require([\"plotly\"], function(Plotly) {                    window.PLOTLYENV=window.PLOTLYENV || {};                                    if (document.getElementById(\"ced85f5d-4fac-4ae3-a6cc-1c4ea9135908\")) {                    Plotly.newPlot(                        \"ced85f5d-4fac-4ae3-a6cc-1c4ea9135908\",                        [{\"link\":{\"color\":[\"lightskyblue\",\"lightskyblue\",\"lightskyblue\",\"lightgreen\",\"lightgreen\",\"lightgreen\",\"bisque\",\"bisque\",\"bisque\"],\"source\":[0,0,0,1,1,1,2,2,2],\"target\":[3,4,5,3,4,5,3,4,5],\"value\":[40,25,87,7,45,32,18,100,178]},\"node\":{\"color\":[\"dodgerblue\",\"seagreen\",\"orange\",\"lightseagreen\",\"greenyellow\",\"mediumspringgreen\"],\"label\":[\"Foreign-born (outside EU)\\u003cbr\\u003e              segregated\",\"Native-born segregated\",\"Mixed\",\"Low income\",\"High income\",\"Moderate\"]},\"type\":\"sankey\"}],                        {\"template\":{\"data\":{\"histogram2dcontour\":[{\"type\":\"histogram2dcontour\",\"colorbar\":{\"outlinewidth\":0,\"ticks\":\"\"},\"colorscale\":[[0.0,\"#0d0887\"],[0.1111111111111111,\"#46039f\"],[0.2222222222222222,\"#7201a8\"],[0.3333333333333333,\"#9c179e\"],[0.4444444444444444,\"#bd3786\"],[0.5555555555555556,\"#d8576b\"],[0.6666666666666666,\"#ed7953\"],[0.7777777777777778,\"#fb9f3a\"],[0.8888888888888888,\"#fdca26\"],[1.0,\"#f0f921\"]]}],\"choropleth\":[{\"type\":\"choropleth\",\"colorbar\":{\"outlinewidth\":0,\"ticks\":\"\"}}],\"histogram2d\":[{\"type\":\"histogram2d\",\"colorbar\":{\"outlinewidth\":0,\"ticks\":\"\"},\"colorscale\":[[0.0,\"#0d0887\"],[0.1111111111111111,\"#46039f\"],[0.2222222222222222,\"#7201a8\"],[0.3333333333333333,\"#9c179e\"],[0.4444444444444444,\"#bd3786\"],[0.5555555555555556,\"#d8576b\"],[0.6666666666666666,\"#ed7953\"],[0.7777777777777778,\"#fb9f3a\"],[0.8888888888888888,\"#fdca26\"],[1.0,\"#f0f921\"]]}],\"heatmap\":[{\"type\":\"heatmap\",\"colorbar\":{\"outlinewidth\":0,\"ticks\":\"\"},\"colorscale\":[[0.0,\"#0d0887\"],[0.1111111111111111,\"#46039f\"],[0.2222222222222222,\"#7201a8\"],[0.3333333333333333,\"#9c179e\"],[0.4444444444444444,\"#bd3786\"],[0.5555555555555556,\"#d8576b\"],[0.6666666666666666,\"#ed7953\"],[0.7777777777777778,\"#fb9f3a\"],[0.8888888888888888,\"#fdca26\"],[1.0,\"#f0f921\"]]}],\"heatmapgl\":[{\"type\":\"heatmapgl\",\"colorbar\":{\"outlinewidth\":0,\"ticks\":\"\"},\"colorscale\":[[0.0,\"#0d0887\"],[0.1111111111111111,\"#46039f\"],[0.2222222222222222,\"#7201a8\"],[0.3333333333333333,\"#9c179e\"],[0.4444444444444444,\"#bd3786\"],[0.5555555555555556,\"#d8576b\"],[0.6666666666666666,\"#ed7953\"],[0.7777777777777778,\"#fb9f3a\"],[0.8888888888888888,\"#fdca26\"],[1.0,\"#f0f921\"]]}],\"contourcarpet\":[{\"type\":\"contourcarpet\",\"colorbar\":{\"outlinewidth\":0,\"ticks\":\"\"}}],\"contour\":[{\"type\":\"contour\",\"colorbar\":{\"outlinewidth\":0,\"ticks\":\"\"},\"colorscale\":[[0.0,\"#0d0887\"],[0.1111111111111111,\"#46039f\"],[0.2222222222222222,\"#7201a8\"],[0.3333333333333333,\"#9c179e\"],[0.4444444444444444,\"#bd3786\"],[0.5555555555555556,\"#d8576b\"],[0.6666666666666666,\"#ed7953\"],[0.7777777777777778,\"#fb9f3a\"],[0.8888888888888888,\"#fdca26\"],[1.0,\"#f0f921\"]]}],\"surface\":[{\"type\":\"surface\",\"colorbar\":{\"outlinewidth\":0,\"ticks\":\"\"},\"colorscale\":[[0.0,\"#0d0887\"],[0.1111111111111111,\"#46039f\"],[0.2222222222222222,\"#7201a8\"],[0.3333333333333333,\"#9c179e\"],[0.4444444444444444,\"#bd3786\"],[0.5555555555555556,\"#d8576b\"],[0.6666666666666666,\"#ed7953\"],[0.7777777777777778,\"#fb9f3a\"],[0.8888888888888888,\"#fdca26\"],[1.0,\"#f0f921\"]]}],\"mesh3d\":[{\"type\":\"mesh3d\",\"colorbar\":{\"outlinewidth\":0,\"ticks\":\"\"}}],\"scatter\":[{\"fillpattern\":{\"fillmode\":\"overlay\",\"size\":10,\"solidity\":0.2},\"type\":\"scatter\"}],\"parcoords\":[{\"type\":\"parcoords\",\"line\":{\"colorbar\":{\"outlinewidth\":0,\"ticks\":\"\"}}}],\"scatterpolargl\":[{\"type\":\"scatterpolargl\",\"marker\":{\"colorbar\":{\"outlinewidth\":0,\"ticks\":\"\"}}}],\"bar\":[{\"error_x\":{\"color\":\"#2a3f5f\"},\"error_y\":{\"color\":\"#2a3f5f\"},\"marker\":{\"line\":{\"color\":\"#E5ECF6\",\"width\":0.5},\"pattern\":{\"fillmode\":\"overlay\",\"size\":10,\"solidity\":0.2}},\"type\":\"bar\"}],\"scattergeo\":[{\"type\":\"scattergeo\",\"marker\":{\"colorbar\":{\"outlinewidth\":0,\"ticks\":\"\"}}}],\"scatterpolar\":[{\"type\":\"scatterpolar\",\"marker\":{\"colorbar\":{\"outlinewidth\":0,\"ticks\":\"\"}}}],\"histogram\":[{\"marker\":{\"pattern\":{\"fillmode\":\"overlay\",\"size\":10,\"solidity\":0.2}},\"type\":\"histogram\"}],\"scattergl\":[{\"type\":\"scattergl\",\"marker\":{\"colorbar\":{\"outlinewidth\":0,\"ticks\":\"\"}}}],\"scatter3d\":[{\"type\":\"scatter3d\",\"line\":{\"colorbar\":{\"outlinewidth\":0,\"ticks\":\"\"}},\"marker\":{\"colorbar\":{\"outlinewidth\":0,\"ticks\":\"\"}}}],\"scattermapbox\":[{\"type\":\"scattermapbox\",\"marker\":{\"colorbar\":{\"outlinewidth\":0,\"ticks\":\"\"}}}],\"scatterternary\":[{\"type\":\"scatterternary\",\"marker\":{\"colorbar\":{\"outlinewidth\":0,\"ticks\":\"\"}}}],\"scattercarpet\":[{\"type\":\"scattercarpet\",\"marker\":{\"colorbar\":{\"outlinewidth\":0,\"ticks\":\"\"}}}],\"carpet\":[{\"aaxis\":{\"endlinecolor\":\"#2a3f5f\",\"gridcolor\":\"white\",\"linecolor\":\"white\",\"minorgridcolor\":\"white\",\"startlinecolor\":\"#2a3f5f\"},\"baxis\":{\"endlinecolor\":\"#2a3f5f\",\"gridcolor\":\"white\",\"linecolor\":\"white\",\"minorgridcolor\":\"white\",\"startlinecolor\":\"#2a3f5f\"},\"type\":\"carpet\"}],\"table\":[{\"cells\":{\"fill\":{\"color\":\"#EBF0F8\"},\"line\":{\"color\":\"white\"}},\"header\":{\"fill\":{\"color\":\"#C8D4E3\"},\"line\":{\"color\":\"white\"}},\"type\":\"table\"}],\"barpolar\":[{\"marker\":{\"line\":{\"color\":\"#E5ECF6\",\"width\":0.5},\"pattern\":{\"fillmode\":\"overlay\",\"size\":10,\"solidity\":0.2}},\"type\":\"barpolar\"}],\"pie\":[{\"automargin\":true,\"type\":\"pie\"}]},\"layout\":{\"autotypenumbers\":\"strict\",\"colorway\":[\"#636efa\",\"#EF553B\",\"#00cc96\",\"#ab63fa\",\"#FFA15A\",\"#19d3f3\",\"#FF6692\",\"#B6E880\",\"#FF97FF\",\"#FECB52\"],\"font\":{\"color\":\"#2a3f5f\"},\"hovermode\":\"closest\",\"hoverlabel\":{\"align\":\"left\"},\"paper_bgcolor\":\"white\",\"plot_bgcolor\":\"#E5ECF6\",\"polar\":{\"bgcolor\":\"#E5ECF6\",\"angularaxis\":{\"gridcolor\":\"white\",\"linecolor\":\"white\",\"ticks\":\"\"},\"radialaxis\":{\"gridcolor\":\"white\",\"linecolor\":\"white\",\"ticks\":\"\"}},\"ternary\":{\"bgcolor\":\"#E5ECF6\",\"aaxis\":{\"gridcolor\":\"white\",\"linecolor\":\"white\",\"ticks\":\"\"},\"baxis\":{\"gridcolor\":\"white\",\"linecolor\":\"white\",\"ticks\":\"\"},\"caxis\":{\"gridcolor\":\"white\",\"linecolor\":\"white\",\"ticks\":\"\"}},\"coloraxis\":{\"colorbar\":{\"outlinewidth\":0,\"ticks\":\"\"}},\"colorscale\":{\"sequential\":[[0.0,\"#0d0887\"],[0.1111111111111111,\"#46039f\"],[0.2222222222222222,\"#7201a8\"],[0.3333333333333333,\"#9c179e\"],[0.4444444444444444,\"#bd3786\"],[0.5555555555555556,\"#d8576b\"],[0.6666666666666666,\"#ed7953\"],[0.7777777777777778,\"#fb9f3a\"],[0.8888888888888888,\"#fdca26\"],[1.0,\"#f0f921\"]],\"sequentialminus\":[[0.0,\"#0d0887\"],[0.1111111111111111,\"#46039f\"],[0.2222222222222222,\"#7201a8\"],[0.3333333333333333,\"#9c179e\"],[0.4444444444444444,\"#bd3786\"],[0.5555555555555556,\"#d8576b\"],[0.6666666666666666,\"#ed7953\"],[0.7777777777777778,\"#fb9f3a\"],[0.8888888888888888,\"#fdca26\"],[1.0,\"#f0f921\"]],\"diverging\":[[0,\"#8e0152\"],[0.1,\"#c51b7d\"],[0.2,\"#de77ae\"],[0.3,\"#f1b6da\"],[0.4,\"#fde0ef\"],[0.5,\"#f7f7f7\"],[0.6,\"#e6f5d0\"],[0.7,\"#b8e186\"],[0.8,\"#7fbc41\"],[0.9,\"#4d9221\"],[1,\"#276419\"]]},\"xaxis\":{\"gridcolor\":\"white\",\"linecolor\":\"white\",\"ticks\":\"\",\"title\":{\"standoff\":15},\"zerolinecolor\":\"white\",\"automargin\":true,\"zerolinewidth\":2},\"yaxis\":{\"gridcolor\":\"white\",\"linecolor\":\"white\",\"ticks\":\"\",\"title\":{\"standoff\":15},\"zerolinecolor\":\"white\",\"automargin\":true,\"zerolinewidth\":2},\"scene\":{\"xaxis\":{\"backgroundcolor\":\"#E5ECF6\",\"gridcolor\":\"white\",\"linecolor\":\"white\",\"showbackground\":true,\"ticks\":\"\",\"zerolinecolor\":\"white\",\"gridwidth\":2},\"yaxis\":{\"backgroundcolor\":\"#E5ECF6\",\"gridcolor\":\"white\",\"linecolor\":\"white\",\"showbackground\":true,\"ticks\":\"\",\"zerolinecolor\":\"white\",\"gridwidth\":2},\"zaxis\":{\"backgroundcolor\":\"#E5ECF6\",\"gridcolor\":\"white\",\"linecolor\":\"white\",\"showbackground\":true,\"ticks\":\"\",\"zerolinecolor\":\"white\",\"gridwidth\":2}},\"shapedefaults\":{\"line\":{\"color\":\"#2a3f5f\"}},\"annotationdefaults\":{\"arrowcolor\":\"#2a3f5f\",\"arrowhead\":0,\"arrowwidth\":1},\"geo\":{\"bgcolor\":\"white\",\"landcolor\":\"#E5ECF6\",\"subunitcolor\":\"white\",\"showland\":true,\"showlakes\":true,\"lakecolor\":\"white\"},\"title\":{\"x\":0.05},\"mapbox\":{\"style\":\"light\"}}},\"margin\":{\"l\":30,\"r\":30,\"b\":30,\"t\":30,\"pad\":9},\"font\":{\"family\":\"Palatino\",\"size\":16},\"width\":500,\"height\":500},                        {\"responsive\": true}                    ).then(function(){\n",
       "                            \n",
       "var gd = document.getElementById('ced85f5d-4fac-4ae3-a6cc-1c4ea9135908');\n",
       "var x = new MutationObserver(function (mutations, observer) {{\n",
       "        var display = window.getComputedStyle(gd).display;\n",
       "        if (!display || display === 'none') {{\n",
       "            console.log([gd, 'removed!']);\n",
       "            Plotly.purge(gd);\n",
       "            observer.disconnect();\n",
       "        }}\n",
       "}});\n",
       "\n",
       "// Listen for the removal of the full notebook cells\n",
       "var notebookContainer = gd.closest('#notebook-container');\n",
       "if (notebookContainer) {{\n",
       "    x.observe(notebookContainer, {childList: true});\n",
       "}}\n",
       "\n",
       "// Listen for the clearing of the current output cell\n",
       "var outputEl = gd.closest('.output');\n",
       "if (outputEl) {{\n",
       "    x.observe(outputEl, {childList: true});\n",
       "}}\n",
       "\n",
       "                        })                };                });            </script>        </div>"
      ]
     },
     "metadata": {},
     "output_type": "display_data"
    }
   ],
   "source": [
    "import plotly.graph_objects as go\n",
    "\n",
    "NODES = dict(           \n",
    "    label = [\"Foreign-born (outside EU)<br>              segregated\", \"Native-born segregated\", \"Mixed\", \"Low income\", \"High income\", \"Moderate\"],\n",
    "    color = [\"dodgerblue\",  \"seagreen\",  \"orange\", \"lightseagreen\", \"greenyellow\", \"mediumspringgreen\" ])\n",
    "\n",
    "LINKS = dict(   \n",
    "  source = [  0,  0,  0,  1,  1,  1,  2,  2,  2],\n",
    "  target = [  3,  4,  5,  3,  4,  5,  3,  4,  5], \n",
    "  value =  [ 40, 25, 87,  7, 45, 32, 18, 100, 178],\n",
    "\n",
    "  color = [   \n",
    "  \"lightskyblue\",   \"lightskyblue\",   \"lightskyblue\",      \n",
    "  \"lightgreen\", \"lightgreen\", \"lightgreen\",  \n",
    "  \"bisque\",       \"bisque\",       \"bisque\"],)\n",
    "\n",
    "\n",
    "data = go.Sankey(node = NODES, link = LINKS)\n",
    "fig = go.Figure(data)\n",
    "\n",
    "fig.update_layout(\n",
    "    width=500, height=500,\n",
    "    margin=dict(\n",
    "        l=30,\n",
    "        r=30,\n",
    "        b=30,\n",
    "        t=30,\n",
    "        pad=9\n",
    "    ),\n",
    "    font = dict(family='Palatino', size=16),)\n",
    "#     title=\"Escooter-unavailable Region\",  font_size=16)\n",
    "fig.write_image('result_output/sankey_avail.pdf', scale=10)\n",
    "fig.show()"
   ]
  },
  {
   "cell_type": "code",
   "execution_count": null,
   "id": "bcef99dc",
   "metadata": {},
   "outputs": [],
   "source": []
  }
 ],
 "metadata": {
  "kernelspec": {
   "display_name": "Python 3 (ipykernel)",
   "language": "python",
   "name": "python3"
  },
  "language_info": {
   "codemirror_mode": {
    "name": "ipython",
    "version": 3
   },
   "file_extension": ".py",
   "mimetype": "text/x-python",
   "name": "python",
   "nbconvert_exporter": "python",
   "pygments_lexer": "ipython3",
   "version": "3.9.7"
  },
  "toc": {
   "base_numbering": 1,
   "nav_menu": {},
   "number_sections": true,
   "sideBar": true,
   "skip_h1_title": false,
   "title_cell": "Table of Contents",
   "title_sidebar": "Contents",
   "toc_cell": false,
   "toc_position": {
    "height": "calc(100% - 180px)",
    "left": "10px",
    "top": "150px",
    "width": "384px"
   },
   "toc_section_display": true,
   "toc_window_display": true
  },
  "varInspector": {
   "cols": {
    "lenName": 16,
    "lenType": 16,
    "lenVar": 40
   },
   "kernels_config": {
    "python": {
     "delete_cmd_postfix": "",
     "delete_cmd_prefix": "del ",
     "library": "var_list.py",
     "varRefreshCmd": "print(var_dic_list())"
    },
    "r": {
     "delete_cmd_postfix": ") ",
     "delete_cmd_prefix": "rm(",
     "library": "var_list.r",
     "varRefreshCmd": "cat(var_dic_list()) "
    }
   },
   "types_to_exclude": [
    "module",
    "function",
    "builtin_function_or_method",
    "instance",
    "_Feature"
   ],
   "window_display": false
  }
 },
 "nbformat": 4,
 "nbformat_minor": 5
}
